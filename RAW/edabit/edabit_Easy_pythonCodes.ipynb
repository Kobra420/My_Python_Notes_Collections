{
 "cells": [
  {
   "cell_type": "code",
   "execution_count": 9,
   "metadata": {},
   "outputs": [
    {
     "name": "stdout",
     "output_type": "stream",
     "text": [
      "Price: 100  Dicount: 75 Dicounted Price: 25.0\n",
      "Price: 211  Dicount: 50 Dicounted Price: 105.5\n",
      "Price: 593  Dicount: 61 Dicounted Price: 231.27\n",
      "Price: 1693  Dicount: 80 Dicounted Price: 338.6\n",
      "Price: 700  Dicount: 10 Dicounted Price: 630.0\n"
     ]
    }
   ],
   "source": [
    "# Find the Discount Final Price\n",
    "def dis(price, discount):\n",
    "    return round((price * (1 - discount / 100)),2)\n",
    "try:\n",
    "    assert dis(100, 75), 25\n",
    "    assert dis(211, 50), 105.5\n",
    "    assert dis(593, 61), 231.27\n",
    "    assert dis(1693, 80), 338.6\n",
    "    assert dis(700, 10), 630\n",
    "except SyntaxWarning:\n",
    "    print(\"remove parentheses? \")    \n",
    "price = 100\n",
    "discount = 75\n",
    "print(f\"Price: {price}  Dicount: {discount} Dicounted Price: {dis(price,discount)}\")\n",
    "price = 211\n",
    "discount = 50\n",
    "print(f\"Price: {price}  Dicount: {discount} Dicounted Price: {dis(price,discount)}\")\n",
    "price = 593\n",
    "discount = 61\n",
    "print(f\"Price: {price}  Dicount: {discount} Dicounted Price: {dis(price,discount)}\")\n",
    "price = 1693\n",
    "discount = 80\n",
    "print(f\"Price: {price}  Dicount: {discount} Dicounted Price: {dis(price,discount)}\")\n",
    "price = 700\n",
    "discount = 10\n",
    "print(f\"Price: {price}  Dicount: {discount} Dicounted Price: {dis(price,discount)}\")\n"
   ]
  },
  {
   "cell_type": "code",
   "execution_count": 4,
   "metadata": {},
   "outputs": [
    {
     "name": "stdout",
     "output_type": "stream",
     "text": [
      "radian: 1 degree: 57.3\n",
      "radian: 5 degree: 286.5\n",
      "radian: 7 degree: 401.1\n",
      "radian: 60 degree: 3437.7\n",
      "radian: 100 degree: 5729.6\n",
      "radian: 180 degree: 10313.2\n"
     ]
    }
   ],
   "source": [
    "# radians_to_degrees\n",
    "import math\n",
    "global rad\n",
    "def radians_to_degrees(rad):\n",
    "    global degree\n",
    "    degree = round((rad * (180/math.pi)),1)\n",
    "    return degree\n",
    "try:\n",
    "    assert radians_to_degrees(1), 57.3\n",
    "    assert radians_to_degrees(5), 286.5\n",
    "    assert radians_to_degrees(7), 401.1\n",
    "    assert radians_to_degrees(6), 3437.7\n",
    "    assert radians_to_degrees(100), 5729.6\n",
    "    assert radians_to_degrees(180), 10313.2\n",
    "\n",
    "except SyntaxWarning:\n",
    "    print(\"remove parentheses? \")\n",
    "\n",
    "rad = 1\n",
    "print(f\"radian: {rad} degree: {radians_to_degrees(rad)}\")\n",
    "rad = 5\n",
    "print(f\"radian: {rad} degree: {radians_to_degrees(rad)}\")\n",
    "rad = 7\n",
    "print(f\"radian: {rad} degree: {radians_to_degrees(rad)}\")\n",
    "rad = 60\n",
    "print(f\"radian: {rad} degree: {radians_to_degrees(rad)}\")\n",
    "rad = 100\n",
    "print(f\"radian: {rad} degree: {radians_to_degrees(rad)}\")\n",
    "rad = 180\n",
    "print(f\"radian: {rad} degree: {radians_to_degrees(rad)}\")"
   ]
  },
  {
   "cell_type": "code",
   "execution_count": 10,
   "metadata": {},
   "outputs": [
    {
     "name": "stdout",
     "output_type": "stream",
     "text": [
      "in... in... incredible?\n"
     ]
    }
   ],
   "source": [
    "# Stuttering Function\n",
    "word = \"incredible\"\n",
    "def stutter(word):\n",
    "    return word[0:2] + \"... \" + word[0:2] + \"... \" + word + \"?\"\n",
    "print(stutter(word))\n",
    "# print(f\"{word[1]}\")\n",
    "\n",
    "# actual_param, expected_param = [\n",
    "# \t\"increasing\", \"adventures\", \"enticing\", \"unacceptable\", \"accountable\", \"incredible\", \"exquisite\",\n",
    "# \t\"am\", \"enduring\", \"outstanding\", \"astonishing\", \"astounding\", \"impressive\", \"revolutionize\",\n",
    "# \t\"recurring\", \"recollection\", \"so\", \"gorgeous\", \"captivating\"\n",
    "# ], [\n",
    "# \t\"in... in... increasing?\", \"ad... ad... adventures?\", \"en... en... enticing?\", \"un... un... unacceptable?\",\n",
    "#     \"ac... ac... accountable?\", \"in... in... incredible?\", \"ex... ex... exquisite?\", \"am... am... am?\",\n",
    "#     \"en... en... enduring?\", \"ou... ou... outstanding?\", \"as... as... astonishing?\", \"as... as... astounding?\",\n",
    "#     \"im... im... impressive?\", \"re... re... revolutionize?\", \"re... re... recurring?\", \"re... re... recollection?\",\n",
    "#     \"so... so... so?\", \"go... go... gorgeous?\", \"ca... ca... captivating?\",\n",
    "# ]\n",
    "# for i, w in enumerate(actual_param):\n",
    "# \tTest.assert_equals(stutter(w), expected_param[i])"
   ]
  },
  {
   "cell_type": "code",
   "execution_count": 3,
   "metadata": {},
   "outputs": [
    {
     "name": "stdout",
     "output_type": "stream",
     "text": [
      "6.942919764433443\n",
      "57.3\n"
     ]
    }
   ],
   "source": [
    "import math\n",
    "result = math.pi * 2.21\n",
    "print(result)\n",
    "\n",
    "import math\n",
    "global rad\n",
    "def radians_to_degrees(rad):\n",
    "    global degree\n",
    "    degree = round((rad * (180/math.pi)),1)\n",
    "    return degree\n",
    "\n",
    "print(radians_to_degrees(1))"
   ]
  },
  {
   "cell_type": "code",
   "execution_count": 2,
   "metadata": {},
   "outputs": [
    {
     "name": "stdout",
     "output_type": "stream",
     "text": [
      "2.33\n"
     ]
    }
   ],
   "source": [
    "x = 7\n",
    "y = 3\n",
    "z = x/y\n",
    "print(round(z, 2))"
   ]
  },
  {
   "cell_type": "code",
   "execution_count": 1,
   "metadata": {},
   "outputs": [],
   "source": [
    "# Maximum Edge of a Triangle\n",
    "def next_edge(side1, side2):\n",
    "    third_edgeMax = (side1 + side2) - 1\n",
    "    return third_edgeMax\n",
    "try:\n",
    "    assert next_edge(5, 4), 8\n",
    "    assert next_edge(8, 3), 10\n",
    "    assert next_edge(7, 9), 15\n",
    "    assert next_edge(10, 4), 13\n",
    "    assert next_edge(7, 2), 8\n",
    "\n",
    "except SyntaxWarning:\n",
    "    print(\"remove parentheses? \")\n",
    "    \n",
    "side1,side2 =\n",
    "next_edge(5, 4), 8\n",
    "side1,side2 =\n",
    "next_edge(8, 3), 10\n",
    "side1,side2 =\n",
    "next_edge(7, 9), 15\n",
    "side1,side2 =\n",
    "next_edge(10, 4), 13\n",
    "side1,side2 =\n",
    "next_edge(7, 2), 8"
   ]
  },
  {
   "cell_type": "code",
   "execution_count": null,
   "metadata": {},
   "outputs": [],
   "source": [
    "def next_edge(side1, side2):\n",
    "    third_edgeMax = (side1 + side2) - 1\n",
    "    return third_edgeMax\n",
    "next_edge(side1=,side2=)\n",
    "\n",
    "\n",
    "\n",
    "\n",
    "\n"
   ]
  },
  {
   "cell_type": "code",
   "execution_count": null,
   "metadata": {},
   "outputs": [],
   "source": [
    "# \n",
    "\n",
    "try:\n",
    "    assert \n",
    "    assert \n",
    "    assert \n",
    "    assert \n",
    "    assert \n",
    "\n",
    "except SyntaxWarning:\n",
    "    print(\"remove parentheses? \")"
   ]
  }
 ],
 "metadata": {
  "kernelspec": {
   "display_name": "Python 3",
   "language": "python",
   "name": "python3"
  },
  "language_info": {
   "codemirror_mode": {
    "name": "ipython",
    "version": 3
   },
   "file_extension": ".py",
   "mimetype": "text/x-python",
   "name": "python",
   "nbconvert_exporter": "python",
   "pygments_lexer": "ipython3",
   "version": "3.11.7"
  }
 },
 "nbformat": 4,
 "nbformat_minor": 2
}
