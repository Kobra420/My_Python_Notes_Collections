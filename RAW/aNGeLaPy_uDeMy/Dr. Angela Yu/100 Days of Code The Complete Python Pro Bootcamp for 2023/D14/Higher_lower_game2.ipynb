{
 "cells": [
  {
   "cell_type": "code",
   "execution_count": 1,
   "metadata": {},
   "outputs": [
    {
     "ename": "ImportError",
     "evalue": "cannot import name 'logo' from 'art' (c:\\Users\\biswa\\OneDrive\\Documents\\GIT\\GIT_main\\My_Pythone_Notes_Collections\\RAW\\aNGeLaPy_uDeMy\\Dr. Angela Yu\\100 Days of Code The Complete Python Pro Bootcamp for 2023\\D14\\art.py)",
     "output_type": "error",
     "traceback": [
      "\u001b[1;31m---------------------------------------------------------------------------\u001b[0m",
      "\u001b[1;31mImportError\u001b[0m                               Traceback (most recent call last)",
      "Cell \u001b[1;32mIn[1], line 3\u001b[0m\n\u001b[0;32m      1\u001b[0m \u001b[38;5;28;01mfrom\u001b[39;00m \u001b[38;5;21;01mgame_data\u001b[39;00m \u001b[38;5;28;01mimport\u001b[39;00m data \n\u001b[1;32m----> 3\u001b[0m \u001b[38;5;28;01mfrom\u001b[39;00m \u001b[38;5;21;01mart\u001b[39;00m \u001b[38;5;28;01mimport\u001b[39;00m logo, vs\n\u001b[0;32m      5\u001b[0m \u001b[38;5;28;01mimport\u001b[39;00m \u001b[38;5;21;01mrandom\u001b[39;00m\n\u001b[0;32m      7\u001b[0m \u001b[38;5;28;01mdef\u001b[39;00m \u001b[38;5;21mget_random_account\u001b[39m():\n",
      "\u001b[1;31mImportError\u001b[0m: cannot import name 'logo' from 'art' (c:\\Users\\biswa\\OneDrive\\Documents\\GIT\\GIT_main\\My_Pythone_Notes_Collections\\RAW\\aNGeLaPy_uDeMy\\Dr. Angela Yu\\100 Days of Code The Complete Python Pro Bootcamp for 2023\\D14\\art.py)"
     ]
    }
   ],
   "source": [
    "from game_data import data \n",
    "\n",
    "from art import logo, vs\n",
    "\n",
    "import random\n",
    "\n",
    "def get_random_account():\n",
    "    \"\"\"Get data from random account\"\"\"\n",
    "    return random.choice(data)\n",
    "\n",
    "def format_data(account):\n",
    "    \"\"\"Format account into printable format: name, description and country\"\"\"\n",
    "    name = account[\"name\"]\n",
    "    description = account[\"description\"]\n",
    "    country = account[\"country\"]\n",
    "    return f\"{name}, a {description}, from {country}\"\n",
    "\n",
    "#Test \n",
    "print(get_random_account())"
   ]
  }
 ],
 "metadata": {
  "kernelspec": {
   "display_name": "Python 3",
   "language": "python",
   "name": "python3"
  },
  "language_info": {
   "codemirror_mode": {
    "name": "ipython",
    "version": 3
   },
   "file_extension": ".py",
   "mimetype": "text/x-python",
   "name": "python",
   "nbconvert_exporter": "python",
   "pygments_lexer": "ipython3",
   "version": "3.10.5"
  }
 },
 "nbformat": 4,
 "nbformat_minor": 2
}
