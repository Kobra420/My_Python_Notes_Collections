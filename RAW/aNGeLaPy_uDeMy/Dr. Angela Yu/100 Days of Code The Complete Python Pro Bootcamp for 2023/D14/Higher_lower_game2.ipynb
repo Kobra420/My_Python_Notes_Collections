{
 "cells": [
  {
   "cell_type": "code",
   "execution_count": 26,
   "metadata": {},
   "outputs": [
    {
     "name": "stdout",
     "output_type": "stream",
     "text": [
      "\n",
      "     __  ___       __             \n",
      "    / / / (_)___ _/ /_  ___  _____\n",
      "   / /_/ / / __ `/ __ \\/ _ \\/ ___/\n",
      "  / __  / / /_/ / / / /  __/ /    \n",
      " /_/ ///_/\\__, /_/ /_/\\___/_/     \n",
      "    / /  /____/_      _____  _____\n",
      "   / /   / __ \\ | /| / / _ \\/ ___/\n",
      "  / /___/ /_/ / |/ |/ /  __/ /    \n",
      " /_____/\\____/|__/|__/\\___/_/     \n",
      "\n",
      "{'name': 'Katy Perry', 'follower_count': 94, 'description': 'Musician', 'country': 'United States'}\n",
      "dict_values(['Katy Perry', 94, 'Musician', 'United States'])\n",
      "Katy Perry\n",
      "94\n",
      "Musician\n",
      "United States\n"
     ]
    }
   ],
   "source": [
    "from game_data import data \n",
    "\n",
    "from art import logo1, logo2\n",
    "\n",
    "import random\n",
    "\n",
    "print(logo1)\n",
    "# sample = random.choice(data)\n",
    "sample = {'name': 'Katy Perry', 'follower_count': 94, 'description': 'Musician', 'country': 'United States'}\n",
    "print(sample)\n",
    "key = sample.keys()\n",
    "value = sample.values()\n",
    "\n",
    "print(value)\n",
    "try:\n",
    "    print(sample['name'])\n",
    "    print(sample['follower_count'])\n",
    "    print(sample['description'])\n",
    "    print(sample['country'])\n",
    "except KeyError:\n",
    "    print(\"key not found\")"
   ]
  },
  {
   "cell_type": "code",
   "execution_count": 32,
   "metadata": {},
   "outputs": [
    {
     "name": "stdout",
     "output_type": "stream",
     "text": [
      "name\n",
      "Katy Perry\n",
      " object is not subscriptable\n"
     ]
    }
   ],
   "source": [
    "sample = {'name': 'Katy Perry', 'follower_count': 94, 'description': 'Musician', 'country': 'United States'}\n",
    "# print(sample)\n",
    "key = sample.keys()\n",
    "value = sample.values()\n",
    "\n",
    "# print(value)\n",
    "try:\n",
    "    print(list(sample.keys())[0])\n",
    "    print(sample['name'])\n",
    "    print(key[0])\n",
    "    print(sample['follower_count'])\n",
    "    print(sample['description'])\n",
    "    print(sample['country'])\n",
    "    print(sample[0] in sample) # New print statement inside the try block\n",
    "except TypeError:\n",
    "    print(\" object is not subscriptable\")\n",
    "\n",
    "# print(value) # Print statement after the try-except block"
   ]
  }
 ],
 "metadata": {
  "kernelspec": {
   "display_name": "Python 3",
   "language": "python",
   "name": "python3"
  },
  "language_info": {
   "codemirror_mode": {
    "name": "ipython",
    "version": 3
   },
   "file_extension": ".py",
   "mimetype": "text/x-python",
   "name": "python",
   "nbconvert_exporter": "python",
   "pygments_lexer": "ipython3",
   "version": "3.10.5"
  }
 },
 "nbformat": 4,
 "nbformat_minor": 2
}
