{
 "cells": [
  {
   "cell_type": "code",
   "execution_count": 2,
   "metadata": {},
   "outputs": [
    {
     "name": "stdout",
     "output_type": "stream",
     "text": [
      "\n",
      "     __  ___       __             \n",
      "    / / / (_)___ _/ /_  ___  _____\n",
      "   / /_/ / / __ `/ __ \\/ _ \\/ ___/\n",
      "  / __  / / /_/ / / / /  __/ /    \n",
      " /_/ ///_/\\__, /_/ /_/\\___/_/     \n",
      "    / /  /____/_      _____  _____\n",
      "   / /   / __ \\ | /| / / _ \\/ ___/\n",
      "  / /___/ /_/ / |/ |/ /  __/ /    \n",
      " /_____/\\____/|__/|__/\\___/_/     \n",
      "\n",
      "{'name': 'Taylor Swift', 'follower_count': 131, 'description': 'Musician', 'country': 'United States'}\n"
     ]
    }
   ],
   "source": [
    "from game_data import data \n",
    "\n",
    "from art import logo1, logo2\n",
    "\n",
    "import random\n",
    "\n",
    "print(logo1)\n",
    "sample = random.choice(data)\n",
    "print(sample)"
   ]
  }
 ],
 "metadata": {
  "kernelspec": {
   "display_name": "Python 3",
   "language": "python",
   "name": "python3"
  },
  "language_info": {
   "codemirror_mode": {
    "name": "ipython",
    "version": 3
   },
   "file_extension": ".py",
   "mimetype": "text/x-python",
   "name": "python",
   "nbconvert_exporter": "python",
   "pygments_lexer": "ipython3",
   "version": "3.10.5"
  }
 },
 "nbformat": 4,
 "nbformat_minor": 2
}
