{
 "cells": [
  {
   "cell_type": "code",
   "execution_count": 2,
   "metadata": {},
   "outputs": [
    {
     "name": "stdout",
     "output_type": "stream",
     "text": [
      "{'name': 'Rihanna', 'follower_count': 81, 'description': 'Musician and businesswoman', 'country': 'Barbados'}\n"
     ]
    }
   ],
   "source": [
    "from game_data import data \n",
    "\n",
    "from art import logo1, logo2\n",
    "\n",
    "import random\n",
    "\n",
    "def get_random_account():\n",
    "    \"\"\"Get data from random account\"\"\"\n",
    "    return random.choice(data)\n",
    "\n",
    "def format_data(account):\n",
    "    \"\"\"Format account into printable format: name, description and country\"\"\"\n",
    "    name = account[\"name\"]\n",
    "    description = account[\"description\"]\n",
    "    country = account[\"country\"]\n",
    "    return f\"{name}, a {description}, from {country}\"\n",
    "\n",
    "#Test \n",
    "print(get_random_account())"
   ]
  }
 ],
 "metadata": {
  "kernelspec": {
   "display_name": "Python 3",
   "language": "python",
   "name": "python3"
  },
  "language_info": {
   "codemirror_mode": {
    "name": "ipython",
    "version": 3
   },
   "file_extension": ".py",
   "mimetype": "text/x-python",
   "name": "python",
   "nbconvert_exporter": "python",
   "pygments_lexer": "ipython3",
   "version": "3.10.5"
  }
 },
 "nbformat": 4,
 "nbformat_minor": 2
}
