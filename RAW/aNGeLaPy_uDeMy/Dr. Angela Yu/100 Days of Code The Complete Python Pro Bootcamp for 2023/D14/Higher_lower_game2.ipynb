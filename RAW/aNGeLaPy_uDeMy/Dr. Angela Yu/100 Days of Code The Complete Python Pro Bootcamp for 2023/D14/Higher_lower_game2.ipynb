{
 "cells": [
  {
   "cell_type": "code",
   "execution_count": 21,
   "metadata": {},
   "outputs": [
    {
     "name": "stdout",
     "output_type": "stream",
     "text": [
      "\n",
      "     __  ___       __             \n",
      "    / / / (_)___ _/ /_  ___  _____\n",
      "   / /_/ / / __ `/ __ \\/ _ \\/ ___/\n",
      "  / __  / / /_/ / / / /  __/ /    \n",
      " /_/ ///_/\\__, /_/ /_/\\___/_/     \n",
      "    / /  /____/_      _____  _____\n",
      "   / /   / __ \\ | /| / / _ \\/ ___/\n",
      "  / /___/ /_/ / |/ |/ /  __/ /    \n",
      " /_____/\\____/|__/|__/\\___/_/     \n",
      "\n",
      "{'name': 'Cristiano Ronaldo', 'follower_count': 215, 'description': 'Footballer', 'country': 'Portugal'}\n",
      "dict_keys(['name', 'follower_count', 'description', 'country'])\n",
      "dict_values(['Cristiano Ronaldo', 215, 'Footballer', 'Portugal'])\n"
     ]
    }
   ],
   "source": [
    "from game_data import data \n",
    "\n",
    "from art import logo1, logo2\n",
    "\n",
    "import random\n",
    "\n",
    "print(logo1)\n",
    "sample = random.choice(data)\n",
    "print(sample)\n",
    "key = sample.keys()\n",
    "value = sample.values()\n",
    "print(key)\n",
    "print(value)"
   ]
  }
 ],
 "metadata": {
  "kernelspec": {
   "display_name": "Python 3",
   "language": "python",
   "name": "python3"
  },
  "language_info": {
   "codemirror_mode": {
    "name": "ipython",
    "version": 3
   },
   "file_extension": ".py",
   "mimetype": "text/x-python",
   "name": "python",
   "nbconvert_exporter": "python",
   "pygments_lexer": "ipython3",
   "version": "3.10.5"
  }
 },
 "nbformat": 4,
 "nbformat_minor": 2
}
