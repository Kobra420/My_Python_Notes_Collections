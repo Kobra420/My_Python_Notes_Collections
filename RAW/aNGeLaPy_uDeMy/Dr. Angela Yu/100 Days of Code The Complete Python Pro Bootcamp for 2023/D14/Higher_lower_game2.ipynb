{
 "cells": [
  {
   "cell_type": "code",
   "execution_count": 9,
   "metadata": {},
   "outputs": [
    {
     "name": "stdout",
     "output_type": "stream",
     "text": [
      "\n",
      "     __  ___       __             \n",
      "    / / / (_)___ _/ /_  ___  _____\n",
      "   / /_/ / / __ `/ __ \\/ _ \\/ ___/\n",
      "  / __  / / /_/ / / / /  __/ /    \n",
      " /_/ ///_/\\__, /_/ /_/\\___/_/     \n",
      "    / /  /____/_      _____  _____\n",
      "   / /   / __ \\ | /| / / _ \\/ ___/\n",
      "  / /___/ /_/ / |/ |/ /  __/ /    \n",
      " /_____/\\____/|__/|__/\\___/_/     \n",
      "\n"
     ]
    },
    {
     "ename": "TypeError",
     "evalue": "'builtin_function_or_method' object is not subscriptable",
     "output_type": "error",
     "traceback": [
      "\u001b[1;31m---------------------------------------------------------------------------\u001b[0m",
      "\u001b[1;31mTypeError\u001b[0m                                 Traceback (most recent call last)",
      "Cell \u001b[1;32mIn[9], line 10\u001b[0m\n\u001b[0;32m      8\u001b[0m sample \u001b[38;5;241m=\u001b[39m random\u001b[38;5;241m.\u001b[39mchoice(data)\n\u001b[0;32m      9\u001b[0m keys \u001b[38;5;241m=\u001b[39m sample\u001b[38;5;241m.\u001b[39mkeys\n\u001b[1;32m---> 10\u001b[0m \u001b[38;5;28mprint\u001b[39m(\u001b[43mkeys\u001b[49m\u001b[43m[\u001b[49m\u001b[38;5;241;43m0\u001b[39;49m\u001b[43m]\u001b[49m)\n",
      "\u001b[1;31mTypeError\u001b[0m: 'builtin_function_or_method' object is not subscriptable"
     ]
    }
   ],
   "source": [
    "from game_data import data \n",
    "\n",
    "from art import logo1, logo2\n",
    "\n",
    "import random\n",
    "\n",
    "print(logo1)\n",
    "sample = random.choice(data)\n",
    "keys = sample.keys\n",
    "print(keys)"
   ]
  }
 ],
 "metadata": {
  "kernelspec": {
   "display_name": "Python 3",
   "language": "python",
   "name": "python3"
  },
  "language_info": {
   "codemirror_mode": {
    "name": "ipython",
    "version": 3
   },
   "file_extension": ".py",
   "mimetype": "text/x-python",
   "name": "python",
   "nbconvert_exporter": "python",
   "pygments_lexer": "ipython3",
   "version": "3.10.5"
  }
 },
 "nbformat": 4,
 "nbformat_minor": 2
}
