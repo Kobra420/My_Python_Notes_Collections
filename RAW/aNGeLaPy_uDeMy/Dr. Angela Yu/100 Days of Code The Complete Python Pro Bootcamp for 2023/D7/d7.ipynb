{
 "cells": [
  {
   "cell_type": "code",
   "execution_count": null,
   "metadata": {},
   "outputs": [],
   "source": [
    "# word_list = [\"aardvark\", \"baboon\", \"camel\"]\n",
    "# #TODO-1 - Randomly choose a word from the word_list \n",
    "# # and assign it to a variable called chosen_word.\n",
    "# import random\n",
    "# chosen_word = random.choice(word_list)\n",
    "# print(chosen_word)\n",
    "# #TODO-2 - Ask the user to guess a letter and\n",
    "# # assign their answer to a variable called guess.\n",
    "# # Make guess lowercase.\n",
    "# user_guess = input(\"Guess a letter :\").lower\n",
    "# #TODO-3 - Check if the letter the user guessed (guess) is one of the letters in the chosen_word.\n",
    "# # value_when_true if condition else value_when_false\n",
    "# for n in range(len(chosen_word)):\n",
    "#     if user_guess == chosen_word[n]:\n",
    "#         print(\"R\",end=\" \")\n",
    "#     else:\n",
    "#         print(\"W\",end=\" \")\n"
   ]
  },
  {
   "cell_type": "code",
   "execution_count": null,
   "metadata": {},
   "outputs": [],
   "source": [
    "word_list = [\"aardvark\", \"baboon\", \"camel\"]\n",
    "import random\n",
    "import hangman_art\n",
    "print(hangman_art.logo)\n",
    "print(len(hangman_art.stages))\n",
    "chosen_word = random.choice(word_list)\n",
    "print(chosen_word)\n",
    "lives = 6\n",
    "display = []\n",
    "for _ in range(len(chosen_word)):\n",
    "    display += \"*\"\n",
    "end_game = False\n",
    "while lives != 0:\n",
    "    print(lives)\n",
    "    while not end_game:\n",
    "        user_guess = input(\"Guess a letter :\")\n",
    "        for position in range(len(chosen_word)):\n",
    "            letter = chosen_word[position]\n",
    "            if letter == user_guess:\n",
    "                display[position] = letter\n",
    "            if letter not in chosen_word:\n",
    "                lives-=1\n",
    "        print(display)\n",
    "        if \"*\" not in display:\n",
    "            end_game = True\n",
    "    print(f\"Lives={lives}--You win\\n{display}\")\n",
    "    # print(display)"
   ]
  },
  {
   "cell_type": "code",
   "execution_count": null,
   "metadata": {},
   "outputs": [],
   "source": [
    "nums = [1, 2, 3, 4, 5]\n",
    "for num in nums:\n",
    "    if num == 3:\n",
    "        print(\"Encountered 3, skipping...\")\n",
    "        continue  # Skip the rest of the loop when num is 3\n",
    "    print(f\"Current number: {num}\")"
   ]
  },
  {
   "cell_type": "code",
   "execution_count": 6,
   "metadata": {},
   "outputs": [
    {
     "name": "stdout",
     "output_type": "stream",
     "text": [
      "12Item passed\n",
      "34"
     ]
    }
   ],
   "source": [
    "items =[1,2,3,4]\n",
    "for item in items:\n",
    "    # Temporary omission of code for testing\n",
    "    if item == 3:\n",
    "        pass\n",
    "        print(\"Item passed\")\n",
    "    print(item,end='')\n"
   ]
  },
  {
   "cell_type": "code",
   "execution_count": 5,
   "metadata": {},
   "outputs": [
    {
     "name": "stdout",
     "output_type": "stream",
     "text": [
      "The number is even\n"
     ]
    }
   ],
   "source": [
    "# Suppose we're checking if a number is even or odd\n",
    "number = 6\n",
    "\n",
    "if number % 2 == 0:\n",
    "    pass  # Placeholder for future implementation of even number handling\n",
    "    print(\"The number is even\")\n",
    "else:\n",
    "    pass  # Placeholder for future implementation of odd number handling\n"
   ]
  },
  {
   "cell_type": "code",
   "execution_count": 8,
   "metadata": {},
   "outputs": [],
   "source": [
    "class Animal:\n",
    "    def make_sound(self):\n",
    "        pass  # To be overridden by subclasses\n",
    "\n",
    "class Dog(Animal):\n",
    "    def make_sound(self):\n",
    "        print(\"Woof\")\n",
    "\n",
    "class Cat(Animal):\n",
    "    def make_sound(self):\n",
    "        print(\"Meow\")\n"
   ]
  },
  {
   "cell_type": "code",
   "execution_count": null,
   "metadata": {},
   "outputs": [],
   "source": [
    "class BaseClass:\n",
    "    def some_method(self):\n",
    "        pass  # To be overridden by subclasse"
   ]
  }
 ],
 "metadata": {
  "kernelspec": {
   "display_name": "Python 3",
   "language": "python",
   "name": "python3"
  },
  "language_info": {
   "codemirror_mode": {
    "name": "ipython",
    "version": 3
   },
   "file_extension": ".py",
   "mimetype": "text/x-python",
   "name": "python",
   "nbconvert_exporter": "python",
   "pygments_lexer": "ipython3",
   "version": "3.10.5"
  },
  "orig_nbformat": 4
 },
 "nbformat": 4,
 "nbformat_minor": 2
}
