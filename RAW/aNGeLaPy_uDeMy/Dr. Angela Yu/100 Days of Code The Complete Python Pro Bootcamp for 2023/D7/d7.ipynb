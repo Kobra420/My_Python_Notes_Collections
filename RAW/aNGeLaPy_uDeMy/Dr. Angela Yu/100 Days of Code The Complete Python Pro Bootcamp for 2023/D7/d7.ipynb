{
 "cells": [
  {
   "cell_type": "code",
   "execution_count": null,
   "metadata": {},
   "outputs": [],
   "source": [
    "# word_list = [\"aardvark\", \"baboon\", \"camel\"]\n",
    "# #TODO-1 - Randomly choose a word from the word_list \n",
    "# # and assign it to a variable called chosen_word.\n",
    "# import random\n",
    "# chosen_word = random.choice(word_list)\n",
    "# print(chosen_word)\n",
    "# #TODO-2 - Ask the user to guess a letter and\n",
    "# # assign their answer to a variable called guess.\n",
    "# # Make guess lowercase.\n",
    "# user_guess = input(\"Guess a letter :\").lower\n",
    "# #TODO-3 - Check if the letter the user guessed (guess) is one of the letters in the chosen_word.\n",
    "# # value_when_true if condition else value_when_false\n",
    "# for n in range(len(chosen_word)):\n",
    "#     if user_guess == chosen_word[n]:\n",
    "#         print(\"R\",end=\" \")\n",
    "#     else:\n",
    "#         print(\"W\",end=\" \")\n"
   ]
  },
  {
   "cell_type": "code",
   "execution_count": null,
   "metadata": {},
   "outputs": [],
   "source": [
    "word_list = [\"aardvark\", \"baboon\", \"camel\"]\n",
    "import random\n",
    "import hangman_art\n",
    "print(hangman_art.logo)\n",
    "print(len(hangman_art.stages))\n",
    "chosen_word = random.choice(word_list)\n",
    "print(chosen_word)\n",
    "lives = 6\n",
    "display = []\n",
    "for _ in range(len(chosen_word)):\n",
    "    display += \"*\"\n",
    "end_game = False\n",
    "while lives != 0:\n",
    "    print(lives)\n",
    "    while not end_game:\n",
    "        user_guess = input(\"Guess a letter :\")\n",
    "        for position in range(len(chosen_word)):\n",
    "            letter = chosen_word[position]\n",
    "            if letter == user_guess:\n",
    "                display[position] = letter\n",
    "            if letter not in chosen_word:\n",
    "                lives-=1\n",
    "        print(display)\n",
    "        if \"*\" not in display:\n",
    "            end_game = True\n",
    "    print(f\"Lives={lives}--You win\\n{display}\")\n",
    "    # print(display)"
   ]
  },
  {
   "cell_type": "code",
   "execution_count": 4,
   "metadata": {},
   "outputs": [
    {
     "name": "stdout",
     "output_type": "stream",
     "text": [
      "(1, 2, 3, 'apple', 'banana')\n",
      "(2, 3, 'apple')\n",
      "first element--> 1\n",
      "second element--> banana\n"
     ]
    }
   ],
   "source": [
    "my_tuple = (1, 2, 3, 'apple', 'banana')\n",
    "my_slice = my_tuple[1:4]  # Creates a new tuple with elements (2, 3, 'apple')\n",
    "print(my_tuple)\n",
    "print(my_slice)\n",
    "first_element = my_tuple[0]  # Access the first element\n",
    "last_element = my_tuple[-1]  # Access the last element\n",
    "print(f\"first element--> {first_element}\\nsecond element--> {last_element}\")\n"
   ]
  },
  {
   "cell_type": "code",
   "execution_count": 5,
   "metadata": {},
   "outputs": [
    {
     "name": "stdout",
     "output_type": "stream",
     "text": [
      "(1, (2, 3), ('apple', 'banana'))\n"
     ]
    }
   ],
   "source": [
    "nested_tuple = (1, (2, 3), ('apple', 'banana'))\n",
    "print(nested_tuple)\n"
   ]
  }
 ],
 "metadata": {
  "kernelspec": {
   "display_name": "Python 3",
   "language": "python",
   "name": "python3"
  },
  "language_info": {
   "codemirror_mode": {
    "name": "ipython",
    "version": 3
   },
   "file_extension": ".py",
   "mimetype": "text/x-python",
   "name": "python",
   "nbconvert_exporter": "python",
   "pygments_lexer": "ipython3",
   "version": "3.10.5"
  },
  "orig_nbformat": 4
 },
 "nbformat": 4,
 "nbformat_minor": 2
}
