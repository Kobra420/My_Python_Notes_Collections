{
 "cells": [
  {
   "cell_type": "code",
   "execution_count": null,
   "metadata": {},
   "outputs": [],
   "source": [
    "# word_list = [\"aardvark\", \"baboon\", \"camel\"]\n",
    "# #TODO-1 - Randomly choose a word from the word_list \n",
    "# # and assign it to a variable called chosen_word.\n",
    "# import random\n",
    "# chosen_word = random.choice(word_list)\n",
    "# print(chosen_word)\n",
    "# #TODO-2 - Ask the user to guess a letter and\n",
    "# # assign their answer to a variable called guess.\n",
    "# # Make guess lowercase.\n",
    "# user_guess = input(\"Guess a letter :\").lower\n",
    "# #TODO-3 - Check if the letter the user guessed (guess) is one of the letters in the chosen_word.\n",
    "# # value_when_true if condition else value_when_false\n",
    "# for n in range(len(chosen_word)):\n",
    "#     if user_guess == chosen_word[n]:\n",
    "#         print(\"R\",end=\" \")\n",
    "#     else:\n",
    "#         print(\"W\",end=\" \")\n"
   ]
  },
  {
   "cell_type": "code",
   "execution_count": null,
   "metadata": {},
   "outputs": [],
   "source": [
    "word_list = [\"aardvark\", \"baboon\", \"camel\"]\n",
    "import random\n",
    "import hangman_art\n",
    "print(hangman_art.logo)\n",
    "print(len(hangman_art.stages))\n",
    "chosen_word = random.choice(word_list)\n",
    "print(chosen_word)\n",
    "lives = 6\n",
    "display = []\n",
    "for _ in range(len(chosen_word)):\n",
    "    display += \"*\"\n",
    "end_game = False\n",
    "while lives != 0:\n",
    "    print(lives)\n",
    "    while not end_game:\n",
    "        user_guess = input(\"Guess a letter :\")\n",
    "        for position in range(len(chosen_word)):\n",
    "            letter = chosen_word[position]\n",
    "            if letter == user_guess:\n",
    "                display[position] = letter\n",
    "            if letter not in chosen_word:\n",
    "                lives-=1\n",
    "        print(display)\n",
    "        if \"*\" not in display:\n",
    "            end_game = True\n",
    "    print(f\"Lives={lives}--You win\\n{display}\")\n",
    "    # print(display)"
   ]
  },
  {
   "cell_type": "code",
   "execution_count": 15,
   "metadata": {},
   "outputs": [
    {
     "name": "stdout",
     "output_type": "stream",
     "text": [
      "Error: File not found.\n"
     ]
    },
    {
     "ename": "NameError",
     "evalue": "name 'f' is not defined",
     "output_type": "error",
     "traceback": [
      "\u001b[1;31m---------------------------------------------------------------------------\u001b[0m",
      "\u001b[1;31mNameError\u001b[0m                                 Traceback (most recent call last)",
      "\u001b[1;32mp:\\FRONTEND\\GIT_main\\My_Pythone_Notes_Collections\\RAW\\aNGeLaPy_uDeMy\\Dr. Angela Yu\\100 Days of Code The Complete Python Pro Bootcamp for 2023\\D7\\d7.ipynb Cell 3\u001b[0m line \u001b[0;36m8\n\u001b[0;32m      <a href='vscode-notebook-cell:/p%3A/FRONTEND/GIT_main/My_Pythone_Notes_Collections/RAW/aNGeLaPy_uDeMy/Dr.%20Angela%20Yu/100%20Days%20of%20Code%20The%20Complete%20Python%20Pro%20Bootcamp%20for%202023/D7/d7.ipynb#W2sZmlsZQ%3D%3D?line=5'>6</a>\u001b[0m     \u001b[39mprint\u001b[39m(\u001b[39m\"\u001b[39m\u001b[39mError: File not found.\u001b[39m\u001b[39m\"\u001b[39m)\n\u001b[0;32m      <a href='vscode-notebook-cell:/p%3A/FRONTEND/GIT_main/My_Pythone_Notes_Collections/RAW/aNGeLaPy_uDeMy/Dr.%20Angela%20Yu/100%20Days%20of%20Code%20The%20Complete%20Python%20Pro%20Bootcamp%20for%202023/D7/d7.ipynb#W2sZmlsZQ%3D%3D?line=6'>7</a>\u001b[0m \u001b[39mfinally\u001b[39;00m:\n\u001b[1;32m----> <a href='vscode-notebook-cell:/p%3A/FRONTEND/GIT_main/My_Pythone_Notes_Collections/RAW/aNGeLaPy_uDeMy/Dr.%20Angela%20Yu/100%20Days%20of%20Code%20The%20Complete%20Python%20Pro%20Bootcamp%20for%202023/D7/d7.ipynb#W2sZmlsZQ%3D%3D?line=7'>8</a>\u001b[0m     \u001b[39mif\u001b[39;00m f:\n\u001b[0;32m      <a href='vscode-notebook-cell:/p%3A/FRONTEND/GIT_main/My_Pythone_Notes_Collections/RAW/aNGeLaPy_uDeMy/Dr.%20Angela%20Yu/100%20Days%20of%20Code%20The%20Complete%20Python%20Pro%20Bootcamp%20for%202023/D7/d7.ipynb#W2sZmlsZQ%3D%3D?line=8'>9</a>\u001b[0m         f\u001b[39m.\u001b[39mclose()\n",
      "\u001b[1;31mNameError\u001b[0m: name 'f' is not defined"
     ]
    }
   ],
   "source": [
    "# Using the finally block for cleanup\n",
    "try:\n",
    "    f = open(\"example_file.txt\", \"r\")\n",
    "    # Perform some file operations\n",
    "except FileNotFoundError:\n",
    "    print(\"Error: File not found.\")\n",
    "finally:\n",
    "    if f:\n",
    "        f.close()\n",
    "\n"
   ]
  },
  {
   "cell_type": "code",
   "execution_count": 16,
   "metadata": {},
   "outputs": [
    {
     "ename": "NameError",
     "evalue": "name 'threading' is not defined",
     "output_type": "error",
     "traceback": [
      "\u001b[1;31m---------------------------------------------------------------------------\u001b[0m",
      "\u001b[1;31mNameError\u001b[0m                                 Traceback (most recent call last)",
      "\u001b[1;32mp:\\FRONTEND\\GIT_main\\My_Pythone_Notes_Collections\\RAW\\aNGeLaPy_uDeMy\\Dr. Angela Yu\\100 Days of Code The Complete Python Pro Bootcamp for 2023\\D7\\d7.ipynb Cell 4\u001b[0m line \u001b[0;36m4\n\u001b[0;32m      <a href='vscode-notebook-cell:/p%3A/FRONTEND/GIT_main/My_Pythone_Notes_Collections/RAW/aNGeLaPy_uDeMy/Dr.%20Angela%20Yu/100%20Days%20of%20Code%20The%20Complete%20Python%20Pro%20Bootcamp%20for%202023/D7/d7.ipynb#X12sZmlsZQ%3D%3D?line=0'>1</a>\u001b[0m \u001b[39m# finally_block1.png\u001b[39;00m\n\u001b[0;32m      <a href='vscode-notebook-cell:/p%3A/FRONTEND/GIT_main/My_Pythone_Notes_Collections/RAW/aNGeLaPy_uDeMy/Dr.%20Angela%20Yu/100%20Days%20of%20Code%20The%20Complete%20Python%20Pro%20Bootcamp%20for%202023/D7/d7.ipynb#X12sZmlsZQ%3D%3D?line=1'>2</a>\u001b[0m \n\u001b[0;32m      <a href='vscode-notebook-cell:/p%3A/FRONTEND/GIT_main/My_Pythone_Notes_Collections/RAW/aNGeLaPy_uDeMy/Dr.%20Angela%20Yu/100%20Days%20of%20Code%20The%20Complete%20Python%20Pro%20Bootcamp%20for%202023/D7/d7.ipynb#X12sZmlsZQ%3D%3D?line=2'>3</a>\u001b[0m \u001b[39m# Using the finally block to release resources\u001b[39;00m\n\u001b[1;32m----> <a href='vscode-notebook-cell:/p%3A/FRONTEND/GIT_main/My_Pythone_Notes_Collections/RAW/aNGeLaPy_uDeMy/Dr.%20Angela%20Yu/100%20Days%20of%20Code%20The%20Complete%20Python%20Pro%20Bootcamp%20for%202023/D7/d7.ipynb#X12sZmlsZQ%3D%3D?line=3'>4</a>\u001b[0m lock \u001b[39m=\u001b[39m threading\u001b[39m.\u001b[39mLock()\n\u001b[0;32m      <a href='vscode-notebook-cell:/p%3A/FRONTEND/GIT_main/My_Pythone_Notes_Collections/RAW/aNGeLaPy_uDeMy/Dr.%20Angela%20Yu/100%20Days%20of%20Code%20The%20Complete%20Python%20Pro%20Bootcamp%20for%202023/D7/d7.ipynb#X12sZmlsZQ%3D%3D?line=4'>5</a>\u001b[0m \u001b[39mtry\u001b[39;00m:\n\u001b[0;32m      <a href='vscode-notebook-cell:/p%3A/FRONTEND/GIT_main/My_Pythone_Notes_Collections/RAW/aNGeLaPy_uDeMy/Dr.%20Angela%20Yu/100%20Days%20of%20Code%20The%20Complete%20Python%20Pro%20Bootcamp%20for%202023/D7/d7.ipynb#X12sZmlsZQ%3D%3D?line=5'>6</a>\u001b[0m     lock\u001b[39m.\u001b[39macquire()\n",
      "\u001b[1;31mNameError\u001b[0m: name 'threading' is not defined"
     ]
    }
   ],
   "source": [
    "# finally_block1.png\n",
    "\n",
    "# Using the finally block to release resources\n",
    "lock = threading.Lock()\n",
    "try:\n",
    "    lock.acquire()\n",
    "    # Perform some critical section operations\n",
    "except Exception as e:\n",
    "    print(f\"Error: {e}\")\n",
    "finally:\n",
    "    lock.release()\n"
   ]
  }
 ],
 "metadata": {
  "kernelspec": {
   "display_name": "Python 3",
   "language": "python",
   "name": "python3"
  },
  "language_info": {
   "codemirror_mode": {
    "name": "ipython",
    "version": 3
   },
   "file_extension": ".py",
   "mimetype": "text/x-python",
   "name": "python",
   "nbconvert_exporter": "python",
   "pygments_lexer": "ipython3",
   "version": "3.10.5"
  },
  "orig_nbformat": 4
 },
 "nbformat": 4,
 "nbformat_minor": 2
}
