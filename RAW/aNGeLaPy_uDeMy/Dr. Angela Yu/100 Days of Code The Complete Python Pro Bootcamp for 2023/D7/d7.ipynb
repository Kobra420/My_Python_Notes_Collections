{
 "cells": [
  {
   "cell_type": "code",
   "execution_count": null,
   "metadata": {},
   "outputs": [],
   "source": [
    "# word_list = [\"aardvark\", \"baboon\", \"camel\"]\n",
    "# #TODO-1 - Randomly choose a word from the word_list \n",
    "# # and assign it to a variable called chosen_word.\n",
    "# import random\n",
    "# chosen_word = random.choice(word_list)\n",
    "# print(chosen_word)\n",
    "# #TODO-2 - Ask the user to guess a letter and\n",
    "# # assign their answer to a variable called guess.\n",
    "# # Make guess lowercase.\n",
    "# user_guess = input(\"Guess a letter :\").lower\n",
    "# #TODO-3 - Check if the letter the user guessed (guess) is one of the letters in the chosen_word.\n",
    "# # value_when_true if condition else value_when_false\n",
    "# for n in range(len(chosen_word)):\n",
    "#     if user_guess == chosen_word[n]:\n",
    "#         print(\"R\",end=\" \")\n",
    "#     else:\n",
    "#         print(\"W\",end=\" \")\n"
   ]
  },
  {
   "cell_type": "code",
   "execution_count": null,
   "metadata": {},
   "outputs": [],
   "source": [
    "word_list = [\"aardvark\", \"baboon\", \"camel\"]\n",
    "import random\n",
    "import hangman_art\n",
    "print(hangman_art.logo)\n",
    "print(len(hangman_art.stages))\n",
    "chosen_word = random.choice(word_list)\n",
    "print(chosen_word)\n",
    "lives = 6\n",
    "display = []\n",
    "for _ in range(len(chosen_word)):\n",
    "    display += \"*\"\n",
    "end_game = False\n",
    "while lives != 0:\n",
    "    print(lives)\n",
    "    while not end_game:\n",
    "        user_guess = input(\"Guess a letter :\")\n",
    "        for position in range(len(chosen_word)):\n",
    "            letter = chosen_word[position]\n",
    "            if letter == user_guess:\n",
    "                display[position] = letter\n",
    "            if letter not in chosen_word:\n",
    "                lives-=1\n",
    "        print(display)\n",
    "        if \"*\" not in display:\n",
    "            end_game = True\n",
    "    print(f\"Lives={lives}--You win\\n{display}\")\n",
    "    # print(display)"
   ]
  },
  {
   "cell_type": "code",
   "execution_count": 17,
   "metadata": {},
   "outputs": [
    {
     "name": "stdout",
     "output_type": "stream",
     "text": [
      "Current number: 1\n",
      "Current number: 2\n",
      "Encountered 3, skipping...\n",
      "Current number: 4\n",
      "Current number: 5\n"
     ]
    }
   ],
   "source": [
    "nums = [1, 2, 3, 4, 5]\n",
    "for num in nums:\n",
    "    if num == 3:\n",
    "        print(\"Encountered 3, skipping...\")\n",
    "        continue  # Skip the rest of the loop when num is 3\n",
    "    print(f\"Current number: {num}\")"
   ]
  },
  {
   "cell_type": "code",
   "execution_count": 18,
   "metadata": {},
   "outputs": [
    {
     "name": "stdout",
     "output_type": "stream",
     "text": [
      "Word containing 'a': apple\n",
      "Word containing 'a': banana\n",
      "Word containing 'a': date\n",
      "Word containing 'a': grape\n"
     ]
    }
   ],
   "source": [
    "words = ['apple', 'banana', 'cherry', 'date', 'grape']\n",
    "for word in words:\n",
    "    if 'a' not in word:\n",
    "        continue  # Skip the words that do not contain the letter 'a'\n",
    "    print(f\"Word containing 'a': {word}\")\n"
   ]
  }
 ],
 "metadata": {
  "kernelspec": {
   "display_name": "Python 3",
   "language": "python",
   "name": "python3"
  },
  "language_info": {
   "codemirror_mode": {
    "name": "ipython",
    "version": 3
   },
   "file_extension": ".py",
   "mimetype": "text/x-python",
   "name": "python",
   "nbconvert_exporter": "python",
   "pygments_lexer": "ipython3",
   "version": "3.10.5"
  },
  "orig_nbformat": 4
 },
 "nbformat": 4,
 "nbformat_minor": 2
}
