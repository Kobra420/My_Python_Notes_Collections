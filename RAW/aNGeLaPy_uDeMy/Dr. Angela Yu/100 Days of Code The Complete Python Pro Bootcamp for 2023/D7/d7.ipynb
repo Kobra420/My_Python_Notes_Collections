{
 "cells": [
  {
   "cell_type": "code",
   "execution_count": null,
   "metadata": {},
   "outputs": [],
   "source": [
    "# word_list = [\"aardvark\", \"baboon\", \"camel\"]\n",
    "# #TODO-1 - Randomly choose a word from the word_list \n",
    "# # and assign it to a variable called chosen_word.\n",
    "# import random\n",
    "# chosen_word = random.choice(word_list)\n",
    "# print(chosen_word)\n",
    "# #TODO-2 - Ask the user to guess a letter and\n",
    "# # assign their answer to a variable called guess.\n",
    "# # Make guess lowercase.\n",
    "# user_guess = input(\"Guess a letter :\").lower\n",
    "# #TODO-3 - Check if the letter the user guessed (guess) is one of the letters in the chosen_word.\n",
    "# # value_when_true if condition else value_when_false\n",
    "# for n in range(len(chosen_word)):\n",
    "#     if user_guess == chosen_word[n]:\n",
    "#         print(\"R\",end=\" \")\n",
    "#     else:\n",
    "#         print(\"W\",end=\" \")\n"
   ]
  },
  {
   "cell_type": "code",
   "execution_count": null,
   "metadata": {},
   "outputs": [],
   "source": [
    "word_list = [\"aardvark\", \"baboon\", \"camel\"]\n",
    "import random\n",
    "import hangman_art\n",
    "print(hangman_art.logo)\n",
    "print(len(hangman_art.stages))\n",
    "chosen_word = random.choice(word_list)\n",
    "print(chosen_word)\n",
    "lives = 6\n",
    "display = []\n",
    "for _ in range(len(chosen_word)):\n",
    "    display += \"*\"\n",
    "end_game = False\n",
    "while lives != 0:\n",
    "    print(lives)\n",
    "    while not end_game:\n",
    "        user_guess = input(\"Guess a letter :\")\n",
    "        for position in range(len(chosen_word)):\n",
    "            letter = chosen_word[position]\n",
    "            if letter == user_guess:\n",
    "                display[position] = letter\n",
    "            if letter not in chosen_word:\n",
    "                lives-=1\n",
    "        print(display)\n",
    "        if \"*\" not in display:\n",
    "            end_game = True\n",
    "    print(f\"Lives={lives}--You win\\n{display}\")\n",
    "    # print(display)"
   ]
  },
  {
   "cell_type": "code",
   "execution_count": null,
   "metadata": {},
   "outputs": [],
   "source": [
    "nums = [1, 2, 3, 4, 5]\n",
    "for num in nums:\n",
    "    if num == 3:\n",
    "        print(\"Encountered 3, skipping...\")\n",
    "        continue  # Skip the rest of the loop when num is 3\n",
    "    print(f\"Current number: {num}\")"
   ]
  },
  {
   "cell_type": "code",
   "execution_count": null,
   "metadata": {},
   "outputs": [],
   "source": [
    "words = ['apple', 'banana', 'cherry', 'date', 'grape']\n",
    "for word in words:\n",
    "    if 'a' not in word:\n",
    "        continue  # Skip the words that do not contain the letter 'a'\n",
    "    print(f\"Word containing 'a': {word}\")\n"
   ]
  },
  {
   "cell_type": "code",
   "execution_count": 4,
   "metadata": {},
   "outputs": [
    {
     "name": "stdout",
     "output_type": "stream",
     "text": [
      "Stock price is normal: 500.\n",
      "Stock price is normal: 422.\n",
      "Stock price is above the threshold: 512. Alert triggered!\n",
      "Stock price is normal: 438.\n",
      "Stock price is above the threshold: 562. Alert triggered!\n",
      "Stock price is above the threshold: 518. Alert triggered!\n",
      "Stock price is above the threshold: 537. Alert triggered!\n",
      "Stock price is normal: 400.\n",
      "Stock price is above the threshold: 541. Alert triggered!\n",
      "Stock price is above the threshold: 595. Alert triggered!\n",
      "Stock price is above the threshold: 539. Alert triggered!\n",
      "Stock price is above the threshold: 581. Alert triggered!\n",
      "Stock price is above the threshold: 525. Alert triggered!\n",
      "Stock price is normal: 431.\n",
      "Stock price is normal: 422.\n"
     ]
    },
    {
     "ename": "KeyboardInterrupt",
     "evalue": "",
     "output_type": "error",
     "traceback": [
      "\u001b[1;31m---------------------------------------------------------------------------\u001b[0m",
      "\u001b[1;31mKeyboardInterrupt\u001b[0m                         Traceback (most recent call last)",
      "\u001b[1;32mp:\\FRONTEND\\GIT_main\\My_Pythone_Notes_Collections\\RAW\\aNGeLaPy_uDeMy\\Dr. Angela Yu\\100 Days of Code The Complete Python Pro Bootcamp for 2023\\D7\\d7.ipynb Cell 5\u001b[0m line \u001b[0;36m2\n\u001b[0;32m     <a href='vscode-notebook-cell:/p%3A/FRONTEND/GIT_main/My_Pythone_Notes_Collections/RAW/aNGeLaPy_uDeMy/Dr.%20Angela%20Yu/100%20Days%20of%20Code%20The%20Complete%20Python%20Pro%20Bootcamp%20for%202023/D7/d7.ipynb#W4sZmlsZQ%3D%3D?line=22'>23</a>\u001b[0m     \u001b[39mreturn\u001b[39;00m random\u001b[39m.\u001b[39mrandint(\u001b[39m400\u001b[39m, \u001b[39m600\u001b[39m)  \u001b[39m# Simulating stock price between 400 and 600\u001b[39;00m\n\u001b[0;32m     <a href='vscode-notebook-cell:/p%3A/FRONTEND/GIT_main/My_Pythone_Notes_Collections/RAW/aNGeLaPy_uDeMy/Dr.%20Angela%20Yu/100%20Days%20of%20Code%20The%20Complete%20Python%20Pro%20Bootcamp%20for%202023/D7/d7.ipynb#W4sZmlsZQ%3D%3D?line=24'>25</a>\u001b[0m \u001b[39m# Starting real-time data processing\u001b[39;00m\n\u001b[1;32m---> <a href='vscode-notebook-cell:/p%3A/FRONTEND/GIT_main/My_Pythone_Notes_Collections/RAW/aNGeLaPy_uDeMy/Dr.%20Angela%20Yu/100%20Days%20of%20Code%20The%20Complete%20Python%20Pro%20Bootcamp%20for%202023/D7/d7.ipynb#W4sZmlsZQ%3D%3D?line=25'>26</a>\u001b[0m process_stock_prices()\n",
      "\u001b[1;32mp:\\FRONTEND\\GIT_main\\My_Pythone_Notes_Collections\\RAW\\aNGeLaPy_uDeMy\\Dr. Angela Yu\\100 Days of Code The Complete Python Pro Bootcamp for 2023\\D7\\d7.ipynb Cell 5\u001b[0m line \u001b[0;36m1\n\u001b[0;32m     <a href='vscode-notebook-cell:/p%3A/FRONTEND/GIT_main/My_Pythone_Notes_Collections/RAW/aNGeLaPy_uDeMy/Dr.%20Angela%20Yu/100%20Days%20of%20Code%20The%20Complete%20Python%20Pro%20Bootcamp%20for%202023/D7/d7.ipynb#W4sZmlsZQ%3D%3D?line=14'>15</a>\u001b[0m     \u001b[39m# Execute actions for handling the high stock price\u001b[39;00m\n\u001b[0;32m     <a href='vscode-notebook-cell:/p%3A/FRONTEND/GIT_main/My_Pythone_Notes_Collections/RAW/aNGeLaPy_uDeMy/Dr.%20Angela%20Yu/100%20Days%20of%20Code%20The%20Complete%20Python%20Pro%20Bootcamp%20for%202023/D7/d7.ipynb#W4sZmlsZQ%3D%3D?line=15'>16</a>\u001b[0m \u001b[39melse\u001b[39;00m:\n\u001b[0;32m     <a href='vscode-notebook-cell:/p%3A/FRONTEND/GIT_main/My_Pythone_Notes_Collections/RAW/aNGeLaPy_uDeMy/Dr.%20Angela%20Yu/100%20Days%20of%20Code%20The%20Complete%20Python%20Pro%20Bootcamp%20for%202023/D7/d7.ipynb#W4sZmlsZQ%3D%3D?line=16'>17</a>\u001b[0m     \u001b[39mprint\u001b[39m(\u001b[39mf\u001b[39m\u001b[39m\"\u001b[39m\u001b[39mStock price is normal: \u001b[39m\u001b[39m{\u001b[39;00mcurrent_stock_price\u001b[39m}\u001b[39;00m\u001b[39m.\u001b[39m\u001b[39m\"\u001b[39m)\n\u001b[1;32m---> <a href='vscode-notebook-cell:/p%3A/FRONTEND/GIT_main/My_Pythone_Notes_Collections/RAW/aNGeLaPy_uDeMy/Dr.%20Angela%20Yu/100%20Days%20of%20Code%20The%20Complete%20Python%20Pro%20Bootcamp%20for%202023/D7/d7.ipynb#W4sZmlsZQ%3D%3D?line=17'>18</a>\u001b[0m time\u001b[39m.\u001b[39;49msleep(\u001b[39m2\u001b[39;49m)\n",
      "\u001b[1;31mKeyboardInterrupt\u001b[0m: "
     ]
    }
   ],
   "source": [
    "import random\n",
    "import time\n",
    "\n",
    "# Simulating real-time data processing: stock price monitoring\n",
    "stock_price_threshold = 500  # Threshold for stock price alert\n",
    "stock_price_normal = True\n",
    "\n",
    "# Function to simulate real-time data processing for stock prices\n",
    "def process_stock_prices():\n",
    "    global stock_price_normal\n",
    "    while stock_price_normal:\n",
    "        current_stock_price = get_stock_price()  # Simulating fetching current stock price\n",
    "        if current_stock_price > stock_price_threshold:\n",
    "            print(f\"Stock price is above the threshold: {current_stock_price}. Alert triggered!\")\n",
    "            # Execute actions for handling the high stock price\n",
    "        else:\n",
    "            print(f\"Stock price is normal: {current_stock_price}.\")\n",
    "        time.sleep(2)  # Simulating real-time delay\n",
    "\n",
    "# Simulating function to get current stock price\n",
    "def get_stock_price():\n",
    "    # Simulating fetching current stock price\n",
    "    return random.randint(400, 600)  # Simulating stock price between 400 and 600\n",
    "\n",
    "# Starting real-time data processing\n",
    "process_stock_prices()\n"
   ]
  },
  {
   "cell_type": "code",
   "execution_count": null,
   "metadata": {},
   "outputs": [],
   "source": [
    "data_received = False\n",
    "while not data_received:\n",
    "    # Check for incoming data\n",
    "    # Set data_received to True when desired data is received\n",
    "    pass\n"
   ]
  }
 ],
 "metadata": {
  "kernelspec": {
   "display_name": "Python 3",
   "language": "python",
   "name": "python3"
  },
  "language_info": {
   "codemirror_mode": {
    "name": "ipython",
    "version": 3
   },
   "file_extension": ".py",
   "mimetype": "text/x-python",
   "name": "python",
   "nbconvert_exporter": "python",
   "pygments_lexer": "ipython3",
   "version": "3.10.5"
  },
  "orig_nbformat": 4
 },
 "nbformat": 4,
 "nbformat_minor": 2
}
