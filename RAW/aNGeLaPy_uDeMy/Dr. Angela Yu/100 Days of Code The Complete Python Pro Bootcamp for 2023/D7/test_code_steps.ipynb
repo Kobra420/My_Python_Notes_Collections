{
 "cells": [
  {
   "cell_type": "code",
   "execution_count": null,
   "metadata": {},
   "outputs": [],
   "source": [
    "word_list = [\"aardvark\", \"baboon\", \"camel\"]\n",
    "import random\n",
    "chosen_word = random.choice(word_list)\n",
    "guess = input(\"Guess a letter: \").lower()\n",
    "for letter in chosen_word:\n",
    "    if letter == guess:\n",
    "        print(\"Right\")\n",
    "    else:\n",
    "        print(\"Wrong\")"
   ]
  },
  {
   "cell_type": "code",
   "execution_count": null,
   "metadata": {},
   "outputs": [],
   "source": [
    "word_list = [\"aardvark\", \"baboon\", \"camel\"]\n",
    "import random\n",
    "chosen_word = random.choice(word_list)\n",
    "guess = input(\"Guess a letter: \").lower()\n",
    "for letter in chosen_word:\n",
    "    print(\"Right\") if letter == guess else print(\"Wrong\")"
   ]
  },
  {
   "cell_type": "code",
   "execution_count": 12,
   "metadata": {},
   "outputs": [
    {
     "name": "stdout",
     "output_type": "stream",
     "text": [
      "Regular\n",
      "x is greater than y\n",
      "ShortHand\n",
      "x is greater than y\n"
     ]
    }
   ],
   "source": [
    "# Regular nested if-else with elif statements\n",
    "x = 10\n",
    "y = 5\n",
    "if x > y:\n",
    "    result = \"x is greater than y\"\n",
    "elif x < y:\n",
    "    result = \"x is less than y\"\n",
    "else:\n",
    "    result = \"x is equal to y\"\n",
    "print(\"Regular\")\n",
    "print(result)\n",
    "\n",
    "# Shorthand nested if-else with elif\n",
    "x = 10\n",
    "y = 5\n",
    "resulti = \"x is greater than y\" if x > y else \"x is less than y\" if x < y else \"x is equal to y\"\n",
    "print(\"ShortHand\")\n",
    "print(resulti)\n"
   ]
  }
 ],
 "metadata": {
  "kernelspec": {
   "display_name": "Python 3",
   "language": "python",
   "name": "python3"
  },
  "language_info": {
   "codemirror_mode": {
    "name": "ipython",
    "version": 3
   },
   "file_extension": ".py",
   "mimetype": "text/x-python",
   "name": "python",
   "nbconvert_exporter": "python",
   "pygments_lexer": "ipython3",
   "version": "3.10.5"
  }
 },
 "nbformat": 4,
 "nbformat_minor": 2
}
