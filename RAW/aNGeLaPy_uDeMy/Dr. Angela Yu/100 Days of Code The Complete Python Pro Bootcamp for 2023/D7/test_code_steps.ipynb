{
 "cells": [
  {
   "cell_type": "code",
   "execution_count": null,
   "metadata": {},
   "outputs": [],
   "source": [
    "word_list = [\"aardvark\", \"baboon\", \"camel\"]\n",
    "import random\n",
    "chosen_word = random.choice(word_list)\n",
    "guess = input(\"Guess a letter: \").lower()\n",
    "for letter in chosen_word:\n",
    "    if letter == guess:\n",
    "        print(\"Right\")\n",
    "    else:\n",
    "        print(\"Wrong\")"
   ]
  },
  {
   "cell_type": "code",
   "execution_count": null,
   "metadata": {},
   "outputs": [],
   "source": [
    "word_list = [\"aardvark\", \"baboon\", \"camel\"]\n",
    "import random\n",
    "chosen_word = random.choice(word_list)\n",
    "guess = input(\"Guess a letter: \").lower()\n",
    "for letter in chosen_word:\n",
    "    print(\"Right\") if letter == guess else print(\"Wrong\")"
   ]
  },
  {
   "cell_type": "code",
   "execution_count": 7,
   "metadata": {},
   "outputs": [
    {
     "name": "stdout",
     "output_type": "stream",
     "text": [
      "Regular\n",
      "0\n",
      "1\n",
      "2\n",
      "3\n",
      "4\n",
      "Shorthand\n",
      "0\n",
      "1\n",
      "2\n",
      "3\n",
      "4\n"
     ]
    }
   ],
   "source": [
    "# Regular while loop\n",
    "count = 0\n",
    "print(\"Regular\")\n",
    "\n",
    "while count < 5:\n",
    "    print(count)\n",
    "    count += 1\n",
    "\n",
    "print(\"Shorthand\")\n",
    "# Shorthand while loop\n",
    "count = 0\n",
    "while count < 5: print(count); count += 1\n"
   ]
  }
 ],
 "metadata": {
  "kernelspec": {
   "display_name": "Python 3",
   "language": "python",
   "name": "python3"
  },
  "language_info": {
   "codemirror_mode": {
    "name": "ipython",
    "version": 3
   },
   "file_extension": ".py",
   "mimetype": "text/x-python",
   "name": "python",
   "nbconvert_exporter": "python",
   "pygments_lexer": "ipython3",
   "version": "3.10.5"
  }
 },
 "nbformat": 4,
 "nbformat_minor": 2
}
