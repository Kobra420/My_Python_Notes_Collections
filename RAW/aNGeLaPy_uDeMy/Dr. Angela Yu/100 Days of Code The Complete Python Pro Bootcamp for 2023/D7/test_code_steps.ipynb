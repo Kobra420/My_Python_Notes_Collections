{
 "cells": [
  {
   "cell_type": "code",
   "execution_count": null,
   "metadata": {},
   "outputs": [],
   "source": [
    "word_list = [\"aardvark\", \"baboon\", \"camel\"]\n",
    "import random\n",
    "chosen_word = random.choice(word_list)\n",
    "guess = input(\"Guess a letter: \").lower()\n",
    "for letter in chosen_word:\n",
    "    if letter == guess:\n",
    "        print(\"Right\")\n",
    "    else:\n",
    "        print(\"Wrong\")"
   ]
  },
  {
   "cell_type": "code",
   "execution_count": null,
   "metadata": {},
   "outputs": [],
   "source": [
    "word_list = [\"aardvark\", \"baboon\", \"camel\"]\n",
    "import random\n",
    "chosen_word = random.choice(word_list)\n",
    "guess = input(\"Guess a letter: \").lower()\n",
    "for letter in chosen_word:\n",
    "    print(\"Right\") if letter == guess else print(\"Wrong\")"
   ]
  },
  {
   "cell_type": "code",
   "execution_count": 3,
   "metadata": {},
   "outputs": [
    {
     "name": "stdout",
     "output_type": "stream",
     "text": [
      "Not greater than 5\n"
     ]
    }
   ],
   "source": [
    "# # Regular if-else statement\n",
    "# x = 10\n",
    "# if x > 5:\n",
    "#     result = \"Greater than 5\"\n",
    "# else:\n",
    "#     result = \"Not greater than 5\"\n",
    "\n",
    "\n",
    "# Shorthand using the ternary conditional operator\n",
    "x = 1\n",
    "result = \"Greater than 5\" if x > 5 else \"Not greater than 5\"\n",
    "print(result)"
   ]
  }
 ],
 "metadata": {
  "kernelspec": {
   "display_name": "Python 3",
   "language": "python",
   "name": "python3"
  },
  "language_info": {
   "codemirror_mode": {
    "name": "ipython",
    "version": 3
   },
   "file_extension": ".py",
   "mimetype": "text/x-python",
   "name": "python",
   "nbconvert_exporter": "python",
   "pygments_lexer": "ipython3",
   "version": "3.10.5"
  }
 },
 "nbformat": 4,
 "nbformat_minor": 2
}
