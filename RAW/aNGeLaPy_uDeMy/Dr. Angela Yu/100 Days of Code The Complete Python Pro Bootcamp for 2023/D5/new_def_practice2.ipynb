{
 "cells": [
  {
   "cell_type": "code",
   "execution_count": 1,
   "metadata": {},
   "outputs": [
    {
     "name": "stdout",
     "output_type": "stream",
     "text": [
      "[1. 0.]\n"
     ]
    }
   ],
   "source": [
    "# quadratic equation of 3x^2 + x + 1, x = 3\n",
    "\n",
    "import numpy as np\n",
    "\n",
    "a = np.array([[3, 1], [1, 1]])\n",
    "\n",
    "b = np.array([3, 1])\n",
    "\n",
    "x = np.linalg.solve(a, b)\n",
    "\n",
    "print(x)"
   ]
  },
  {
   "cell_type": "code",
   "execution_count": 3,
   "metadata": {},
   "outputs": [
    {
     "name": "stdout",
     "output_type": "stream",
     "text": [
      "-8\n"
     ]
    }
   ],
   "source": [
    "# quadratic equation\n",
    "\n",
    "import math\n",
    "\n",
    "a = int(input(\"Enter the value of a: \"))\n",
    "\n",
    "b = int(input(\"Enter the value of b: \"))\n",
    "\n",
    "c = int(input(\"Enter the value of c: \"))\n",
    "\n",
    "d = (b**2) - (4*a*c)\n",
    "print(d)"
   ]
  },
  {
   "cell_type": "code",
   "execution_count": 1,
   "metadata": {},
   "outputs": [
    {
     "name": "stdout",
     "output_type": "stream",
     "text": [
      "The factorial of 5 is: 120\n"
     ]
    }
   ],
   "source": [
    "# Recursive Factorial Function\n",
    "\n",
    "def factorial(n):\n",
    "    \"\"\"\n",
    "    Recursive function to calculate the factorial of a number.\n",
    "\n",
    "    Parameters:\n",
    "    - n: An integer for which the factorial is calculated.\n",
    "\n",
    "    Returns:\n",
    "    - The factorial of n.\n",
    "    \"\"\"\n",
    "    # Base case: factorial of 0 or 1 is 1\n",
    "    if n == 0 or n == 1:\n",
    "        return 1\n",
    "    else:\n",
    "        # Recursive case: n! = n * (n-1)!\n",
    "        return n * factorial(n - 1)\n",
    "\n",
    "# Example Usage:\n",
    "number = 5\n",
    "result = factorial(number)\n",
    "print(f\"The factorial of {number} is: {result}\")\n"
   ]
  }
 ],
 "metadata": {
  "kernelspec": {
   "display_name": "Python 3",
   "language": "python",
   "name": "python3"
  },
  "language_info": {
   "codemirror_mode": {
    "name": "ipython",
    "version": 3
   },
   "file_extension": ".py",
   "mimetype": "text/x-python",
   "name": "python",
   "nbconvert_exporter": "python",
   "pygments_lexer": "ipython3",
   "version": "3.10.5"
  }
 },
 "nbformat": 4,
 "nbformat_minor": 2
}
