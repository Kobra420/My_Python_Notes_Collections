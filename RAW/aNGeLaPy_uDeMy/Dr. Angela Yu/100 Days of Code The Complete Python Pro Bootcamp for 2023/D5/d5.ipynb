{
 "cells": [
  {
   "cell_type": "code",
   "execution_count": null,
   "metadata": {},
   "outputs": [],
   "source": [
    "# StudenHeights = [`180 124 165 173 189 169 146`]\n",
    "#Lul's codes\n",
    "student_heights = input(\"Input a list of student heights with single space in between \").split()\n",
    "for n in range(0, len(student_heights)):\n",
    "   student_heights[n] = int(student_heights[n]) # type: ignore \n",
    "total_height = 0\n",
    "for height in student_heights:\n",
    "    total_height = total_height + height# type: ignore\n",
    "    print(total_height)\n",
    "number_of_students = 0\n",
    "for student in student_heights:\n",
    "    number_of_students += 1\n",
    "print(number_of_students)\n",
    "average_height = total_height / number_of_students\n",
    "print(round(average_height, 2))"
   ]
  },
  {
   "cell_type": "code",
   "execution_count": null,
   "metadata": {},
   "outputs": [],
   "source": [
    "#  78 65 89 86 55 91 64 89\n",
    "student_scores = input(\"Input a list of student scores with single space in between: \").split()\n",
    "for n in range(0,len(student_scores)):\n",
    "    student_scores[n] = int(student_scores[n]) #type: ignore\n",
    "print(student_scores)\n",
    "\n",
    "# max function\n",
    "# print(max(student_scores))\n",
    "highest_score =0\n",
    "for score in student_scores:\n",
    "    if score > highest_score:# type: ignore\n",
    "        highest_score =score\n",
    "print(highest_score)"
   ]
  },
  {
   "cell_type": "code",
   "execution_count": 1,
   "metadata": {},
   "outputs": [
    {
     "name": "stdout",
     "output_type": "stream",
     "text": [
      "[('John', 'Jenny'), ('Charles', 'Christy'), ('Mike', 'Monica'), ('Vladimire', 'Vicky')]\n"
     ]
    }
   ],
   "source": [
    "a = (\"John\", \"Charles\", \"Mike\",\"Vladimire\")\n",
    "b = (\"Jenny\", \"Christy\", \"Monica\", \"Vicky\")\n",
    "\n",
    "x = zip(a, b)\n",
    "print(list(x))"
   ]
  }
 ],
 "metadata": {
  "kernelspec": {
   "display_name": "Python 3",
   "language": "python",
   "name": "python3"
  },
  "language_info": {
   "codemirror_mode": {
    "name": "ipython",
    "version": 3
   },
   "file_extension": ".py",
   "mimetype": "text/x-python",
   "name": "python",
   "nbconvert_exporter": "python",
   "pygments_lexer": "ipython3",
   "version": "3.10.5"
  },
  "orig_nbformat": 4,
  "vscode": {
   "interpreter": {
    "hash": "5188f43a3be21fca24182c1a8019c6efa14d456febb6dd84dc9b9110f78380ae"
   }
  }
 },
 "nbformat": 4,
 "nbformat_minor": 2
}
