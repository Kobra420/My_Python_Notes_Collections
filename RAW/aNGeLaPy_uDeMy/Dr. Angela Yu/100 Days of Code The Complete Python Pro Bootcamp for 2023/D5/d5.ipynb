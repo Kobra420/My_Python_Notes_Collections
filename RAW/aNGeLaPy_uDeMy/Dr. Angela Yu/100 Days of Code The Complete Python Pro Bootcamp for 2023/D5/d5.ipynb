{
 "cells": [
  {
   "cell_type": "code",
   "execution_count": null,
   "metadata": {},
   "outputs": [],
   "source": [
    "# StudenHeights = [`180 124 165 173 189 169 146`]\n",
    "#Lul's codes\n",
    "student_heights = input(\"Input a list of student heights with single space in between \").split()\n",
    "for n in range(0, len(student_heights)):\n",
    "   student_heights[n] = int(student_heights[n]) # type: ignore \n",
    "total_height = 0\n",
    "for height in student_heights:\n",
    "    total_height = total_height + height# type: ignore\n",
    "    print(total_height)\n",
    "number_of_students = 0\n",
    "for student in student_heights:\n",
    "    number_of_students += 1\n",
    "print(number_of_students)\n",
    "average_height = total_height / number_of_students\n",
    "print(round(average_height, 2))"
   ]
  },
  {
   "cell_type": "code",
   "execution_count": null,
   "metadata": {},
   "outputs": [],
   "source": [
    "#  78 65 89 86 55 91 64 89\n",
    "student_scores = input(\"Input a list of student scores with single space in between: \").split()\n",
    "for n in range(0,len(student_scores)):\n",
    "    student_scores[n] = int(student_scores[n]) #type: ignore\n",
    "print(student_scores)\n",
    "\n",
    "# max function\n",
    "# print(max(student_scores))\n",
    "highest_score =0\n",
    "for score in student_scores:\n",
    "    if score > highest_score:# type: ignore\n",
    "        highest_score =score\n",
    "print(highest_score)"
   ]
  },
  {
   "cell_type": "code",
   "execution_count": 2,
   "metadata": {},
   "outputs": [
    {
     "name": "stdout",
     "output_type": "stream",
     "text": [
      "[('John', 'Jenny'), ('Charles', 'Christy'), ('Mike', 'Monica'), ('Vladimire', 'Vicky')]\n"
     ]
    }
   ],
   "source": [
    "a = (\"John\", \"Charles\", \"Mike\",\"Vladimire\")\n",
    "b = (\"Jenny\", \"Christy\", \"Monica\", \"Vicky\")\n",
    "\n",
    "x = zip(a, b)\n",
    "print(list(x))"
   ]
  },
  {
   "cell_type": "code",
   "execution_count": 7,
   "metadata": {},
   "outputs": [
    {
     "name": "stdout",
     "output_type": "stream",
     "text": [
      "1 \t2 \tFizz\t4 \tBuzz\tFizz\t7 \t8 \tFizz\tBuzz\t11 \tFizz\t13 \t14 \tFizzBuzz\t"
     ]
    }
   ],
   "source": [
    "def fizz_buzz_game(n):\n",
    "    for i in range(1, n+1):\n",
    "        if i % 3 == 0 and i % 5 == 0:\n",
    "            print(\"FizzBuzz\\t\",end='')\n",
    "        elif i % 3 == 0:\n",
    "            print(\"Fizz\\t\",end='')\n",
    "        elif i % 5 == 0:\n",
    "            print(\"Buzz\\t\",end='')\n",
    "        else:\n",
    "            print(i,\"\\t\",end='')\n",
    "\n",
    "# Replace 100 with the desired range of the game\n",
    "fizz_buzz_game(15)\n"
   ]
  },
  {
   "cell_type": "code",
   "execution_count": null,
   "metadata": {},
   "outputs": [],
   "source": [
    "# quadratic qquation\n",
    "\n",
    "import math\n",
    "\n",
    "a = int(input(\"Enter the value of a: \"))\n",
    "\n",
    "b = int(input(\"Enter the value of b: \"))\n",
    "\n",
    "c = int(input(\"Enter the value of c: \"))\n",
    "\n",
    "d = (b**2) - (4*a*c)"
   ]
  },
  {
   "cell_type": "code",
   "execution_count": 1,
   "metadata": {},
   "outputs": [
    {
     "name": "stdout",
     "output_type": "stream",
     "text": [
      "[1. 0.]\n"
     ]
    }
   ],
   "source": [
    "# quadratic equation of 3x^2 + x + 1, x = 3\n",
    "\n",
    "import numpy as np\n",
    "\n",
    "a = np.array([[3, 1], [1, 1]])\n",
    "\n",
    "b = np.array([3, 1])\n",
    "\n",
    "x = np.linalg.solve(a, b)\n",
    "\n",
    "print(x)"
   ]
  },
  {
   "cell_type": "code",
   "execution_count": 2,
   "metadata": {},
   "outputs": [
    {
     "data": {
      "text/plain": [
       "31"
      ]
     },
     "execution_count": 2,
     "metadata": {},
     "output_type": "execute_result"
    }
   ],
   "source": [
    "# quadratic equation of 3x^2 + x + 1, x = 3\n",
    "def quadratic(x,const=1):\n",
    "    \"\"\"\n",
    "    Prints both required and default parameters.\n",
    "\n",
    "    Parameters:\n",
    "    - required_param: The required parameter.\n",
    "    - default_param: The parameter with a default value (default is 'Default Value').\n",
    "    \"\"\"\n",
    "    y = 3*(x**2)+ x + const\n",
    "    return y\n",
    "quadratic(3,1)"
   ]
  }
 ],
 "metadata": {
  "kernelspec": {
   "display_name": "Python 3",
   "language": "python",
   "name": "python3"
  },
  "language_info": {
   "codemirror_mode": {
    "name": "ipython",
    "version": 3
   },
   "file_extension": ".py",
   "mimetype": "text/x-python",
   "name": "python",
   "nbconvert_exporter": "python",
   "pygments_lexer": "ipython3",
   "version": "3.10.5"
  },
  "orig_nbformat": 4,
  "vscode": {
   "interpreter": {
    "hash": "5188f43a3be21fca24182c1a8019c6efa14d456febb6dd84dc9b9110f78380ae"
   }
  }
 },
 "nbformat": 4,
 "nbformat_minor": 2
}
