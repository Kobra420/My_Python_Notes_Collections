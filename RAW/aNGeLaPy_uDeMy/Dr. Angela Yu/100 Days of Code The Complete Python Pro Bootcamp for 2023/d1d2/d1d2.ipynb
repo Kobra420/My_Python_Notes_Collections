{
 "cells": [
  {
   "cell_type": "code",
   "execution_count": 2,
   "metadata": {},
   "outputs": [
    {
     "name": "stdout",
     "output_type": "stream",
     "text": [
      "Biswapradip Das\n"
     ]
    }
   ],
   "source": [
    "print(\"Biswapradip\"+\" \"+\"Das\")"
   ]
  },
  {
   "cell_type": "code",
   "execution_count": null,
   "metadata": {},
   "outputs": [],
   "source": [
    "print('e.g. print(\"Banti\"+\"Das\")')\n",
    "print()\n",
    "print()\n",
    "print('e.g. print(\"Banti\"+\"Das\")')"
   ]
  },
  {
   "cell_type": "code",
   "execution_count": null,
   "metadata": {},
   "outputs": [],
   "source": [
    "#input(\"A prompt for the user inputs\")\n",
    "print(input(\"A prompt for the user inputs\"))"
   ]
  },
  {
   "cell_type": "code",
   "execution_count": null,
   "metadata": {},
   "outputs": [],
   "source": [
    "# prints lenght of the input string\n",
    "print(len(input(\"Enter your name:\")))\n",
    "# prints datatype of the input\n",
    "print(type(input(\"Enter your name:\")))\n",
    "# Stores input string into a variable\n",
    "Name = input(\"Enter your name:\")\n",
    "# Called f-string which prints variables and strings together efficiently\n",
    "print(f\"lenght is {len(Name)} and datatype is {type(Name)} .\")"
   ]
  },
  {
   "cell_type": "code",
   "execution_count": null,
   "metadata": {},
   "outputs": [],
   "source": [
    "x = input(\"x:\")\n",
    "y = input (\"y:\")\n",
    "print(x,y)\n",
    "z = x\n",
    "x = y\n",
    "y = z\n",
    "print (x, y)"
   ]
  },
  {
   "cell_type": "code",
   "execution_count": 10,
   "metadata": {},
   "outputs": [
    {
     "name": "stdout",
     "output_type": "stream",
     "text": [
      "Welcome to the band generator:\n",
      "Your band name could be Biswa Humda. \n"
     ]
    }
   ],
   "source": [
    "print(\"Welcome to the band generator:\")\n",
    "CityName = input(\"What's the name of the city you grew up in? \\n \")\n",
    "PetName = input(\"What is your pet's name? \\n \")\n",
    "print(f\"Your band name could be {CityName} {PetName}. \")"
   ]
  },
  {
   "cell_type": "code",
   "execution_count": 22,
   "metadata": {},
   "outputs": [
    {
     "name": "stdout",
     "output_type": "stream",
     "text": [
      "Welcome to the tip calculator.\n",
      "Have to pay ₹101.0 each\n"
     ]
    }
   ],
   "source": [
    "print(\"Welcome to the tip calculator.\")\n",
    "TotalBill = float(input(\"What was the total bill?  \"))\n",
    "NumPeople = float(input(\"How many people to split the bill?  \"))\n",
    "Tip = float(input(\"What percebtage tip would you like to give? 10, 12, or 15?  \"))\n",
    "Pay = ((TotalBill) + (TotalBill)*(Tip/100)/NumPeople)\n",
    "print(f\"Have to pay ₹{Pay} each\")"
   ]
  },
  {
   "cell_type": "code",
   "execution_count": 13,
   "metadata": {},
   "outputs": [
    {
     "name": "stdout",
     "output_type": "stream",
     "text": [
      "7\n"
     ]
    }
   ],
   "source": [
    "Number = input(\"Enter the Number  \")\n",
    "SuM = int(Number[0]) + int(Number[1])\n",
    "print(SuM)"
   ]
  },
  {
   "cell_type": "code",
   "execution_count": 2,
   "metadata": {},
   "outputs": [
    {
     "name": "stdout",
     "output_type": "stream",
     "text": [
      "30.42184964845863\n",
      "30.42\n"
     ]
    }
   ],
   "source": [
    "height = float(input(\"Enter your height in m : \"))\n",
    "weight = float(input(\"Enter your weight in kg : \"))\n",
    "BMI = (weight)/(height**2)\n",
    "print(BMI)\n",
    "print(round(BMI,2))"
   ]
  },
  {
   "cell_type": "code",
   "execution_count": 19,
   "metadata": {},
   "outputs": [
    {
     "name": "stdout",
     "output_type": "stream",
     "text": [
      "Remaining minutes in your life until 90 is 29959200\n"
     ]
    }
   ],
   "source": [
    "Age = int(input(\"What is your current Age? \"))\n",
    "RemainingMinutes = ((((90-Age)*365)*24)*60)\n",
    "print(f\"Remaining minutes in your life until 90 is {RemainingMinutes}\")"
   ]
  },
  {
   "cell_type": "code",
   "execution_count": 10,
   "metadata": {},
   "outputs": [
    {
     "name": "stdout",
     "output_type": "stream",
     "text": [
      "You're \"comments\" or \"slash\"\n",
      "y\n",
      "a\n",
      "['x', 'y', 'z', 'a', 'a', 'b', 'c', 'd']\n"
     ]
    }
   ],
   "source": [
    "#Enabling backslash \"\\\" for longer comments\n",
    "print('You\\'re \"comments\" or \"slash\"')\n",
    "list = [\"x\", \"y\", \"z\"]\n",
    "print(list[-2])\n",
    "list.append(\"a\")\n",
    "print(list[3])\n",
    "list.extend([\"a\", \"b\", \"c\", \"d\"])\n",
    "print(list)"
   ]
  },
  {
   "cell_type": "code",
   "execution_count": 3,
   "metadata": {},
   "outputs": [
    {
     "name": "stdout",
     "output_type": "stream",
     "text": [
      "r\n",
      "StrSlc\n"
     ]
    }
   ],
   "source": [
    "print(\"hi there whats up\"[6])\n",
    "string=(\"StringSlicingConcatination\")\n",
    "print(string[0]+string[1]+string[2]+string[6]+string[7]+string[9])\n"
   ]
  }
 ],
 "metadata": {
  "kernelspec": {
   "display_name": "python_only",
   "language": "python",
   "name": "python3"
  },
  "language_info": {
   "codemirror_mode": {
    "name": "ipython",
    "version": 3
   },
   "file_extension": ".py",
   "mimetype": "text/x-python",
   "name": "python",
   "nbconvert_exporter": "python",
   "pygments_lexer": "ipython3",
   "version": "3.10.5"
  },
  "orig_nbformat": 4,
  "vscode": {
   "interpreter": {
    "hash": "8cb339834107f409755444428f8137373a739c5931b3e253907505cce24faefc"
   }
  }
 },
 "nbformat": 4,
 "nbformat_minor": 2
}
