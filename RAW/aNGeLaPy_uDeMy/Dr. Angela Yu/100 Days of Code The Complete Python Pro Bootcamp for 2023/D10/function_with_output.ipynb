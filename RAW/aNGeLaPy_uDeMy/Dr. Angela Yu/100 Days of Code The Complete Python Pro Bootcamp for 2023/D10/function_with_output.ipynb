{
 "cells": [
  {
   "cell_type": "code",
   "execution_count": null,
   "metadata": {},
   "outputs": [],
   "source": [
    "# check previous knowledge\n",
    "a =int(input())\n",
    "b = int(input())\n",
    "def add(x=a,y=b):\n",
    "    return x+y\n",
    "\n",
    "print(add(a,b))"
   ]
  },
  {
   "cell_type": "code",
   "execution_count": null,
   "metadata": {},
   "outputs": [],
   "source": [
    "# simple function Title Name output\n",
    "def format_name():\n",
    "    f_name =input(\"FirstName:\")\n",
    "    l_name =input(\"LastName:\")\n",
    "    formatted_name = print(f\"{f_name.title()} {l_name.title()}\")\n",
    "    return formatted_name\n",
    "format_name()"
   ]
  },
  {
   "cell_type": "code",
   "execution_count": 1,
   "metadata": {},
   "outputs": [
    {
     "name": "stdout",
     "output_type": "stream",
     "text": [
      "Banti Das\n"
     ]
    },
    {
     "data": {
      "text/plain": [
       "[None]"
      ]
     },
     "execution_count": 1,
     "metadata": {},
     "output_type": "execute_result"
    }
   ],
   "source": [
    "#mulitiple return in def\n",
    "def format_name():\n",
    "    #docstring\n",
    "    \"\"\"\n",
    "    This function takes in two names and formats them into Title words that is capital in first letter\n",
    "    \"\"\"\n",
    "    \n",
    "    user_input = False\n",
    "    while not user_input:\n",
    "        name_lst = []\n",
    "        #if f_name == \"\" or l_name == \"\":\n",
    "        f_name =input(\"FirstName:\")\n",
    "        l_name =input(\"LastName:\")\n",
    "        if f_name == \"\" or l_name == \"\":\n",
    "            print(\"No names given\")\n",
    "            continue\n",
    "        formatted_name = print(f\"{f_name.title()} {l_name.title()}\")\n",
    "        name_lst.append(formatted_name)\n",
    "        user_choice =input(\"Do you want to continue? (y/n)\")\n",
    "        if user_choice == 'y':\n",
    "            user_input = True\n",
    "        elif user_choice == 'n':\n",
    "            user_input = False\n",
    "            print(\"Goodbye\")\n",
    "            break\n",
    "    return name_lst\n",
    "format_name()"
   ]
  },
  {
   "cell_type": "code",
   "execution_count": 4,
   "metadata": {},
   "outputs": [
    {
     "name": "stdout",
     "output_type": "stream",
     "text": [
      "Frbruary\n",
      "29\n"
     ]
    }
   ],
   "source": [
    "def is_leap(year):\n",
    "  if year % 4 == 0:\n",
    "    if year % 100 == 0:\n",
    "      if year % 400 == 0:\n",
    "        return True\n",
    "      else:\n",
    "        return False\n",
    "    else:\n",
    "      return True\n",
    "  else:\n",
    "    return False\n",
    "\n",
    "def days_in_month(year,month):\n",
    "    #docstring\n",
    "    \"\"\"\n",
    "    Take year and month as input and provide the days of the month\n",
    "    \"\"\"\n",
    "    month_days = [31, 28, 31, 30, 31, 30, 31, 31, 30, 31, 30, 31]\n",
    "    month_name = \"January Frbruary March April May June July August September October November December\"\n",
    "    month_name_lst = month_name.split(' ')\n",
    "    if is_leap(year) and month == 2:\n",
    "        print(f\"{month_name_lst[month-1]}\")\n",
    "        return 29\n",
    "    print(f\"{month_name_lst[month-1]}\")\n",
    "    return month_days[month-1]\n",
    "\n",
    "  \n",
    "#🚨 Do NOT change any of the code below \n",
    "year = int(input(\"Enter a year: \"))\n",
    "month = int(input(\"Enter a month: \"))\n",
    "days = days_in_month(year, month)\n",
    "print(days)"
   ]
  }
 ],
 "metadata": {
  "kernelspec": {
   "display_name": "Python 3",
   "language": "python",
   "name": "python3"
  },
  "language_info": {
   "codemirror_mode": {
    "name": "ipython",
    "version": 3
   },
   "file_extension": ".py",
   "mimetype": "text/x-python",
   "name": "python",
   "nbconvert_exporter": "python",
   "pygments_lexer": "ipython3",
   "version": "3.10.5"
  },
  "orig_nbformat": 4
 },
 "nbformat": 4,
 "nbformat_minor": 2
}
