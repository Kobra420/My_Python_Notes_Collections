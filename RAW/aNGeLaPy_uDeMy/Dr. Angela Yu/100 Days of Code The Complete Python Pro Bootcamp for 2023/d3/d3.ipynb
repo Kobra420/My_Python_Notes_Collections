{
 "cells": [
  {
   "cell_type": "code",
   "execution_count": null,
   "metadata": {},
   "outputs": [],
   "source": [
    "#check elif\n",
    "print(\"welcome\")\n",
    "height = int(input(\"Enter your height\"))\n",
    "if height >= 1000:\n",
    "    print(\"Anaconda\")\n",
    "else :\n",
    "    print(\"dwarf\")"
   ]
  },
  {
   "cell_type": "code",
   "execution_count": null,
   "metadata": {},
   "outputs": [],
   "source": [
    "#odd-even\n",
    "number = int(input(\"Which number do you want to check? \"))\n",
    "check = number % 2\n",
    "if check == 0:\n",
    "    print(f\"The {number} is even number\")\n",
    "else:\n",
    "    print(f\"The {number} is odd number\")"
   ]
  },
  {
   "cell_type": "code",
   "execution_count": null,
   "metadata": {},
   "outputs": [],
   "source": [
    "#bmi 2.0\n",
    "height = float(input(\"enter your height: \"))\n",
    "weight = float(input(\"enter your weight: \"))\n",
    "bmi = (weight)/(height ** 2)\n",
    "# bmi = float(input())---  test\n",
    "print(round(bmi,2))\n",
    "if bmi > 35:\n",
    "    print(\"clinical Obese\")\n",
    "elif bmi > 30 and bmi < 35:\n",
    "    print(\"Obese\")\n",
    "elif bmi <= 30 and bmi > 25:\n",
    "    print(\"Overweight\")\n",
    "elif bmi > 18.5 and bmi <= 25:\n",
    "    print(\"Normal\")\n",
    "elif bmi <= 18.5:\n",
    "    print(\"Underweight\")"
   ]
  }
 ],
 "metadata": {
  "kernelspec": {
   "display_name": "python_only",
   "language": "python",
   "name": "python3"
  },
  "language_info": {
   "codemirror_mode": {
    "name": "ipython",
    "version": 3
   },
   "file_extension": ".py",
   "mimetype": "text/x-python",
   "name": "python",
   "nbconvert_exporter": "python",
   "pygments_lexer": "ipython3",
   "version": "3.10.4"
  },
  "orig_nbformat": 4,
  "vscode": {
   "interpreter": {
    "hash": "8cb339834107f409755444428f8137373a739c5931b3e253907505cce24faefc"
   }
  }
 },
 "nbformat": 4,
 "nbformat_minor": 2
}
