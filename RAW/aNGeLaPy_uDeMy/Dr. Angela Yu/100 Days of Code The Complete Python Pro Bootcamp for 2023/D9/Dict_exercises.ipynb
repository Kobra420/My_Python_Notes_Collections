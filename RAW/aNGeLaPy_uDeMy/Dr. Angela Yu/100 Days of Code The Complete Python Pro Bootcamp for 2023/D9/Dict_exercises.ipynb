{
 "cells": [
  {
   "cell_type": "code",
   "execution_count": 3,
   "metadata": {},
   "outputs": [
    {
     "ename": "TypeError",
     "evalue": "list indices must be integers or slices, not str",
     "output_type": "error",
     "traceback": [
      "\u001b[1;31m---------------------------------------------------------------------------\u001b[0m",
      "\u001b[1;31mTypeError\u001b[0m                                 Traceback (most recent call last)",
      "\u001b[1;32mp:\\FRONTEND\\GIT_main\\My_Pythone_Notes_Collections\\RAW\\aNGeLaPy_uDeMy\\Dr. Angela Yu\\100 Days of Code The Complete Python Pro Bootcamp for 2023\\D9\\Dict_exercises.ipynb Cell 1\u001b[0m line \u001b[0;36m2\n\u001b[0;32m     <a href='vscode-notebook-cell:/p%3A/FRONTEND/GIT_main/My_Pythone_Notes_Collections/RAW/aNGeLaPy_uDeMy/Dr.%20Angela%20Yu/100%20Days%20of%20Code%20The%20Complete%20Python%20Pro%20Bootcamp%20for%202023/D9/Dict_exercises.ipynb#W0sZmlsZQ%3D%3D?line=24'>25</a>\u001b[0m add_new_country(\u001b[39m\"\u001b[39m\u001b[39mRussia\u001b[39m\u001b[39m\"\u001b[39m, \u001b[39m2\u001b[39m, [\u001b[39m\"\u001b[39m\u001b[39mMoscow\u001b[39m\u001b[39m\"\u001b[39m, \u001b[39m\"\u001b[39m\u001b[39mSaint Petersburg\u001b[39m\u001b[39m\"\u001b[39m])\n\u001b[0;32m     <a href='vscode-notebook-cell:/p%3A/FRONTEND/GIT_main/My_Pythone_Notes_Collections/RAW/aNGeLaPy_uDeMy/Dr.%20Angela%20Yu/100%20Days%20of%20Code%20The%20Complete%20Python%20Pro%20Bootcamp%20for%202023/D9/Dict_exercises.ipynb#W0sZmlsZQ%3D%3D?line=26'>27</a>\u001b[0m add_new_country(\u001b[39m\"\u001b[39m\u001b[39mChina\u001b[39m\u001b[39m\"\u001b[39m, \u001b[39m3\u001b[39m, [\u001b[39m\"\u001b[39m\u001b[39mBejing\u001b[39m\u001b[39m\"\u001b[39m,\u001b[39m\"\u001b[39m\u001b[39mHongkong\u001b[39m\u001b[39m\"\u001b[39m,\u001b[39m\"\u001b[39m\u001b[39mShanghai\u001b[39m\u001b[39m\"\u001b[39m])\n\u001b[1;32m---> <a href='vscode-notebook-cell:/p%3A/FRONTEND/GIT_main/My_Pythone_Notes_Collections/RAW/aNGeLaPy_uDeMy/Dr.%20Angela%20Yu/100%20Days%20of%20Code%20The%20Complete%20Python%20Pro%20Bootcamp%20for%202023/D9/Dict_exercises.ipynb#W0sZmlsZQ%3D%3D?line=28'>29</a>\u001b[0m \u001b[39mprint\u001b[39m(travel_log[\u001b[39m\"\u001b[39;49m\u001b[39mChina\u001b[39;49m\u001b[39m\"\u001b[39;49m])\n",
      "\u001b[1;31mTypeError\u001b[0m: list indices must be integers or slices, not str"
     ]
    }
   ],
   "source": [
    "travel_log = [\n",
    "{\n",
    "  \"country\": \"France\",\n",
    "  \"visits\": 12,\n",
    "  \"cities\": [\"Paris\", \"Lille\", \"Dijon\"]\n",
    "},\n",
    "{\n",
    "  \"country\": \"Germany\",\n",
    "  \"visits\": 5,\n",
    "  \"cities\": [\"Berlin\", \"Hamburg\", \"Stuttgart\"]\n",
    "},\n",
    "]\n",
    "#🚨 Do NOT change the code above\n",
    "\n",
    "#TODO: Write the function that will allow new countries\n",
    "#to be added to the travel_log. 👇\n",
    "def add_new_country(country_name,num_visit,cities):\n",
    "    new_country = {}\n",
    "    new_country[\"country\"] = country_name\n",
    "    new_country[\"visits\"] = num_visit\n",
    "    new_country[\"cities\"] = cities\n",
    "    travel_log.append(new_country)\n",
    "\n",
    "#🚨 Do not change the code below\n",
    "add_new_country(\"Russia\", 2, [\"Moscow\", \"Saint Petersburg\"])\n",
    "\n",
    "add_new_country(\"China\", 3, [\"Bejing\",\"Hongkong\",\"Shanghai\"])\n",
    "\n",
    "# Assuming travel_log is already defined as mentioned in the previous conversation\n",
    "\n",
    "def find_visits_in_country(country_name):\n",
    "    for entry in travel_log:\n",
    "        if entry[\"country\"] == country_name:\n",
    "            return entry[\"visits\"]\n",
    "    return f\"{country_name} not found in travel_log\"\n",
    "\n",
    "# Example: Find visits to China\n",
    "visits_to_china = find_visits_in_country(\"China\")\n",
    "print(visits_to_china)\n"
   ]
  },
  {
   "cell_type": "code",
   "execution_count": null,
   "metadata": {},
   "outputs": [],
   "source": []
  }
 ],
 "metadata": {
  "kernelspec": {
   "display_name": "Python 3",
   "language": "python",
   "name": "python3"
  },
  "language_info": {
   "codemirror_mode": {
    "name": "ipython",
    "version": 3
   },
   "file_extension": ".py",
   "mimetype": "text/x-python",
   "name": "python",
   "nbconvert_exporter": "python",
   "pygments_lexer": "ipython3",
   "version": "3.10.5"
  },
  "orig_nbformat": 4
 },
 "nbformat": 4,
 "nbformat_minor": 2
}
