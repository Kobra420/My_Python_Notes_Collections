{
 "cells": [
  {
   "cell_type": "code",
   "execution_count": 7,
   "metadata": {},
   "outputs": [
    {
     "name": "stdout",
     "output_type": "stream",
     "text": [
      "3\n",
      "2\n",
      "['Bejing', 'Hongkong', 'Shanghai']\n",
      "Hongkong\n"
     ]
    }
   ],
   "source": [
    "travel_log = [\n",
    "{\n",
    "  \"country\": \"France\",\n",
    "  \"visits\": 12,\n",
    "  \"cities\": [\"Paris\", \"Lille\", \"Dijon\"]\n",
    "},\n",
    "{\n",
    "  \"country\": \"Germany\",\n",
    "  \"visits\": 5,\n",
    "  \"cities\": [\"Berlin\", \"Hamburg\", \"Stuttgart\"]\n",
    "},\n",
    "]\n",
    "#🚨 Do NOT change the code above\n",
    "\n",
    "#TODO: Write the function that will allow new countries\n",
    "#to be added to the travel_log. 👇\n",
    "def add_new_country(country_name,num_visit,cities):\n",
    "    new_country = {}\n",
    "    new_country[\"country\"] = country_name\n",
    "    new_country[\"visits\"] = num_visit\n",
    "    new_country[\"cities\"] = cities\n",
    "    travel_log.append(new_country)\n",
    "\n",
    "#🚨 Do not change the code below\n",
    "add_new_country(\"Russia\", 2, [\"Moscow\", \"Saint Petersburg\"])\n",
    "\n",
    "add_new_country(\"China\", 3, [\"Bejing\",\"Hongkong\",\"Shanghai\"])\n",
    "\n",
    "# Assuming travel_log is already defined as mentioned in the previous conversation\n",
    "\n",
    "def find_visits_in_country(country_name):\n",
    "    for entry in travel_log:\n",
    "        if entry[\"country\"] == country_name:\n",
    "            return entry[\"visits\"]\n",
    "    return f\"{country_name} not found in travel_log\"\n",
    "\n",
    "# Example: Find visits to China\n",
    "visits_to_china = find_visits_in_country(\"China\")\n",
    "print(visits_to_china)\n",
    "\n",
    "# Example: Find visits to Russia\n",
    "visits_to_russia = find_visits_in_country(\"Russia\")\n",
    "print(visits_to_russia)\n",
    "\n",
    "# Example: Find cities of China that was visited\n",
    "def find_cities_visited_in_country(country_name):\n",
    "    for entry in travel_log:\n",
    "        if entry[\"country\"] == country_name:\n",
    "            return entry[\"cities\"]\n",
    "    return f\"{country_name} not found in travel_log\"\n",
    "\n",
    "cities_visited_China = find_cities_visited_in_country(\"China\")\n",
    "print(cities_visited_China)\n",
    "try:\n",
    "    cities_visited_China = find_cities_visited_in_country(\"China\")\n",
    "    print(cities_visited_China[1])\n",
    "except:\n",
    "    print(\"Not found\")\n"
   ]
  },
  {
   "cell_type": "code",
   "execution_count": null,
   "metadata": {},
   "outputs": [],
   "source": []
  }
 ],
 "metadata": {
  "kernelspec": {
   "display_name": "Python 3",
   "language": "python",
   "name": "python3"
  },
  "language_info": {
   "codemirror_mode": {
    "name": "ipython",
    "version": 3
   },
   "file_extension": ".py",
   "mimetype": "text/x-python",
   "name": "python",
   "nbconvert_exporter": "python",
   "pygments_lexer": "ipython3",
   "version": "3.10.5"
  },
  "orig_nbformat": 4
 },
 "nbformat": 4,
 "nbformat_minor": 2
}
