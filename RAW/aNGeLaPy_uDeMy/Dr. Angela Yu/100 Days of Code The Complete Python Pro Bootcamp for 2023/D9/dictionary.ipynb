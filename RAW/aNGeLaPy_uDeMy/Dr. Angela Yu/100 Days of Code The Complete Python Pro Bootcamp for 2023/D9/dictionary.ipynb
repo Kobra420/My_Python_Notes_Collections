{
 "cells": [
  {
   "cell_type": "code",
   "execution_count": null,
   "metadata": {},
   "outputs": [],
   "source": [
    "programming_dictionary = {\"Bug\": \"An error in a program that prevents the program from running as expected.\",\n",
    "                          \"Function\": \"A piece of code that you can easily call over and over again.\",\n",
    "                          \"Loop\": \"The action of doing something over and over again.\",\n",
    "                          \"Class\": \"A blueprint for creating objects.\",\n",
    "                          \"Object\": \"An instance of a class.\"}\n",
    "#retrieving items from dictionary\n",
    "print(programming_dictionary[\"Function\"])\n",
    "print(programming_dictionary[\"Class\"])\n",
    "#adding new items to dictionary"
   ]
  },
  {
   "cell_type": "code",
   "execution_count": null,
   "metadata": {},
   "outputs": [],
   "source": [
    "programming_dictionary = {\"Bug\": \"An error in a program that prevents the program from running as expected.\",\n",
    "                          \"Function\": \"A piece of code that you can easily call over and over again.\",\n",
    "                          \"Loop\": \"The action of doing something over and over again.\",\n",
    "                          \"Class\": \"A blueprint for creating objects.\",\n",
    "                          \"Object\": \"An instance of a class.\"}\n",
    "\n",
    "# #editing items in dictionary\n",
    "# programming_dictionary[\"Bug\"] = \"A bed bug.\"\n",
    "# programming_dictionary[\"Arguement\"] = \"An argument that you can pass to a function.\"\n",
    "# print(programming_dictionary)\n",
    "#deleting items from dictionary\n",
    "# del programming_dictionary[\"Arguement\"] #deleting an item\n",
    "# print(programming_dictionary)\n",
    "#clearing dictionary\n",
    "# programming_dictionary ={}\n",
    "# #clearing dictionary\n",
    "# programming_dictionary.clear() #clearing dictionary\n",
    "# print(programming_dictionary)\n",
    "# copy_dictionary = programming_dictionary.copy()#creating a copy\n",
    "# print(copy_dictionary)\n",
    "#empty dictionary\n",
    "# empty_dictionary = {}\n",
    "# print(empty_dictionary)\n",
    "#looping through dictionary\n",
    "# for key in programming_dictionary:\n",
    "#     print(key)\n",
    "#     print(programming_dictionary[key])\n",
    "# for value in programming_dictionary.values():\n",
    "#     print(value)\n",
    "# for key, value in programming_dictionary.items():\n",
    "#     print(f\"{key}:{value}\")\n",
    "# print(programming_dictionary)"
   ]
  },
  {
   "cell_type": "code",
   "execution_count": null,
   "metadata": {},
   "outputs": [],
   "source": [
    "#nesting\n",
    "capitals = {\n",
    "    \"France\":\"Paris\",\n",
    "    \"Germany\":\"Berlin\",\n",
    "}\n",
    "# print(capitals[\"Germany\"])\n",
    "# print(capitals)\n",
    "\n",
    "#nested lists\n",
    "\n",
    "travel_log = {\n",
    "    \"France\":[\"Paris\",\"Lille\",\"Dijon\"],\n",
    "    \"Germany\":[\"Berlin\",\"Hamburg\",\"Stuttgart\"],\n",
    "    \"India\":[\"Mumbai\",\"Delhi\",\"Chennai\"],\n",
    "    \"China\":[\"Beijing\",\"Shanghai\",\"Peking\"],\n",
    "    \"Russia\":[\"Moscow\",\"Saint Petersburg\",\"Novosibirsk\"],\n",
    "    \"USA\":[\"Washington DC\",\"Los Angeles\",\"New York\"],\n",
    "    \"UK\":[\"London\",\"Manchester\",\"Liverpool\"]\n",
    "    }\n",
    "print(travel_log[\"India\"])"
   ]
  },
  {
   "cell_type": "code",
   "execution_count": null,
   "metadata": {},
   "outputs": [],
   "source": [
    "#nesting a list in dictionry\n",
    "travel_log = {\n",
    "    \"uttar_pradesh\":[\"lakhnau\",\"ayodhya\",\"mirat\"],\n",
    "    \"gujrat\":[\"ahmedabad\",\"gandhinagar\",\"surat\"],\n",
    "    \"karnataka\":[\"bengaluru\",\"maysuru\",\"mangaluru\"]\n",
    "}\n",
    "print(travel_log[\"uttar_pradesh\"][1])\n"
   ]
  },
  {
   "cell_type": "code",
   "execution_count": null,
   "metadata": {},
   "outputs": [],
   "source": [
    "# nesting a dictionary in dictionary\n",
    "travel_log1 = {\n",
    "    \"uttar_pradesh\":{\"cities_visited\":[\"lakhnau\",\"ayodhya\",\"mirat\"],\"total_visits\":6},\n",
    "    \"gujrat\":{\"cities_visited\":[\"ahmedabad\",\"gandhinagar\",\"surat\"],\"total_visits\":3},\n",
    "    \"karnataka\":{\"cities_visited\":[\"bengaluru\",\"maysuru\",\"mangaluru\"],\"total_visits\":4}\n",
    "}\n",
    "print(travel_log1[\"karnataka\"][\"total_visits\"][-1])\n"
   ]
  },
  {
   "cell_type": "code",
   "execution_count": null,
   "metadata": {},
   "outputs": [],
   "source": [
    "# Game_Data\n",
    "data = [\n",
    "    {\n",
    "        'name': 'Instagram',\n",
    "        'follower_count': 346,\n",
    "        'description': 'Social media platform',\n",
    "        'country': 'United States'\n",
    "    },\n",
    "    {\n",
    "        'name': 'Cristiano Ronaldo',\n",
    "        'follower_count': 215,\n",
    "        'description': 'Footballer',\n",
    "        'country': 'Portugal'\n",
    "    },\n",
    "    {\n",
    "        'name': 'Ariana Grande',\n",
    "        'follower_count': 183,\n",
    "        'description': 'Musician and actress',\n",
    "        'country': 'United States'\n",
    "    },\n",
    "    {\n",
    "        'name': 'Dwayne Johnson',\n",
    "        'follower_count': 181,\n",
    "        'description': 'Actor and professional wrestler',\n",
    "        'country': 'United States'\n",
    "    },\n",
    "    {\n",
    "        'name': 'Selena Gomez',\n",
    "        'follower_count': 174,\n",
    "        'description': 'Musician and actress',\n",
    "        'country': 'United States'\n",
    "    },\n",
    "    {\n",
    "        'name': 'Kylie Jenner',\n",
    "        'follower_count': 172,\n",
    "        'description': 'Reality TV personality and businesswoman and Self-Made Billionaire',\n",
    "        'country': 'United States'\n",
    "    },\n",
    "    {\n",
    "        'name': 'Kim Kardashian',\n",
    "        'follower_count': 167,\n",
    "        'description': 'Reality TV personality and businesswoman',\n",
    "        'country': 'United States'\n",
    "    },\n",
    "    {\n",
    "        'name': 'Lionel Messi',\n",
    "        'follower_count': 149,\n",
    "        'description': 'Footballer',\n",
    "        'country': 'Argentina'\n",
    "    },\n",
    "    {\n",
    "        'name': 'Beyoncé',\n",
    "        'follower_count': 145,\n",
    "        'description': 'Musician',\n",
    "        'country': 'United States'\n",
    "    },\n",
    "    {\n",
    "        'name': 'Neymar',\n",
    "        'follower_count': 138,\n",
    "        'description': 'Footballer',\n",
    "        'country': 'Brasil'\n",
    "    },\n",
    "    {\n",
    "        'name': 'National Geographic',\n",
    "        'follower_count': 135,\n",
    "        'description': 'Magazine',\n",
    "        'country': 'United States'\n",
    "    },\n",
    "    {\n",
    "        'name': 'Justin Bieber',\n",
    "        'follower_count': 133,\n",
    "        'description': 'Musician',\n",
    "        'country': 'Canada'\n",
    "    },\n",
    "    {\n",
    "        'name': 'Taylor Swift',\n",
    "        'follower_count': 131,\n",
    "        'description': 'Musician',\n",
    "        'country': 'United States'\n",
    "    },\n",
    "    {\n",
    "        'name': 'Kendall Jenner',\n",
    "        'follower_count': 127,\n",
    "        'description': 'Reality TV personality and Model',\n",
    "        'country': 'United States'\n",
    "    },\n",
    "    {\n",
    "        'name': 'Jennifer Lopez',\n",
    "        'follower_count': 119,\n",
    "        'description': 'Musician and actress',\n",
    "        'country': 'United States'\n",
    "    },\n",
    "    {\n",
    "        'name': 'Nicki Minaj',\n",
    "        'follower_count': 113,\n",
    "        'description': 'Musician',\n",
    "        'country': 'Trinidad and Tobago'\n",
    "    },\n",
    "    {\n",
    "        'name': 'Nike',\n",
    "        'follower_count': 109,\n",
    "        'description': 'Sportswear multinational',\n",
    "        'country': 'United States'\n",
    "    },\n",
    "    {\n",
    "        'name': 'Khloé Kardashian',\n",
    "        'follower_count': 108,\n",
    "        'description': 'Reality TV personality and businesswoman',\n",
    "        'country': 'United States'\n",
    "    },\n",
    "    {\n",
    "        'name': 'Miley Cyrus',\n",
    "        'follower_count': 107,\n",
    "        'description': 'Musician and actress',\n",
    "        'country': 'United States'\n",
    "    },\n",
    "    {\n",
    "        'name': 'Katy Perry',\n",
    "        'follower_count': 94,\n",
    "        'description': 'Musician',\n",
    "        'country': 'United States'\n",
    "    },\n",
    "    {\n",
    "        'name': 'Kourtney Kardashian',\n",
    "        'follower_count': 90,\n",
    "        'description': 'Reality TV personality',\n",
    "        'country': 'United States'\n",
    "    },\n",
    "    {\n",
    "        'name': 'Kevin Hart',\n",
    "        'follower_count': 89,\n",
    "        'description': 'Comedian and actor',\n",
    "        'country': 'United States'\n",
    "    },\n",
    "    {\n",
    "        'name': 'Ellen DeGeneres',\n",
    "        'follower_count': 87,\n",
    "        'description': 'Comedian',\n",
    "        'country': 'United States'\n",
    "    },\n",
    "    {\n",
    "        'name': 'Real Madrid CF',\n",
    "        'follower_count': 86,\n",
    "        'description': 'Football club',\n",
    "        'country': 'Spain'\n",
    "    },\n",
    "    {\n",
    "        'name': 'FC Barcelona',\n",
    "        'follower_count': 85,\n",
    "        'description': 'Football club',\n",
    "        'country': 'Spain'\n",
    "    },\n",
    "    {\n",
    "        'name': 'Rihanna',\n",
    "        'follower_count': 81,\n",
    "        'description': 'Musician and businesswoman',\n",
    "        'country': 'Barbados'\n",
    "    },\n",
    "    {\n",
    "        'name': 'Demi Lovato',\n",
    "        'follower_count': 80,\n",
    "        'description': 'Musician and actress',\n",
    "        'country': 'United States'\n",
    "    },\n",
    "    {\n",
    "        'name': \"Victoria's Secret\",\n",
    "        'follower_count': 69,\n",
    "        'description': 'Lingerie brand',\n",
    "        'country': 'United States'\n",
    "    },\n",
    "    {\n",
    "        'name': 'Zendaya',\n",
    "        'follower_count': 68,\n",
    "        'description': 'Actress and musician',\n",
    "        'country': 'United States'\n",
    "    },\n",
    "    {\n",
    "        'name': 'Shakira',\n",
    "        'follower_count': 66,\n",
    "        'description': 'Musician',\n",
    "        'country': 'Colombia'\n",
    "    },\n",
    "    {\n",
    "        'name': 'Drake',\n",
    "        'follower_count': 65,\n",
    "        'description': 'Musician',\n",
    "        'country': 'Canada'\n",
    "    },\n",
    "    {\n",
    "        'name': 'Chris Brown',\n",
    "        'follower_count': 64,\n",
    "        'description': 'Musician',\n",
    "        'country': 'United States'\n",
    "    },\n",
    "    {\n",
    "        'name': 'LeBron James',\n",
    "        'follower_count': 63,\n",
    "        'description': 'Basketball player',\n",
    "        'country': 'United States'\n",
    "    },\n",
    "    {\n",
    "        'name': 'Vin Diesel',\n",
    "        'follower_count': 62,\n",
    "        'description': 'Actor',\n",
    "        'country': 'United States'\n",
    "    },\n",
    "    {\n",
    "        'name': 'Cardi B',\n",
    "        'follower_count': 67,\n",
    "        'description': 'Musician',\n",
    "        'country': 'United States'\n",
    "    },\n",
    "    {\n",
    "        'name': 'David Beckham',\n",
    "        'follower_count': 82,\n",
    "        'description': 'Footballer',\n",
    "        'country': 'United Kingdom'\n",
    "    },\n",
    "    {\n",
    "        'name': 'Billie Eilish',\n",
    "        'follower_count': 61,\n",
    "        'description': 'Musician',\n",
    "        'country': 'United States'\n",
    "    },\n",
    "    {\n",
    "        'name': 'Justin Timberlake',\n",
    "        'follower_count': 59,\n",
    "        'description': 'Musician and actor',\n",
    "        'country': 'United States'\n",
    "    },\n",
    "    {\n",
    "        'name': 'UEFA Champions League',\n",
    "        'follower_count': 58,\n",
    "        'description': 'Club football competition',\n",
    "        'country': 'Europe'\n",
    "    },\n",
    "    {\n",
    "        'name': 'NASA',\n",
    "        'follower_count': 56,\n",
    "        'description': 'Space agency',\n",
    "        'country': 'United States'\n",
    "    },\n",
    "    {\n",
    "        'name': 'Emma Watson',\n",
    "        'follower_count': 56,\n",
    "        'description': 'Actress',\n",
    "        'country': 'United Kingdom'\n",
    "    },\n",
    "    {\n",
    "        'name': 'Shawn Mendes',\n",
    "        'follower_count': 57,\n",
    "        'description': 'Musician',\n",
    "        'country': 'Canada'\n",
    "    },\n",
    "    {\n",
    "        'name': 'Virat Kohli',\n",
    "        'follower_count': 55,\n",
    "        'description': 'Cricketer',\n",
    "        'country': 'India'\n",
    "    },\n",
    "    {\n",
    "        'name': 'Gigi Hadid',\n",
    "        'follower_count': 54,\n",
    "        'description': 'Model',\n",
    "        'country': 'United States'\n",
    "    },\n",
    "    {\n",
    "        'name': 'Priyanka Chopra Jonas',\n",
    "        'follower_count': 53,\n",
    "        'description': 'Actress and musician',\n",
    "        'country': 'India'\n",
    "    },\n",
    "    {\n",
    "        'name': '9GAG',\n",
    "        'follower_count': 52,\n",
    "        'description': 'Social media platform',\n",
    "        'country': 'China'\n",
    "    },\n",
    "    {\n",
    "        'name': 'Ronaldinho',\n",
    "        'follower_count': 51,\n",
    "        'description': 'Footballer',\n",
    "        'country': 'Brasil'\n",
    "    },\n",
    "    {\n",
    "        'name': 'Maluma',\n",
    "        'follower_count': 50,\n",
    "        'description': 'Musician',\n",
    "        'country': 'Colombia'\n",
    "    },\n",
    "    {\n",
    "        'name': 'Camila Cabello',\n",
    "        'follower_count': 49,\n",
    "        'description': 'Musician',\n",
    "        'country': 'Cuba'\n",
    "    },\n",
    "    {\n",
    "        'name': 'NBA',\n",
    "        'follower_count': 47,\n",
    "        'description': 'Club Basketball Competition',\n",
    "        'country': 'United States'\n",
    "    }\n",
    "]\n",
    "for item in data:\n",
    "    print('Name:', item['name'])\n",
    "    print('Country:', item['country'])\n",
    "    print('---')\n"
   ]
  },
  {
   "cell_type": "code",
   "execution_count": 1,
   "metadata": {},
   "outputs": [
    {
     "name": "stdout",
     "output_type": "stream",
     "text": [
      "{'name': 'John', 'age': 25, 'city': 'New York'}\n"
     ]
    }
   ],
   "source": [
    "# Creating a dictionary\n",
    "my_dict = {'name': 'John', 'age': 25, 'city': 'New York'}\n",
    "print(my_dict)"
   ]
  },
  {
   "cell_type": "code",
   "execution_count": 2,
   "metadata": {},
   "outputs": [
    {
     "name": "stdout",
     "output_type": "stream",
     "text": [
      "John\n"
     ]
    }
   ],
   "source": [
    "# Accessing values\n",
    "my_dict = {'name': 'John', 'age': 25, 'city': 'New York'}\n",
    "print(my_dict['name'])  # Output: John\n"
   ]
  },
  {
   "cell_type": "code",
   "execution_count": 5,
   "metadata": {},
   "outputs": [
    {
     "name": "stdout",
     "output_type": "stream",
     "text": [
      "{'name': 'John', 'age': 26, 'city': 'New York', 'gender': 'Male'}\n"
     ]
    }
   ],
   "source": [
    "# Modifying and adding elements\n",
    "my_dict = {'name': 'John', 'age': 25, 'city': 'New York'}\n",
    "my_dict['age'] = 26\n",
    "my_dict['gender'] = 'Male'\n",
    "print(my_dict)"
   ]
  },
  {
   "cell_type": "code",
   "execution_count": 7,
   "metadata": {},
   "outputs": [
    {
     "name": "stdout",
     "output_type": "stream",
     "text": [
      "{'name': 'John', 'age': 26, 'city': 'New York', 'gender': 'Male'}\n",
      "{'name': 'John', 'age': 26}\n"
     ]
    }
   ],
   "source": [
    "# Removing elements\n",
    "my_dict = {'name': 'John', 'age': 25, 'city': 'New York'}\n",
    "my_dict['age'] = 26\n",
    "my_dict['gender'] = 'Male'\n",
    "print(my_dict)\n",
    "del my_dict['city']\n",
    "popped_value = my_dict.pop('gender')\n",
    "print(my_dict)"
   ]
  },
  {
   "cell_type": "code",
   "execution_count": 8,
   "metadata": {},
   "outputs": [
    {
     "name": "stdout",
     "output_type": "stream",
     "text": [
      "Age is present.\n"
     ]
    }
   ],
   "source": [
    "# Checking key existence\n",
    "my_dict = {'name': 'John', 'age': 25, 'city': 'New York'}\n",
    "my_dict['age'] = 26\n",
    "my_dict['gender'] = 'Male'\n",
    "if 'age' in my_dict:\n",
    "    print(\"Age is present.\")"
   ]
  },
  {
   "cell_type": "code",
   "execution_count": 12,
   "metadata": {},
   "outputs": [
    {
     "name": "stdout",
     "output_type": "stream",
     "text": [
      "dict_keys(['name', 'age', 'city', 'gender'])\n",
      " dict_values(['John', 26, 'New York', 'Male'])\n",
      " dict_items([('name', 'John'), ('age', 26), ('city', 'New York'), ('gender', 'Male')])\n"
     ]
    }
   ],
   "source": [
    "# Using dictionary methods\n",
    "my_dict = {'name': 'John', 'age': 25, 'city': 'New York'}\n",
    "my_dict['age'] = 26\n",
    "my_dict['gender'] = 'Male'\n",
    "keys = my_dict.keys()\n",
    "values = my_dict.values()\n",
    "key_value_pairs = my_dict.items()\n",
    "print(f\"{keys}\\n {values}\\n {key_value_pairs}\")"
   ]
  },
  {
   "cell_type": "code",
   "execution_count": 13,
   "metadata": {},
   "outputs": [
    {
     "name": "stdout",
     "output_type": "stream",
     "text": [
      "{'person': {'name': 'Alice', 'age': 30}}\n"
     ]
    }
   ],
   "source": [
    "# Nested dictionaries\n",
    "nested_dict = {'person': {'name': 'Alice', 'age': 30}}\n",
    "print(nested_dict)"
   ]
  },
  {
   "cell_type": "code",
   "execution_count": 14,
   "metadata": {},
   "outputs": [
    {
     "name": "stdout",
     "output_type": "stream",
     "text": [
      "{'theme': 'dark', 'fontsize': 14, 'language': 'English', 'name': 'John', 'age': 25, 'city': 'New York'}\n"
     ]
    }
   ],
   "source": [
    "#usecase1\n",
    "#Configuration Settings:\n",
    "settings = {'theme': 'dark', 'fontsize': 14, 'language': 'English'}\n",
    "\n",
    "#User Profile:\n",
    "profile = {'name': 'John', 'age': 25, 'city': 'New York'}\n",
    "\n",
    "#Combine the two dictionaries:\n",
    "\n",
    "combined = {**settings, **profile}\n",
    "\n",
    "#Print the combined dictionary:\n",
    "\n",
    "print(combined)"
   ]
  },
  {
   "cell_type": "code",
   "execution_count": 15,
   "metadata": {},
   "outputs": [
    {
     "name": "stdout",
     "output_type": "stream",
     "text": [
      "{'username': 'john_doe', 'email': 'john@example.com', 'is_admin': False}\n"
     ]
    }
   ],
   "source": [
    "#usecase2\n",
    "#Storing User Information:\n",
    "user = {'username': 'john_doe', 'email': 'john@example.com', 'is_admin': False}\n",
    "\n",
    "#Printing User Information:\n",
    "print(user)"
   ]
  },
  {
   "cell_type": "code",
   "execution_count": null,
   "metadata": {},
   "outputs": [],
   "source": [
    "#usecase3"
   ]
  },
  {
   "cell_type": "code",
   "execution_count": null,
   "metadata": {},
   "outputs": [],
   "source": [
    "#usecase4"
   ]
  }
 ],
 "metadata": {
  "kernelspec": {
   "display_name": "python_only",
   "language": "python",
   "name": "python3"
  },
  "language_info": {
   "codemirror_mode": {
    "name": "ipython",
    "version": 3
   },
   "file_extension": ".py",
   "mimetype": "text/x-python",
   "name": "python",
   "nbconvert_exporter": "python",
   "pygments_lexer": "ipython3",
   "version": "3.10.5"
  },
  "orig_nbformat": 4
 },
 "nbformat": 4,
 "nbformat_minor": 2
}
