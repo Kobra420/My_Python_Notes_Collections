{
 "cells": [
  {
   "cell_type": "code",
   "execution_count": null,
   "metadata": {},
   "outputs": [],
   "source": [
    "# states_of_India = [\"Monipure\"]\n",
    "# UTs_of_India = [\"Ladakh\"]\n",
    "# states_of_India.append(\"Nagaland\")\n",
    "# states_of_India.append(\"Arunachaal Pradesh\")\n",
    "# states_of_India.extend([\"Arunachaal Pradesh\", \"Mizorum\", \"Assam\", \"Tripura\", \"Meghalay\"])\n",
    "\n",
    "# UTs_of_India.append(\"Andaman & Nicobar\")\n",
    "# UTs_of_India.append(\"Daman and Diu\")\n",
    "# UTs_of_India.extend([\"Pondicherry\", \"Lakshadweep\", \"Jammu and Kashmir\"])\n",
    "# print(states_of_India, UTs_of_India, sep=\"\\n\",end=\"\\n\")\n",
    "# some_sates_uts = [states_of_India, UTs_of_India]\n",
    "# print(some_sates_uts)\n",
    "# some_sates_uts[0][0] = \"X\"\n",
    "# print(some_sates_uts)\n",
    "# print(states_of_India)\n",
    "# print(UTs_of_India)\n",
    "# print(states_of_India[len(states_of_India)-2])\n",
    "\n",
    "\n",
    "### other Lists by examples\n",
    "\n",
    "list_1 = [34, 4, 5, -4, 5]  ## list of integers\n",
    "list_2 = [\"one\", \"two\", \"three\"]  ## list of strings\n",
    "# list_3 = [45.7, 4.9, 0.0, -8]  ## list of floating point numbers\n",
    "# list_4 = ['a', 'b', 'c', 'd']  ## list of characters\n",
    "list_5 = [\"sam\", 45, 90.0,\"a\"]  ## a list of elements of different dat\n",
    "# all_examples = [list_1, list_2, list_3, list_4, list_5] ## All List examples together\n",
    "\n",
    "print(list_1 is list_2)\n",
    "print(list_1 is not list_2)\n",
    "x = 'a'\n",
    "y = 'b'\n",
    "if x in list_5:\n",
    "    print(f'{x} is present in {list_5}')\n",
    "# if y in list_5:\n",
    "#     print(f'{y} is present in {list_5}')\n",
    "# if x not in list_5:\n",
    "#     print(f'{x} is not present in {list_5}')\n",
    "# if y not in list_5:\n",
    "#     print(f'{y} is not present in {list_5}')\n",
    "# print(all_examples[1][1])\n",
    "# print(all_examples)\n",
    "# print(list_2 * 3)\n",
    "# l1 = list_2 * 2\n",
    "# print(l1)\n",
    "# print(list_1 + list_2)\n",
    "# l2 = list_1 + list_2 + list_3\n",
    "# print(list_2.index(\"two\"))\n",
    "# print(l1.count(\"two\"))\n",
    "# l3 = l2.copy()\n",
    "\n",
    "# print(l3)\n",
    "# print(l2)\n",
    "# for x in reversed(list_2):\n",
    "#     print(x)"
   ]
  },
  {
   "cell_type": "code",
   "execution_count": 3,
   "metadata": {},
   "outputs": [
    {
     "name": "stdout",
     "output_type": "stream",
     "text": [
      "267\n",
      "110.53170064602863\n"
     ]
    }
   ],
   "source": [
    "import random\n",
    "random_integer = random.randint(1,500)\n",
    "random_float = random.random()*500\n",
    "print(random_integer)\n",
    "print(random_float)"
   ]
  },
  {
   "cell_type": "code",
   "execution_count": 4,
   "metadata": {},
   "outputs": [
    {
     "name": "stdout",
     "output_type": "stream",
     "text": [
      "11\n",
      "13\n"
     ]
    }
   ],
   "source": [
    "import random\n",
    "s =[1,2,3,4,11,12,13,23,35,55,44,65,75]\n",
    "rand = random.randint(0,(len(s)-1))\n",
    "randi =random.choice(s)\n",
    "print(randi)\n",
    "print (len(s))"
   ]
  },
  {
   "cell_type": "code",
   "execution_count": 5,
   "metadata": {},
   "outputs": [
    {
     "name": "stdout",
     "output_type": "stream",
     "text": [
      "[13, 75, 75, 2, 2, 55, 12, 23, 1, 2, 11, 1, 65]\n"
     ]
    }
   ],
   "source": [
    "s =[1,2,3,4,11,12,13,23,35,55,44,65,75]\n",
    "new_item=[]\n",
    "for item in s:\n",
    "    randi =random.choice(s)\n",
    "    # print(item,end=\" \")\n",
    "    new_item.append(randi)\n",
    "print(new_item)"
   ]
  },
  {
   "cell_type": "code",
   "execution_count": 6,
   "metadata": {},
   "outputs": [
    {
     "name": "stdout",
     "output_type": "stream",
     "text": [
      "Apple & Peach & Pear\n",
      "['Apple', 'Peach', 'Pear'] >> Apple dali - Peach dali - Pear dali - "
     ]
    }
   ],
   "source": [
    "fruits =[\"Apple\", \"Peach\",\"Pear\"]\n",
    "print(\"Apple\", \"Peach\",\"Pear\",sep=' & ')\n",
    "print(fruits,end=' >> ')\n",
    "for fruit in fruits:\n",
    "    print(fruit + \" dali \",end=\"- \")\n"
   ]
  },
  {
   "cell_type": "code",
   "execution_count": null,
   "metadata": {},
   "outputs": [],
   "source": [
    "# import random\n",
    "# random_float = random.random()\n",
    "# print(random_float)\n",
    "# random_int = random.randint(1, 6)\n",
    "# print(random_int)\n",
    "# fruits = ['apple', 'banana', 'cherry', 'date']\n",
    "# random_fruit = random.choice(fruits)\n",
    "# print(random_fruit)\n",
    "# random.shuffle(fruits)\n",
    "# print(fruits)\n",
    "# random_sample = random.sample(fruits, 2)\n",
    "# print(random_sample)\n",
    "# seed = random.seed(42)\n",
    "# print(seed)\n",
    "# random_gaussian = random.gauss(0, 1)\n",
    "# print(random_gaussian)"
   ]
  }
 ],
 "metadata": {
  "kernelspec": {
   "display_name": "python_only",
   "language": "python",
   "name": "python3"
  },
  "language_info": {
   "codemirror_mode": {
    "name": "ipython",
    "version": 3
   },
   "file_extension": ".py",
   "mimetype": "text/x-python",
   "name": "python",
   "nbconvert_exporter": "python",
   "pygments_lexer": "ipython3",
   "version": "3.10.5"
  },
  "orig_nbformat": 4,
  "vscode": {
   "interpreter": {
    "hash": "8cb339834107f409755444428f8137373a739c5931b3e253907505cce24faefc"
   }
  }
 },
 "nbformat": 4,
 "nbformat_minor": 2
}
