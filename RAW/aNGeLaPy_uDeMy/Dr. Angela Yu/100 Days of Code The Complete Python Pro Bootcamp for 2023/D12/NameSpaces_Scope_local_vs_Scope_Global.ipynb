{
 "cells": [
  {
   "cell_type": "code",
   "execution_count": 1,
   "metadata": {},
   "outputs": [
    {
     "name": "stdout",
     "output_type": "stream",
     "text": [
      "enemies inside function: 2\n",
      "enemies outside function: 1\n"
     ]
    }
   ],
   "source": [
    "################### Scope ####################\n",
    "\n",
    "enemies = 1\n",
    "\n",
    "def increase_enemies():\n",
    "  enemies = 2\n",
    "  print(f\"enemies inside function: {enemies}\")\n",
    "\n",
    "increase_enemies()\n",
    "print(f\"enemies outside function: {enemies}\")"
   ]
  },
  {
   "cell_type": "code",
   "execution_count": null,
   "metadata": {},
   "outputs": [],
   "source": [
    "# Local Scope\n",
    "\n",
    "def drink_potion():\n",
    "    potion_strength = 2\n",
    "    print(potion_strength)\n",
    "drink_potion()\n",
    "# out of local scope, function \"potion_strength\" can only called within drink_potion()\n",
    "print(potion_strength) #error"
   ]
  },
  {
   "cell_type": "code",
   "execution_count": 11,
   "metadata": {},
   "outputs": [
    {
     "name": "stdout",
     "output_type": "stream",
     "text": [
      " * Local Scope * 6\n",
      " * Nested Function Scope * variable defined inside drink_potion() --> 2\n",
      "\n",
      "11 Accessing global variable inside nested function \n",
      " * Global Scope * 11 Accessing outside any functions\n"
     ]
    }
   ],
   "source": [
    "# Global Scope\n",
    "player_health = 11 # Global Scope avialable anywhere in the file\n",
    "\n",
    "def game():\n",
    "    elixier = 6\n",
    "    def drink_potion():\n",
    "        potion_strength = 2  # Nested Function Scope: variable defined inside drink_potion()\n",
    "        print(f\" * Nested Function Scope * variable defined inside drink_potion() --> {potion_strength}\")\n",
    "        print(f\"\\n{player_health} Accessing global variable inside nested function \")\n",
    "    print(f\" * Local Scope * {elixier}\") # Accessing local variable inside function game()\n",
    "    drink_potion() # Calling drink_potion() from within game() function\n",
    "game()\n",
    "print(f\" * Global Scope * {player_health} Accessing outside any functions\")\n"
   ]
  },
  {
   "cell_type": "code",
   "execution_count": 2,
   "metadata": {},
   "outputs": [
    {
     "name": "stdout",
     "output_type": "stream",
     "text": [
      "Alien\n"
     ]
    }
   ],
   "source": [
    "\n",
    "# There is no Block Scope\n",
    "\n",
    "game_level = 3\n",
    "\n",
    "def create_enemy():\n",
    "    enemies = [\"Skeleton\", \"Zombie\", \"Alien\"]\n",
    "    if game_level < 5:\n",
    "        new_enemy = enemies[2]\n",
    "\n",
    "    print(new_enemy)\n",
    "\n",
    "create_enemy()"
   ]
  },
  {
   "cell_type": "code",
   "execution_count": 3,
   "metadata": {},
   "outputs": [
    {
     "name": "stdout",
     "output_type": "stream",
     "text": [
      "enemies inside function: 2\n",
      "enemies outside function: 2\n"
     ]
    }
   ],
   "source": [
    "# Modifying Global Scope V1\n",
    "enemies = 1\n",
    "\n",
    "def increase_enemies():\n",
    "    global enemies # tapping into global variable to modify it locally\n",
    "    enemies += 1\n",
    "    print(f\"enemies inside function: {enemies}\")\n",
    "\n",
    "increase_enemies()\n",
    "print(f\"enemies outside function: {enemies}\")"
   ]
  },
  {
   "cell_type": "code",
   "execution_count": 6,
   "metadata": {},
   "outputs": [
    {
     "name": "stdout",
     "output_type": "stream",
     "text": [
      "enemies outside function: 2\n"
     ]
    }
   ],
   "source": [
    "# Modifying Global Scope V2\n",
    "# Avoid using <Global> to modify a global variable locally\n",
    "enemies = 1\n",
    "\n",
    "def increase_enemies():\n",
    "    print(f\"enemies inside function: {enemies}\")\n",
    "    return enemies + 1 # just call it\n",
    "\n",
    "enemies = increase_enemies()\n",
    "print(f\"enemies outside function: {enemies}\")"
   ]
  },
  {
   "cell_type": "code",
   "execution_count": null,
   "metadata": {},
   "outputs": [],
   "source": [
    "#Global Constants\n",
    "# always used in upper_case letters to differntiate from others\n",
    "PI = 3.14159\n",
    "URL = \"https://www.google.com\"\n",
    "TWITTER_HANDLE = \"@yu_angela\"\n"
   ]
  },
  {
   "cell_type": "code",
   "execution_count": 12,
   "metadata": {},
   "outputs": [
    {
     "name": "stdout",
     "output_type": "stream",
     "text": [
      "['C:\\\\Users\\\\biswa\\\\AppData\\\\Roaming\\\\Python\\\\Python310\\\\site-packages\\\\ipykernel_launcher.py', '--ip=127.0.0.1', '--stdin=9011', '--control=9009', '--hb=9008', '--Session.signature_scheme=\"hmac-sha256\"', '--Session.key=b\"9d0b0c71-c192-4f2c-8f6c-f797a5b1c22c\"', '--shell=9010', '--transport=\"tcp\"', '--iopub=9012', '--f=c:\\\\Users\\\\biswa\\\\AppData\\\\Roaming\\\\jupyter\\\\runtime\\\\kernel-v2-4116uXi7feegc7ai.json']\n"
     ]
    },
    {
     "data": {
      "text/plain": [
       "<function sys.exit(status=None, /)>"
      ]
     },
     "execution_count": 12,
     "metadata": {},
     "output_type": "execute_result"
    }
   ],
   "source": [
    "import sys\n",
    "# Get the Python version\n",
    "# print(sys.version)\n",
    "\n",
    "# Get the operating system name\n",
    "# print(sys.platform)\n",
    "\n",
    "# print(sys.path)\n",
    "\n",
    "# print(sys.argv)\n",
    "print(sys.argv)\n",
    "sys.exit"
   ]
  }
 ],
 "metadata": {
  "kernelspec": {
   "display_name": "Python 3",
   "language": "python",
   "name": "python3"
  },
  "language_info": {
   "codemirror_mode": {
    "name": "ipython",
    "version": 3
   },
   "file_extension": ".py",
   "mimetype": "text/x-python",
   "name": "python",
   "nbconvert_exporter": "python",
   "pygments_lexer": "ipython3",
   "version": "3.10.5"
  },
  "orig_nbformat": 4
 },
 "nbformat": 4,
 "nbformat_minor": 2
}
