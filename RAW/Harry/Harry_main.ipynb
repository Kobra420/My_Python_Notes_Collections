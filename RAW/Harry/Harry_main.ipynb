{
 "cells": [
  {
   "cell_type": "code",
   "execution_count": 3,
   "metadata": {},
   "outputs": [
    {
     "name": "stdout",
     "output_type": "stream",
     "text": [
      "STRING SLICING \n",
      "AST\n",
      "SR\n",
      "GITA\n"
     ]
    }
   ],
   "source": [
    "# Python program to demonstrate string slicing\n",
    "# String slicing\n",
    "String = 'ASTRING'\n",
    "# Using slice constructor\n",
    "s1 = slice(3)\n",
    "s2 = slice(1, 5, 2)\n",
    "s3 = slice(-1, -12, -2)\n",
    "s = \"& quot String slicing & quot \"\n",
    "print(s.replace(\"& quot \", \"\").upper())\n",
    "print(String[s1])\n",
    "print(String[s2])\n",
    "print(String[s3])\n"
   ]
  },
  {
   "cell_type": "code",
   "execution_count": 4,
   "metadata": {},
   "outputs": [
    {
     "name": "stdout",
     "output_type": "stream",
     "text": [
      "i\n",
      "n\n",
      "c\n",
      "r\n",
      "e\n",
      "d\n",
      "i\n",
      "b\n",
      "l\n",
      "e\n",
      "\n",
      "e l b i d e r c n i "
     ]
    }
   ],
   "source": [
    "word = \"incredible\"\n",
    "\n",
    "for i in range(len(word)):\n",
    "    print(word[i], end=\"\")\n",
    "    print(\"\\r\")\n",
    "print(\"\\r\")\n",
    "for i in range(len(word)-1, -1, -1):\n",
    "    print(word[i], end=\" \")\n",
    "\n"
   ]
  }
 ],
 "metadata": {
  "kernelspec": {
   "display_name": "Python 3",
   "language": "python",
   "name": "python3"
  },
  "language_info": {
   "codemirror_mode": {
    "name": "ipython",
    "version": 3
   },
   "file_extension": ".py",
   "mimetype": "text/x-python",
   "name": "python",
   "nbconvert_exporter": "python",
   "pygments_lexer": "ipython3",
   "version": "3.10.5"
  }
 },
 "nbformat": 4,
 "nbformat_minor": 2
}
