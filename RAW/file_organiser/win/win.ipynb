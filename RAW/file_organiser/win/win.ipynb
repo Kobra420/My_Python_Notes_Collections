{
 "cells": [
  {
   "cell_type": "code",
   "execution_count": null,
   "metadata": {},
   "outputs": [],
   "source": [
    "# #windows\n",
    "# import os\n",
    "\n",
    "# def organize_files(directory_path):\n",
    "#     # List all files in the source folder\n",
    "#     files = os.listdir(directory_path)\n",
    "#     print(files)\n",
    "\n",
    "# organize_files(r'E:\\YT2024\\BHARAT')"
   ]
  },
  {
   "cell_type": "code",
   "execution_count": null,
   "metadata": {},
   "outputs": [],
   "source": [
    "import os\n",
    "import shutil\n",
    "import re\n",
    "\n",
    "def organize_files(source_folder):\n",
    "    # List all files in the source folder\n",
    "    files = os.listdir(source_folder)\n",
    "\n",
    "    # Define a regex pattern for extracting relevant portions of file names\n",
    "    pattern = re.compile(r'[a-zA-Z]+')\n",
    "\n",
    "    for file in files:\n",
    "        # Apply the regex pattern to extract the key part of the file name\n",
    "        match = pattern.match(file)\n",
    "        if match:\n",
    "            key = match.group().lower()  # Convert to lowercase for case-insensitivity\n",
    "\n",
    "            # Create a subfolder if it doesn't exist\n",
    "            subfolder_path = os.path.join(source_folder, key)\n",
    "            if not os.path.exists(subfolder_path):\n",
    "                os.makedirs(subfolder_path)\n",
    "\n",
    "            # Move the file to the appropriate subfolder\n",
    "            shutil.move(os.path.join(source_folder, file), os.path.join(subfolder_path, file))\n",
    "\n",
    "    print(\"Files organized successfully!\")\n",
    "\n",
    "# Replace 'your/source/folder/path' with the actual path of your source folder\n",
    "organize_files('your/source/folder/path')\n"
   ]
  },
  {
   "cell_type": "code",
   "execution_count": null,
   "metadata": {},
   "outputs": [],
   "source": [
    "import os\n",
    "import shutil\n",
    "import re\n",
    "\n",
    "def organize_files(source_folder):\n",
    "    # List all files in the source folder\n",
    "    files = os.listdir(source_folder)\n",
    "\n",
    "print(files(E:\\YT2024\\BHARAT))\n"
   ]
  },
  {
   "cell_type": "code",
   "execution_count": null,
   "metadata": {},
   "outputs": [],
   "source": [
    "import os\n",
    "import shutil\n",
    "\n",
    "def get_file_size(file_path):\n",
    "    return os.path.getsize(file_path)\n",
    "\n",
    "def organize_files_by_size(directory_path, output_file_path):\n",
    "    files = []\n",
    "    \n",
    "    # Collect file information (path and size)\n",
    "    for dirpath, _, filenames in os.walk(directory_path):\n",
    "        for filename in filenames:\n",
    "            file_path = os.path.join(dirpath, filename)\n",
    "            size = get_file_size(file_path)\n",
    "            files.append((file_path, size))\n",
    "\n",
    "    # Sort files by size\n",
    "    files.sort(key=lambda x: x[1])\n",
    "\n",
    "    # Create subfolders based on file size ranges\n",
    "    size_ranges = [(0, 1024), (1024, 10240), (10240, 102400), (102400, float('inf'))]\n",
    "\n",
    "    for file_path, size in files:\n",
    "        for size_range in size_ranges:\n",
    "            if size_range[0] <= size < size_range[1]:\n",
    "                subfolder_path = os.path.join(directory_path, f\"Size_{size_range[0]}_{size_range[1]}\")\n",
    "                if not os.path.exists(subfolder_path):\n",
    "                    os.makedirs(subfolder_path)\n",
    "\n",
    "                # Move the file to the appropriate subfolder\n",
    "                shutil.move(file_path, os.path.join(subfolder_path, os.path.basename(file_path)))\n",
    "                break\n",
    "\n",
    "    # Print the file-size output to a text file\n",
    "    with open(output_file_path, 'w', encoding='utf-8') as output_file:\n",
    "        for file_path, size in files:\n",
    "            output_file.write(f\"File: {file_path}, Size: {size} bytes\\n\")\n",
    "\n",
    "# Replace '/your/directory/path' with the actual path of your directory\n",
    "directory_path = r'E:\\YT2024\\BHARAT'\n",
    "\n",
    "# Replace '/desired/output/file/path/output.txt' with your desired output file path\n",
    "output_file_path = 'E:\\YT2024\\output.txt'\n",
    "\n",
    "organize_files_by_size(directory_path, output_file_path)\n"
   ]
  },
  {
   "cell_type": "code",
   "execution_count": null,
   "metadata": {},
   "outputs": [],
   "source": [
    "# 1. File Descriptor Operations:\n",
    "# os.open(file, flags[, mode]):\n",
    "import os\n",
    "\n",
    "file_path = \"E:\\chrom_links.txt\"\n",
    "\n",
    "# Check if the file is readable\n",
    "if os.access(file_path, os.R_OK):\n",
    "    with open(file_path, 'r', encoding='utf-8', errors='ignore') as file:\n",
    "        content = file.read()\n",
    "        print(content)\n",
    "else:\n",
    "    print(\"File is not readable.\")\n"
   ]
  },
  {
   "cell_type": "code",
   "execution_count": 4,
   "metadata": {},
   "outputs": [
    {
     "name": "stdout",
     "output_type": "stream",
     "text": [
      "4\n"
     ]
    }
   ],
   "source": [
    "\n",
    "import os\n",
    "\n",
    "# Open a file and get a file descriptor\n",
    "fd = os.open(\"E:\\chrom_links.txt\", os.O_RDONLY)\n",
    "\n",
    "# Do some operations with the file descriptor\n",
    "print(fd)\n",
    "# Close the file descriptor\n",
    "os.close(fd)\n"
   ]
  },
  {
   "cell_type": "code",
   "execution_count": 13,
   "metadata": {},
   "outputs": [
    {
     "name": "stdout",
     "output_type": "stream",
     "text": [
      "Hello, World!\n"
     ]
    }
   ],
   "source": [
    "import os\n",
    "\n",
    "file_path = \"P:\\PROJECT_python\\GIT\\File_organizations\\example1.txt\"\n",
    "\n",
    "# # Open a file for writing, create if it doesn't exist, and set permissions to 0o644\n",
    "# fd = os.open(file_path, os.O_WRONLY | os.O_CREAT | os.O_TRUNC, 0o644)\n",
    "\n",
    "# # Write content to the file\n",
    "# os.write(fd, b\"Hello, World!\")\n",
    "\n",
    "\n",
    "# # Close the file descriptor\n",
    "# os.close(fd)\n",
    "\n",
    "# file read\n",
    "# Check if the file is readable\n",
    "\n",
    "if os.access(file_path, os.R_OK):\n",
    "    with open(file_path, 'r') as file:\n",
    "        global content\n",
    "        content = file.read()\n",
    "        print(content)\n",
    "else:\n",
    "    print(\"File is not readable.\")\n"
   ]
  },
  {
   "cell_type": "code",
   "execution_count": null,
   "metadata": {},
   "outputs": [],
   "source": []
  }
 ],
 "metadata": {
  "kernelspec": {
   "display_name": "Python 3",
   "language": "python",
   "name": "python3"
  },
  "language_info": {
   "codemirror_mode": {
    "name": "ipython",
    "version": 3
   },
   "file_extension": ".py",
   "mimetype": "text/x-python",
   "name": "python",
   "nbconvert_exporter": "python",
   "pygments_lexer": "ipython3",
   "version": "3.10.5"
  }
 },
 "nbformat": 4,
 "nbformat_minor": 2
}
