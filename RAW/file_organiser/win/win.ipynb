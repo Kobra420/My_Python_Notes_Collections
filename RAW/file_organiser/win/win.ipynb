{
 "cells": [
  {
   "cell_type": "code",
   "execution_count": null,
   "metadata": {},
   "outputs": [],
   "source": [
    "#windows\n",
    "import os\n",
    "\n",
    "def organize_files(directory_path):\n",
    "    # List all files in the source folder\n",
    "    files = os.listdir(directory_path)\n",
    "    print(files)\n",
    "\n",
    "organize_files(r'E:\\YT2024\\BHARAT')"
   ]
  },
  {
   "cell_type": "code",
   "execution_count": null,
   "metadata": {},
   "outputs": [],
   "source": [
    "import os\n",
    "import shutil\n",
    "import re\n",
    "\n",
    "def organize_files(source_folder):\n",
    "    # List all files in the source folder\n",
    "    files = os.listdir(source_folder)\n",
    "\n",
    "    # Define a regex pattern for extracting relevant portions of file names\n",
    "    pattern = re.compile(r'[a-zA-Z]+')\n",
    "\n",
    "    for file in files:\n",
    "        # Apply the regex pattern to extract the key part of the file name\n",
    "        match = pattern.match(file)\n",
    "        if match:\n",
    "            key = match.group().lower()  # Convert to lowercase for case-insensitivity\n",
    "\n",
    "            # Create a subfolder if it doesn't exist\n",
    "            subfolder_path = os.path.join(source_folder, key)\n",
    "            if not os.path.exists(subfolder_path):\n",
    "                os.makedirs(subfolder_path)\n",
    "\n",
    "            # Move the file to the appropriate subfolder\n",
    "            shutil.move(os.path.join(source_folder, file), os.path.join(subfolder_path, file))\n",
    "\n",
    "    print(\"Files organized successfully!\")\n",
    "\n",
    "# Replace 'your/source/folder/path' with the actual path of your source folder\n",
    "organize_files('your/source/folder/path')\n"
   ]
  },
  {
   "cell_type": "code",
   "execution_count": null,
   "metadata": {},
   "outputs": [],
   "source": [
    "import os\n",
    "import shutil\n",
    "\n",
    "def get_file_size(file_path):\n",
    "    return os.path.getsize(file_path)\n",
    "\n",
    "def organize_files_by_size(directory_path, output_file_path):\n",
    "    files = []\n",
    "    \n",
    "    # Collect file information (path and size)\n",
    "    for dirpath, _, filenames in os.walk(directory_path):\n",
    "        for filename in filenames:\n",
    "            file_path = os.path.join(dirpath, filename)\n",
    "            size = get_file_size(file_path)\n",
    "            files.append((file_path, size))\n",
    "\n",
    "    # Sort files by size\n",
    "    files.sort(key=lambda x: x[1])\n",
    "\n",
    "    # Create subfolders based on file size ranges\n",
    "    size_ranges = [(0, 1024), (1024, 10240), (10240, 102400), (102400, float('inf'))]\n",
    "\n",
    "    for file_path, size in files:\n",
    "        for size_range in size_ranges:\n",
    "            if size_range[0] <= size < size_range[1]:\n",
    "                subfolder_path = os.path.join(directory_path, f\"Size_{size_range[0]}_{size_range[1]}\")\n",
    "                if not os.path.exists(subfolder_path):\n",
    "                    os.makedirs(subfolder_path)\n",
    "\n",
    "                # Move the file to the appropriate subfolder\n",
    "                shutil.move(file_path, os.path.join(subfolder_path, os.path.basename(file_path)))\n",
    "                break\n",
    "\n",
    "    # Print the file-size output to a text file\n",
    "    with open(output_file_path, 'w', encoding='utf-8') as output_file:\n",
    "        for file_path, size in files:\n",
    "            output_file.write(f\"File: {file_path}, Size: {size} bytes\\n\")\n",
    "\n",
    "# Replace '/your/directory/path' with the actual path of your directory\n",
    "directory_path = r'E:\\YT2024\\BHARAT'\n",
    "\n",
    "# Replace '/desired/output/file/path/output.txt' with your desired output file path\n",
    "output_file_path = 'E:\\YT2024\\output.txt'\n",
    "\n",
    "organize_files_by_size(directory_path, output_file_path)\n"
   ]
  },
  {
   "cell_type": "code",
   "execution_count": null,
   "metadata": {},
   "outputs": [],
   "source": [
    "# 1. File Descriptor Operations:\n",
    "# os.open(file, flags[, mode]):\n",
    "import os\n",
    "\n",
    "file_path = \"E:\\chrom_links.txt\"\n",
    "\n",
    "# Check if the file is readable\n",
    "if os.access(file_path, os.R_OK):\n",
    "    with open(file_path, 'r', encoding='utf-8', errors='ignore') as file:\n",
    "        content = file.read()\n",
    "        print(content)\n",
    "else:\n",
    "    print(\"File is not readable.\")\n"
   ]
  },
  {
   "cell_type": "code",
   "execution_count": null,
   "metadata": {},
   "outputs": [],
   "source": [
    "\n",
    "import os\n",
    "\n",
    "# Open a file and get a file descriptor\n",
    "fd = os.open(\"E:\\chrom_links.txt\", os.O_RDONLY)\n",
    "\n",
    "# Do some operations with the file descriptor\n",
    "print(fd)\n",
    "# Close the file descriptor\n",
    "os.close(fd)\n"
   ]
  },
  {
   "cell_type": "code",
   "execution_count": null,
   "metadata": {},
   "outputs": [],
   "source": [
    "import os\n",
    "\n",
    "file_path = \"P:\\PROJECT_python\\GIT\\File_organizations\\example1.txt\"\n",
    "\n",
    "# # Open a file for writing, create if it doesn't exist, and set permissions to 0o644\n",
    "# fd = os.open(file_path, os.O_WRONLY | os.O_CREAT | os.O_TRUNC, 0o644)\n",
    "\n",
    "# # Write content to the file\n",
    "# os.write(fd, b\"Hello, World!\")\n",
    "\n",
    "\n",
    "# # Close the file descriptor\n",
    "# os.close(fd)\n",
    "\n",
    "# # file read\n",
    "# # Check if the file is readable\n",
    "\n",
    "# if os.access(file_path, os.R_OK):\n",
    "#     with open(file_path, 'r') as file:\n",
    "#         global content\n",
    "#         content = file.read()\n",
    "#         print(content)\n",
    "# else:\n",
    "#     print(\"File is not readable.\")\n",
    "\n",
    "# os.O_BINARY: Open the file in binary mode.\n",
    "\n",
    "with open(file_path, 'rb') as file:\n",
    "    content = file.read()\n",
    "    print(content)\n",
    "    print(type(content))\n",
    "    print(content.decode())\n",
    "    print(type(content.decode()))\n",
    "    print(content.decode().split())\n",
    "    print(type(content.decode().split()))\n",
    "    print(content.decode().split()[0])\n",
    "    print(type(content.decode().split()[0]))\n",
    "\n",
    "\n",
    "\n",
    "# # Check if the file is writable\n",
    "if os.access(file_path, os.W_OK):\n",
    "    with open(file_path, 'w') as file:\n",
    "        file.write(\"Hello, World!\")\n",
    "else:\n",
    "    print(\"File is not writable.\")"
   ]
  },
  {
   "cell_type": "code",
   "execution_count": null,
   "metadata": {},
   "outputs": [],
   "source": [
    "import os\n",
    "path = \"B:\\example1.txt\"\n",
    "# Open a file for writing, create if it doesn't exist, and set permissions to 0o644\n",
    "fd = os.open(path, os.O_WRONLY | os.O_CREAT | os.O_TRUNC, 0o644) # '|' (bitwise OR) \n",
    "\n",
    "# Write content to the file\n",
    "os.write(fd, b\"Hello, World!\\n This is a test.\")\n",
    "os.write(fd, b\"CHECK AGAIN\")"
   ]
  },
  {
   "cell_type": "code",
   "execution_count": null,
   "metadata": {},
   "outputs": [],
   "source": [
    "import os\n",
    "\n",
    "# Get the list of entries in the current directory\n",
    "entries = os.listdir()\n",
    "\n",
    "file_path = \"P:\\PROJECT_python\\GIT\\File_organizations\\example1.txt\"\n",
    "\n",
    "# Print the entries\n",
    "for entry in entries:\n",
    "    print(entry)"
   ]
  },
  {
   "cell_type": "code",
   "execution_count": null,
   "metadata": {},
   "outputs": [],
   "source": [
    "import os\n",
    "\n",
    "# Get the current working directory\n",
    "current_directory = os.getcwd()\n",
    "print(\"Current Working Directory:\", current_directory)\n",
    "\n",
    "# Change the current working directory to a different path\n",
    "new_directory = r\"P:\\PROJECT_python\\GIT\\File_organizations\"  # Remove \"example1.txt\" from the path\n",
    "os.chdir(new_directory)\n",
    "\n",
    "# Get the updated current working directory\n",
    "updated_directory = os.getcwd()\n",
    "print(\"Updated Working Directory:\", updated_directory)\n"
   ]
  },
  {
   "cell_type": "code",
   "execution_count": null,
   "metadata": {},
   "outputs": [],
   "source": [
    "# path Manipulation\n",
    "import os\n",
    "\n",
    "# Join path components\n",
    "full_path = os.path.join(\"C:\\\\\", \"Users\", \"User\", \"Documents\", \"Doc1.docx\")\n",
    "print(\"Full Path:\", full_path)"
   ]
  },
  {
   "cell_type": "code",
   "execution_count": null,
   "metadata": {},
   "outputs": [],
   "source": [
    "# os.path.abspath(path)\n",
    "import os\n",
    "\n",
    "# Get absolute path\n",
    "absolute_path = os.path.abspath(\"file.txt\")\n",
    "print(\"Absolute Path:\", absolute_path)"
   ]
  },
  {
   "cell_type": "code",
   "execution_count": null,
   "metadata": {},
   "outputs": [],
   "source": [
    "# os_mod_win_os.path.exists(path)\n",
    "import os\n",
    "\n",
    "# Check if path exists\n",
    "path_exists = os.path.exists(\"file.txt\")\n",
    "print(\"Path Exists:\", path_exists)"
   ]
  },
  {
   "cell_type": "code",
   "execution_count": null,
   "metadata": {},
   "outputs": [],
   "source": [
    "# os.path.isdir(path)\n",
    "import os\n",
    "\n",
    "# Check if path is a directory\n",
    "is_directory = os.path.isdir(\"folder\")\n",
    "print(\"Is Directory:\", is_directory)"
   ]
  },
  {
   "cell_type": "code",
   "execution_count": null,
   "metadata": {},
   "outputs": [],
   "source": [
    "#make directory\n",
    "import os\n",
    "current_directory = os.getcwd()\n",
    "print(\"Current Working Directory:\", current_directory)\n",
    "new_directory = r\"P:\\PROJECT_python\\GIT\\File_organizations\"  # Remove \"example1.txt\" from the path\n",
    "os.chdir(new_directory)\n",
    "updated_directory = os.getcwd()\n",
    "print(\"Updated Working Directory:\", updated_directory)\n",
    "# Create a directory\n",
    "os.mkdir(\"new_directory1\")\n",
    "is_directory = os.path.isdir(\"new_directory1\")\n",
    "print(\"Is Directory:\", is_directory)"
   ]
  },
  {
   "cell_type": "code",
   "execution_count": null,
   "metadata": {},
   "outputs": [],
   "source": [
    "# create directories recursively\n",
    "# make folder-tree along with subfolders in it\n",
    "import os\n",
    "new_directory = r\"P:\\PROJECT_python\\GIT\\File_organizations\"  # Remove \"example1.txt\" from the path\n",
    "os.chdir(new_directory)\n",
    "updated_directory = os.getcwd()\n",
    "print(\"Updated Working Directory:\", updated_directory)\n",
    "# Create directories recursively\n",
    "os.makedirs(\"d1/b2/a3\")"
   ]
  },
  {
   "cell_type": "code",
   "execution_count": null,
   "metadata": {},
   "outputs": [],
   "source": [
    "# remove a file \n",
    "# os.remove(path) 1\n",
    "import os\n",
    "current_directory = os.getcwd()\n",
    "print(\"Current Working Directory:\", current_directory)\n",
    "new_directory = r\"P:\\PROJECT_python\\GIT\\File_organizations\"  # Remove \"example1.txt\" from the path\n",
    "os.chdir(new_directory)\n",
    "updated_directory = os.getcwd()\n",
    "# Remove a file\n",
    "# os.remove(\"file.txt\")\n"
   ]
  },
  {
   "cell_type": "code",
   "execution_count": null,
   "metadata": {},
   "outputs": [],
   "source": [
    "# code to make directories in a desired path\n",
    "import os\n",
    "directory_whoami = os.getcwd()\n",
    "print(\"Current Working Directory:\", directory_whoami)\n",
    "directory_operations = r\"P:\\GIT4BothOS_Lnx_win\\GIT\\File_organizations\"  # Remove \"example1.txt\" from the path\n",
    "os.chdir(directory_operations)\n",
    "directory_whoami = os.getcwd()\n",
    "print(\"Updated Working Directory:\", directory_whoami)\n",
    "# Create a directory\n",
    "os.mkdir(\"recursive\")\n",
    "# Create directories recursively\n",
    "os.makedirs(\"recursive/a1/b3/d1/b2/a3\")\n",
    "# Create another directory\n",
    "os.mkdir(\"add_remove\")\n",
    "add_remove_path = r\"P:\\GIT4BothOS_Lnx_win\\GIT\\File_organizations\\add_remove\"\n",
    "os.chdir(add_remove_path)\n",
    "directory_whoami = os.getcwd()\n",
    "print(\"Updated Working Directory after creating directories recursively and\\nadd remove directory :\", directory_whoami)"
   ]
  },
  {
   "cell_type": "code",
   "execution_count": null,
   "metadata": {},
   "outputs": [],
   "source": [
    "# code to make file in a desired path\n",
    "file_path = r\"P:\\GIT4BothOS_Lnx_win\\GIT\\File_organizations\\add_remove\\add_remove.txt\"\n",
    "fd1 =os.open(file_path,os.O_WRONLY | os.O_CREAT | os.O_TRUNC,0o777)\n",
    "os.write(fd1, b\"Please remove this file asap\")"
   ]
  },
  {
   "cell_type": "code",
   "execution_count": null,
   "metadata": {},
   "outputs": [],
   "source": [
    "# code to delete files in a desired path\n",
    "os.close(fd1)\n",
    "print(f\"current working directory, {os.getcwd()}\")\n",
    "# Remove a file\n",
    "os.remove(\"add_remove.txt\")"
   ]
  },
  {
   "cell_type": "code",
   "execution_count": null,
   "metadata": {},
   "outputs": [],
   "source": [
    "# code to delete directory in a desired path\n",
    "import os\n",
    "# check path\n",
    "directory_whoami = os.getcwd()\n",
    "print(\"Current Working Directory:\", directory_whoami)\n",
    "directory_operations = r\"P:\\GIT4BothOS_Lnx_win\\GIT\\File_organizations\\add_remove\"  # Remove \"example1.txt\" from the path\n",
    "os.chdir(directory_operations)\n",
    "directory_whoami = os.getcwd()\n",
    "print(\"Updated Working Directory:\", directory_whoami)\n",
    "\n",
    "# Remove a directory\n",
    "try:\n",
    "    os.rmdir(\"New folder\")\n",
    "    print(\"Directory removed successfully\")\n",
    "except OSError as e:\n",
    "    print(f\"Error: {e}\")"
   ]
  },
  {
   "cell_type": "code",
   "execution_count": null,
   "metadata": {},
   "outputs": [],
   "source": [
    "# code to delete directories in a desired path\n",
    "\n",
    "import os\n",
    "# check path\n",
    "directory_whoami = os.getcwd()\n",
    "print(\"Current Working Directory:\", directory_whoami)\n",
    "directory_operations = r\"P:\\GIT4BothOS_Lnx_win\\GIT\\File_organizations\\add_remove\"  # Remove \"example1.txt\" from the path\n",
    "os.chdir(directory_operations)\n",
    "directory_whoami = os.getcwd()\n",
    "print(\"Updated Working Directory:\", directory_whoami)\n",
    "\n",
    "# Remove directories recursively\n",
    "try:\n",
    "    os.removedirs(r\"New folder_2\\New folder_3\\New folder_3_2\\New folder_3_3\")\n",
    "    print(\"Directories removed successfully\")\n",
    "except OSError as error:\n",
    "    print(\"Error removing directories:\", error)"
   ]
  },
  {
   "cell_type": "code",
   "execution_count": null,
   "metadata": {},
   "outputs": [],
   "source": [
    "import os\n",
    "directory_operations = r\"P:\\GIT4BothOS_Lnx_win\\GIT\\File_organizations\"  # Remove \"example1.txt\" from the path\n",
    "os.chdir(directory_operations)\n",
    "directory_whoami = os.getcwd()\n",
    "print(\"Updated Working Directory:\", directory_whoami)"
   ]
  },
  {
   "cell_type": "code",
   "execution_count": null,
   "metadata": {},
   "outputs": [],
   "source": [
    "# RENAME A FILE IN PYTHON\n",
    "import os\n",
    "\n",
    "old_name = \"sample.txt\"\n",
    "new_name = \"sample2.txt\"\n",
    "with open(old_name) as f:\n",
    "    content = f.read()\n",
    "    with open(new_name, \"w\") as f:\n",
    "        f.write(content)\n",
    "        os.remove(old_name)\n",
    "        print(\"File renamed successfully!\")"
   ]
  },
  {
   "cell_type": "code",
   "execution_count": null,
   "metadata": {},
   "outputs": [],
   "source": [
    "import os\n",
    "\n",
    "# Current name of the directory\n",
    "src_dir = \"old_directory\"\n",
    "\n",
    "# New name for the directory\n",
    "dst_dir = \"new_directory\"\n",
    "\n",
    "# Rename the directory\n",
    "os.rename(src_dir, dst_dir)\n"
   ]
  },
  {
   "cell_type": "code",
   "execution_count": null,
   "metadata": {},
   "outputs": [],
   "source": [
    "import os\n",
    "\n",
    "# Current name of the file\n",
    "src_file = \"OLD GOLD.txt\"\n",
    "\n",
    "# New name for the file\n",
    "dst_file = \"NEW BREW.txt\"\n",
    "\n",
    "# Rename the file\n",
    "os.rename(src_file, dst_file)"
   ]
  },
  {
   "cell_type": "code",
   "execution_count": null,
   "metadata": {},
   "outputs": [],
   "source": [
    "# Example 2: Rename a Directory\n",
    "import os\n",
    "\n",
    "# Current name of the directory\n",
    "src_dir = \"New folder\"\n",
    "\n",
    "# New name for the directory\n",
    "dst_dir = \"Old Folder\"\n",
    "\n",
    "# Rename the directory\n",
    "os.rename(src_dir, dst_dir)"
   ]
  },
  {
   "cell_type": "code",
   "execution_count": null,
   "metadata": {},
   "outputs": [],
   "source": [
    "#  Handling Errors with os.rename(f_old_name,f_new_name)\n",
    "import os\n",
    "\n",
    "try:\n",
    "    # Attempt to rename a non-existing file\n",
    "    os.rename(\"non_existing_file.txt\", \"new_name.txt\")\n",
    "except FileNotFoundError:\n",
    "    print(\"File not found.\")\n",
    "except Exception as e:\n",
    "    print(f\"An unexpected error occurred: {e}\")"
   ]
  },
  {
   "cell_type": "code",
   "execution_count": null,
   "metadata": {},
   "outputs": [],
   "source": [
    "import os\n",
    "\n",
    "# Current path of the file\n",
    "src_path = r\"P:\\GIT4BothOS_Lnx_win\\GIT\\File_organizations\\NEW BREW.txt\"\n",
    "\n",
    "# New path for the file\n",
    "dst_path = r\"P:\\GIT4BothOS_Lnx_win\\GIT\\File_organizations\\old BREW.txt\"\n",
    "\n",
    "# Rename the file with path\n",
    "os.rename(src_path, dst_path)\n"
   ]
  },
  {
   "cell_type": "code",
   "execution_count": null,
   "metadata": {},
   "outputs": [],
   "source": [
    "# >Environment Variables: os.environ\n",
    "\n",
    "import os\n",
    "\n",
    "# Access all environment variables\n",
    "all_env_vars = os.environ\n",
    "print(\"All Environment Variables:\", all_env_vars)"
   ]
  },
  {
   "cell_type": "code",
   "execution_count": null,
   "metadata": {},
   "outputs": [],
   "source": [
    "# os.getenv(key, default=None)\n",
    "import os\n",
    "\n",
    "# Get the value of the \"HOME\" environment variable\n",
    "home_directory = os.getenv(\"HOME\", default=\"Unknown\")\n",
    "print(\"Home Directory:\", home_directory)"
   ]
  },
  {
   "cell_type": "code",
   "execution_count": null,
   "metadata": {},
   "outputs": [],
   "source": [
    "# os.system()\n",
    "import os\n",
    "\n",
    "# Execute a simple command to print the current working directory\n",
    "os.system(\"echo %cd%\")"
   ]
  },
  {
   "cell_type": "code",
   "execution_count": null,
   "metadata": {},
   "outputs": [],
   "source": [
    "# os.getpid()\n",
    "import os\n",
    "\n",
    "# Get the process ID of the current process\n",
    "process_id = os.getpid()\n",
    "print(\"Process ID:\", process_id)"
   ]
  },
  {
   "cell_type": "code",
   "execution_count": null,
   "metadata": {},
   "outputs": [],
   "source": [
    "# OS_mod_win_OS_os.getppid()\n",
    "import os\n",
    "\n",
    "# Get the parent process ID of the current process\n",
    "parent_process_id = os.getppid()\n",
    "print(\"Parent Process ID:\", parent_process_id)"
   ]
  },
  {
   "cell_type": "code",
   "execution_count": null,
   "metadata": {},
   "outputs": [],
   "source": [
    "# os.cpu_count()\n",
    "import os\n",
    "# Get the number of CPUs in the system\n",
    "cpu_count = os.cpu_count()\n",
    "print(\"Number of CPUs:\", cpu_count)"
   ]
  },
  {
   "cell_type": "code",
   "execution_count": null,
   "metadata": {},
   "outputs": [],
   "source": [
    "# path (str)\n",
    "import os\n",
    "# Split a path into head and tail\n",
    "path = r\"P:\\GIT4BothOS_Lnx_win\\GIT\\File_organizations\\old BREW.txt\"\n",
    "head, tail = os.path.split(path)\n",
    "print(\"Head:\", head)\n",
    "print(\"Tail:\", tail) "
   ]
  },
  {
   "cell_type": "code",
   "execution_count": null,
   "metadata": {},
   "outputs": [],
   "source": [
    "# os.path.basename(path)\n",
    "import os\n",
    "# Get the last component of a path\n",
    "path = r\"P:\\GIT4BothOS_Lnx_win\\GIT\\File_organizations\\old BREW.txt\"\n",
    "basename = os.path.basename(path)\n",
    "print(\"Last Component:\", basename)"
   ]
  },
  {
   "cell_type": "code",
   "execution_count": null,
   "metadata": {},
   "outputs": [],
   "source": [
    "#  os.path.dirname(path) \n",
    "import os\n",
    "# Get the directory component of a path\n",
    "path = r\"P:\\GIT4BothOS_Lnx_win\\GIT\\File_organizations\\old BREW.txt\"\n",
    "dirname = os.path.dirname(path)\n",
    "print(\"Directory Component:\", dirname)"
   ]
  },
  {
   "cell_type": "code",
   "execution_count": null,
   "metadata": {},
   "outputs": [],
   "source": [
    "# os.path.basename(path) \n",
    "import os\n",
    "\n",
    "# Get the last component of a path\n",
    "path = r\"P:\\GIT4BothOS_Lnx_win\\GIT\\File_organizations\\old BREW.txt\"\n",
    "basename = os.path.basename(path)\n",
    "print(\"Last Component:\", basename)"
   ]
  },
  {
   "cell_type": "code",
   "execution_count": null,
   "metadata": {},
   "outputs": [],
   "source": [
    "# linux\n",
    "#  os.chmod(path, mode)\n",
    "import os\n",
    "# Change file permissions to read and write for the owner\n",
    "os.chmod(\"file.txt\", 0o600)"
   ]
  },
  {
   "cell_type": "code",
   "execution_count": null,
   "metadata": {},
   "outputs": [],
   "source": [
    "# Linux\n",
    "# os.chown(path, uid, gid)\n",
    "import os\n",
    "# Change the owner of a file to a specific user and group\n",
    "os.chown(\"file.txt\", 1000, 1000)"
   ]
  },
  {
   "cell_type": "code",
   "execution_count": null,
   "metadata": {},
   "outputs": [],
   "source": [
    "# win \n",
    "# os.stat\n",
    "import os\n",
    "path = r\"P:\\GIT4BothOS_Lnx_win\\GIT\\File_organizations\\old BREW.txt\"\n",
    "# Get the status of a file\n",
    "file_status = os.stat(path)\n",
    "print(\"File Status:\", file_status)"
   ]
  },
  {
   "cell_type": "code",
   "execution_count": null,
   "metadata": {},
   "outputs": [],
   "source": [
    "# win \n",
    "# os.path.getsize(path)\n",
    "import os\n",
    "path = r\"P:\\GIT4BothOS_Lnx_win\\GIT\\File_organizations\\old BREW.txt\"\n",
    "# Get the size of a file\n",
    "file_size = os.path.getsize(path)\n",
    "print(\"File Size:\", file_size)"
   ]
  },
  {
   "cell_type": "code",
   "execution_count": 1,
   "metadata": {},
   "outputs": [
    {
     "name": "stdout",
     "output_type": "stream",
     "text": [
      "Creation Time: 1707583782.551126\n"
     ]
    }
   ],
   "source": [
    "# win \n",
    "# os.path.getctime(path)\n",
    "import os\n",
    "path = r\"P:\\GIT4BothOS_Lnx_win\\GIT\\File_organizations\\old BREW.txt\"\n",
    "# Get the creation time of a file\n",
    "creation_time = os.path.getctime(path)\n",
    "print(\"Creation Time:\", creation_time)"
   ]
  },
  {
   "cell_type": "code",
   "execution_count": 3,
   "metadata": {},
   "outputs": [
    {
     "name": "stdout",
     "output_type": "stream",
     "text": [
      "P:\\GIT4BothOS_Lnx_win\\GIT\\File_organizations\\old BREW.txt\n",
      "P:\\GIT4BothOS_Lnx_win\\GIT\\File_organizations\\term_explore.rtf\n"
     ]
    }
   ],
   "source": [
    "# os.walk()\n",
    "import os\n",
    "path = r\"P:\\GIT4BothOS_Lnx_win\\GIT\\File_organizations\"\n",
    "# Walk through a directory and print all files\n",
    "for dirpath, dirnames, filenames in os.walk(path):\n",
    "    for filename in filenames:\n",
    "        print(os.path.join(dirpath, filename))"
   ]
  },
  {
   "cell_type": "code",
   "execution_count": 1,
   "metadata": {},
   "outputs": [
    {
     "name": "stdout",
     "output_type": "stream",
     "text": [
      "Is Readable: True\n"
     ]
    }
   ],
   "source": [
    "# File and Directory Permissions:\n",
    "# os.access(path, mode) - Checks if a file or directory has the specified permissions.\n",
    "import os\n",
    "path = r\"P:\\GIT4BothOS_Lnx_win\\GIT\\File_organizations\\old BREW.txt\"\n",
    "# Check if a file is readable\n",
    "is_readable = os.access(path, os.R_OK)\n",
    "print(\"Is Readable:\", is_readable)"
   ]
  },
  {
   "cell_type": "code",
   "execution_count": 1,
   "metadata": {},
   "outputs": [
    {
     "name": "stdout",
     "output_type": "stream",
     "text": [
      "Encoded Filename: b'P:\\\\GIT4BothOS_Lnx_win\\\\GIT\\\\File_organizations\\\\old BREW.txt'\n"
     ]
    }
   ],
   "source": [
    "# os.fsencode(filename)\n",
    "import os\n",
    "path = r\"P:\\GIT4BothOS_Lnx_win\\GIT\\File_organizations\\old BREW.txt\"\n",
    "# Encode a filename to the file system encoding\n",
    "encoded_filename = os.fsencode(path)\n",
    "print(\"Encoded Filename:\", encoded_filename)"
   ]
  },
  {
   "cell_type": "code",
   "execution_count": 1,
   "metadata": {},
   "outputs": [
    {
     "name": "stdout",
     "output_type": "stream",
     "text": [
      "Decoded Filename: old BREW.txt\n"
     ]
    }
   ],
   "source": [
    "# os.fsdecode(filename)\n",
    "import os\n",
    "path = r\"P:\\GIT4BothOS_Lnx_win\\GIT\\File_organizations\\old BREW.txt\"\n",
    "# Decode a filename from the file system encoding\n",
    "decoded_filename = os.fsdecode(b'old BREW.txt')\n",
    "print(\"Decoded Filename:\", decoded_filename)"
   ]
  },
  {
   "cell_type": "code",
   "execution_count": null,
   "metadata": {},
   "outputs": [],
   "source": [
    "# os.mkstemp(suffix='', prefix='', dir=None, text=False)\n",
    "import os\n",
    "\n",
    "# Create a temporary file\n",
    "temp_file_descriptor, temp_file_path = os.mkstemp(suffix='.txt', prefix='temp_', text=True)\n",
    "print(\"Temporary File Path:\", temp_file_path)"
   ]
  },
  {
   "cell_type": "code",
   "execution_count": 2,
   "metadata": {},
   "outputs": [
    {
     "name": "stdout",
     "output_type": "stream",
     "text": [
      "Temporary File Path: C:\\Users\\biswa\\AppData\\Local\\Temp\\temp_g7ympmyi.txt\n"
     ]
    }
   ],
   "source": [
    "# tempfile.mkstemp\n",
    "import tempfile\n",
    "# Create a temporary file\n",
    "temp_file_descriptor, temp_file_path = tempfile.mkstemp(suffix='.txt', prefix='temp_', text=True)\n",
    "print(\"Temporary File Path:\", temp_file_path)"
   ]
  },
  {
   "cell_type": "code",
   "execution_count": 2,
   "metadata": {},
   "outputs": [],
   "source": [
    "# os.makedirs(path, mode=0o777, exist_ok=False)\n",
    "import os\n",
    "path = r\"P:\\GIT4BothOS_Lnx_win\\GIT\\Folder 1\\folder 2\"\n",
    "os.makedirs(path, mode=0o755, exist_ok=True)"
   ]
  },
  {
   "cell_type": "code",
   "execution_count": 4,
   "metadata": {},
   "outputs": [
    {
     "name": "stdout",
     "output_type": "stream",
     "text": [
      "1709390544.398024\n"
     ]
    }
   ],
   "source": [
    "# os.utime(path, times=None, *, ns=None, follow_symlinks=True)\n",
    "import os\n",
    "import time\n",
    "path = r\"P:\\GIT4BothOS_Lnx_win\\GIT\\File_organizations\\old BREW.txt\"\n",
    "# Set the access and modified times of a file\n",
    "os.utime(path, times=(time.time(), time.time()))\n",
    "# Get the modified time of the file\n",
    "file_mod_times = os.path.getmtime(path)\n",
    "print(file_mod_times)"
   ]
  },
  {
   "cell_type": "code",
   "execution_count": 6,
   "metadata": {},
   "outputs": [
    {
     "name": "stdout",
     "output_type": "stream",
     "text": [
      "Symbolic link created: P:\\GIT4BothOS_Lnx_win\\GIT\\File_organizations\\symbolic_link.txt -> P:\\GIT4BothOS_Lnx_win\\GIT\\File_organizations\\old BREW.txt\n"
     ]
    }
   ],
   "source": [
    "import os\n",
    "# from pathlib import Path\n",
    "\n",
    "# Path to the target file\n",
    "target_path = r\"P:\\GIT4BothOS_Lnx_win\\GIT\\File_organizations\\old BREW.txt\"\n",
    "\n",
    "# Path where the symbolic link will be created\n",
    "symbolic_link_path = r\"P:\\GIT4BothOS_Lnx_win\\GIT\\File_organizations\\symbolic_link.txt\"\n",
    "\n",
    "# # Create a symbolic link to the target file\n",
    "# target = Path(target_path)\n",
    "# symbolic_link = Path(symbolic_link_path)\n",
    "# symbolic_link.symlink_to(target)\n",
    "# # Create a symbolic link to the shared library file\n",
    "# os.symlink(target_path, symbolic_link_path)\n",
    "\n",
    "print(f\"Symbolic link created: {symbolic_link_path} -> {target_path}\")"
   ]
  },
  {
   "cell_type": "code",
   "execution_count": 3,
   "metadata": {},
   "outputs": [
    {
     "name": "stdout",
     "output_type": "stream",
     "text": [
      "Terminal Size (Default for Windows): (80, 24)\n"
     ]
    }
   ],
   "source": [
    "# os.get_terminal_size()\n",
    "import os\n",
    "\n",
    "try:\n",
    "    # Get the terminal size\n",
    "    terminal_size = os.get_terminal_size()\n",
    "    print(\"Terminal Size:\", terminal_size)\n",
    "except OSError as e:\n",
    "    if e.winerror == 6:  # Check if the error is due to invalid handle on Windows\n",
    "        terminal_size = (80, 24)  # Default terminal size for Windows\n",
    "        print(\"Terminal Size (Default for Windows):\", terminal_size)\n",
    "    else:\n",
    "        raise  # Re-raise the exception if it's not related to the handle error"
   ]
  },
  {
   "cell_type": "code",
   "execution_count": null,
   "metadata": {},
   "outputs": [],
   "source": [
    "import os\n",
    "\n",
    "# Set an environment variable\n",
    "os.putenv(\"MY_VARIABLE\", \"my_value\")"
   ]
  },
  {
   "cell_type": "code",
   "execution_count": 5,
   "metadata": {},
   "outputs": [
    {
     "name": "stdout",
     "output_type": "stream",
     "text": [
      "2024 की सुपर 10 सबसे बड़ी और विश्वसनीय भविष्यवाणी।.mp4\n",
      "Final countdown for traitors has started in West Bengal astrological analysis by Prashant Kapoor.mp4\n",
      "French and Bengali – Podcaast with Neline Mondal.mp4\n",
      "GHa-OA_WsAA405P.jpeg\n",
      "How India That Is Bharat Can Become Superpower in 5 Years Narendra Modi Thomas Sowell J Sai De.mp4\n",
      "INDI জোটের পিণ্ডি চটকে মুকুলদার এক অসাধারণ গান। শুনুন.mp4\n",
      "Liberals Love BJP - Narendra Modi India That Is Bharat J Sai Deepak Anand Ranganathan Sanjee.mp4\n",
      "New folder (3)\n",
      "SandeshKhali Protest.mp4\n",
      "Sandeshkhali का सच.mp4\n",
      "shortrs cpimwestbengal shortsviral rammandir kolkatanews viralshort.mp4\n",
      "Supreme Court Live Streams Good For India That Is Bharat J Sai Deepak Kapil Sibal G20 Summit.mp4\n",
      "tmc\n",
      "Vaam Kutta\n",
      "Wahh Didi Wahh Aap to extra pro nikle.mp4\n",
      "West Bengal Mamata Banerjee Bhayankar Bro.mp4\n",
      "Why is Bengali the French of India.mp4\n",
      "पश्चिम बंगाल की क्रांति की सबसे बड़ी भविष्यवाणी।.mp4\n",
      "पश्चिम बंगाल से नजर मत हटाना। सबसे बडी और विश्वसनीय भविष्यवाणी।.mp4\n",
      "बंगाल की कमसे कम ३० सीटे ममता दीदीने भाजपा थालीमें परोसी - Bhau Torsekar Pratipaksha.mp4\n",
      "অবস্থা খারাপ ২১-এর থেকেও নেতারা জেলে- জনতাও সাথ দিচ্ছে না- তাই কি তড়িঘড়ি উড়িয়ে আনা হল বাঁচাও বাবাকে.mp4\n",
      "অমিত শাহের কাজ শেষ- এবার ঘুম উড়বেই মমতা ব্যানার্জীর। দেখুন Rudra Barta News.mp4\n",
      "ইডির ভয়ে কাঁপুনি ।.mp4\n",
      "উত্তর 🚩 jaishreeram ram rammandir hindu.mp4\n",
      "এক ঘন্টা হৈ চৈ আপনাদের সঙ্গে.mp4\n",
      "এসএসকেএমের বাস্তু ঘুঘু ডাক্তাররা এবার ফাঁদে- হাইকোর্টে লজ্জায় স্বাস্থ্য.mp4\n",
      "কালীঘাটের ব্যানার্জি পরিবার অচিরেই টের পাবে ঝাঁকুনি..... দেখতে থাকুন.mp4\n",
      "কেজরিওয়ালের বাঁচার সব পথ বন্ধ হলো বাংলার কৌশল তৈরী হচ্ছে দ্রুত.mp4\n",
      "গভীর রাতে গম্ভীর খবর- শাজাহানের সঙ্গে জঙ্গীযোগ- এক্ষুনি গ্রেফতারের নির্দেশ.mp4\n",
      "গিয়েছিলো শাসকের হয়ে সমীক্ষা করতে- মুখের উপর চোর-চিটিংবাজ শুনে বেহাল অবস্থা- হাসতেহাসতে পেট ফেটে যাবে.mp4\n",
      "গ্রীন সিগন্যাল দিল্লির । সুড়ঙ্গ থেকেও তুলতে পারে শাহজাহানকে ।.mp4\n",
      "চমকের পর চমক আবারও ময়দানে ইডি- চিন্তায় দিদি। দেখুন যুক্তিসহ Rudra Barta News.mp4\n",
      "চোরেদের সরকারের বিরুদ্ধে বাংলার জনতা কিভাবে গজরাচ্ছে সমীক্ষা করতে গিয়ে হাড়েহাড়ে টের পেল প্যাকপ্যাক--.mp4\n",
      "ছোট জায়গায় এক বিরাট নাম শেখ শাহজাহান। কে এই শেখ শাহজাহান.mp4\n",
      "জেলা সহ সভাপতির ঘর ওয়াপসি- বিজেপি নেতাদের কবে চৈতন্য হবে.mp4\n",
      "তাইতো বলি বালুর পাশে এত কেন দিদি- আজ তো মিলল ইঙ্গিত। দেখুন.mp4\n",
      "পূর্ব মেদিনীপুরের নারানদাড়ি এলাকার মুসলমান সম্প্রদায়ের মানুষ কি বলছে শুনুন.mp4\n",
      "প্রত্যাশা মতোই বন্ধ করে দেওয়া হল জাস্টিস সিনহার লাইভ স্ট্রিমিং- কাকু-ভাইপোর কপালে শনি নাচছে.mp4\n",
      "বা..ল তো দূরের কথা ১টা চুল ছিঁড়ে দেখা...- বলেছিলেন শাহজাহান। শুনুন.mp4\n",
      "বাংলার ভয়াবহ পরিস্থিতি দেখে- এবার কেন্দ্র বড়ো পদক্ষেপ নিতে পারে। দেখুন যুক্তিসহ Rudra Barta News.mp4\n",
      "বাঘ হয়ে গেছে ছাগ- অডিও বার্তায় কান্না কান্না ভাব। শুনুন শাহজাহানকে.mp4\n",
      "মমতার চোর বলায় মামলা- লে এবার ঠ্যালা সামলা। দেখুন.mp4\n",
      "মাস্টারস্ট্রোক শুভেন্দুর -- অভিজিৎ গাঙ্গুলী কে নিয়ে মোদির বিরাট প্ল্যান.mp4\n",
      "মোদির জয় নাকি পরাজয় ভোটযুদ্ধ নাকি ধর্মযুদ্ধ দেখুন যুক্তিসহ Rudra Barta News.mp4\n",
      "যে কারণে মুখ্যমন্ত্রীর গ্রেফতারি চাইছি ।.mp4\n",
      "রাজ্যপালের নির্দেশে গ্রেফতার হবেন শাহজাহান কেন লুকআউট নোটিশ জারি ইডির কী বলছেন দীপাঞ্জন চক্রবর্তী.mp4\n",
      "রেশন দুর্নীতি ধরেই সর্বোচ্চ মাথায় পৌঁছাবে ইডি দুই বড় নামের ঘাড় ধরতে বড়সড় পদক্ষেপ- খেলা জমে গেছে.mp4\n",
      "শাহজাহান যেন বাংলাদেশী হিরো- গাড়ির বনেটে বসে মিউজিক ভিডিও। দেখুন.mp4\n",
      "শাহজাহানরা মুসলিমের কলঙ্ক। সরব মাসুম আক্তার। কেন সরব হচ্ছেন না ইমামরা.mp4\n",
      "সত্যিই কি এটা বিজেপি করেছে bjp bjpwestbengal tmcvsbjp modi rammandir.mp4\n",
      "সন্দেশখালি-বনগাঁ কান্ডের পর এবার শুরু হবে ইডির আসল খেলা- যেভাবে ফাঁসতে চলেছে ঘাসফুল কোম্পানি.mp4\n",
      "সন্দেশখালিতে কেস পুরো জন্ডিস- খেলা ঘোরাতে পাজি পিসির নয়া ছক এখনই সাবধান হোন- নাহলে কপালে দুঃখ.mp4\n",
      "হারের ভয়- পরিবার কেনা শুরু। কত কোটি খরচ করছেন অভিষেক- দেখুন। ভাবা যায়-.mp4\n"
     ]
    }
   ],
   "source": [
    "import os\n",
    "# os.scandir(\n",
    "path = r\"E:\\YT2024\\BANGLA\"\n",
    "# Iterate over entries in a directory\n",
    "for entry in os.scandir(path):\n",
    "    print(entry.name)"
   ]
  }
 ],
 "metadata": {
  "kernelspec": {
   "display_name": "Python 3",
   "language": "python",
   "name": "python3"
  },
  "language_info": {
   "codemirror_mode": {
    "name": "ipython",
    "version": 3
   },
   "file_extension": ".py",
   "mimetype": "text/x-python",
   "name": "python",
   "nbconvert_exporter": "python",
   "pygments_lexer": "ipython3",
   "version": "3.10.5"
  }
 },
 "nbformat": 4,
 "nbformat_minor": 2
}
