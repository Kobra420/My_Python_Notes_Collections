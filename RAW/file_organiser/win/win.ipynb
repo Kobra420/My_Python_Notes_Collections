{
 "cells": [
  {
   "cell_type": "code",
   "execution_count": null,
   "metadata": {},
   "outputs": [],
   "source": [
    "#windows\n",
    "import os\n",
    "\n",
    "def organize_files(directory_path):\n",
    "    # List all files in the source folder\n",
    "    files = os.listdir(directory_path)\n",
    "    print(files)\n",
    "\n",
    "organize_files(r'E:\\YT2024\\BHARAT')"
   ]
  },
  {
   "cell_type": "code",
   "execution_count": null,
   "metadata": {},
   "outputs": [],
   "source": [
    "import os\n",
    "import shutil\n",
    "import re\n",
    "\n",
    "def organize_files(source_folder):\n",
    "    # List all files in the source folder\n",
    "    files = os.listdir(source_folder)\n",
    "\n",
    "    # Define a regex pattern for extracting relevant portions of file names\n",
    "    pattern = re.compile(r'[a-zA-Z]+')\n",
    "\n",
    "    for file in files:\n",
    "        # Apply the regex pattern to extract the key part of the file name\n",
    "        match = pattern.match(file)\n",
    "        if match:\n",
    "            key = match.group().lower()  # Convert to lowercase for case-insensitivity\n",
    "\n",
    "            # Create a subfolder if it doesn't exist\n",
    "            subfolder_path = os.path.join(source_folder, key)\n",
    "            if not os.path.exists(subfolder_path):\n",
    "                os.makedirs(subfolder_path)\n",
    "\n",
    "            # Move the file to the appropriate subfolder\n",
    "            shutil.move(os.path.join(source_folder, file), os.path.join(subfolder_path, file))\n",
    "\n",
    "    print(\"Files organized successfully!\")\n",
    "\n",
    "# Replace 'your/source/folder/path' with the actual path of your source folder\n",
    "organize_files('your/source/folder/path')\n"
   ]
  },
  {
   "cell_type": "code",
   "execution_count": null,
   "metadata": {},
   "outputs": [],
   "source": [
    "import os\n",
    "import shutil\n",
    "\n",
    "def get_file_size(file_path):\n",
    "    return os.path.getsize(file_path)\n",
    "\n",
    "def organize_files_by_size(directory_path, output_file_path):\n",
    "    files = []\n",
    "    \n",
    "    # Collect file information (path and size)\n",
    "    for dirpath, _, filenames in os.walk(directory_path):\n",
    "        for filename in filenames:\n",
    "            file_path = os.path.join(dirpath, filename)\n",
    "            size = get_file_size(file_path)\n",
    "            files.append((file_path, size))\n",
    "\n",
    "    # Sort files by size\n",
    "    files.sort(key=lambda x: x[1])\n",
    "\n",
    "    # Create subfolders based on file size ranges\n",
    "    size_ranges = [(0, 1024), (1024, 10240), (10240, 102400), (102400, float('inf'))]\n",
    "\n",
    "    for file_path, size in files:\n",
    "        for size_range in size_ranges:\n",
    "            if size_range[0] <= size < size_range[1]:\n",
    "                subfolder_path = os.path.join(directory_path, f\"Size_{size_range[0]}_{size_range[1]}\")\n",
    "                if not os.path.exists(subfolder_path):\n",
    "                    os.makedirs(subfolder_path)\n",
    "\n",
    "                # Move the file to the appropriate subfolder\n",
    "                shutil.move(file_path, os.path.join(subfolder_path, os.path.basename(file_path)))\n",
    "                break\n",
    "\n",
    "    # Print the file-size output to a text file\n",
    "    with open(output_file_path, 'w', encoding='utf-8') as output_file:\n",
    "        for file_path, size in files:\n",
    "            output_file.write(f\"File: {file_path}, Size: {size} bytes\\n\")\n",
    "\n",
    "# Replace '/your/directory/path' with the actual path of your directory\n",
    "directory_path = r'E:\\YT2024\\BHARAT'\n",
    "\n",
    "# Replace '/desired/output/file/path/output.txt' with your desired output file path\n",
    "output_file_path = 'E:\\YT2024\\output.txt'\n",
    "\n",
    "organize_files_by_size(directory_path, output_file_path)\n"
   ]
  },
  {
   "cell_type": "code",
   "execution_count": null,
   "metadata": {},
   "outputs": [],
   "source": [
    "# 1. File Descriptor Operations:\n",
    "# os.open(file, flags[, mode]):\n",
    "import os\n",
    "\n",
    "file_path = \"E:\\chrom_links.txt\"\n",
    "\n",
    "# Check if the file is readable\n",
    "if os.access(file_path, os.R_OK):\n",
    "    with open(file_path, 'r', encoding='utf-8', errors='ignore') as file:\n",
    "        content = file.read()\n",
    "        print(content)\n",
    "else:\n",
    "    print(\"File is not readable.\")\n"
   ]
  },
  {
   "cell_type": "code",
   "execution_count": null,
   "metadata": {},
   "outputs": [],
   "source": [
    "\n",
    "import os\n",
    "\n",
    "# Open a file and get a file descriptor\n",
    "fd = os.open(\"E:\\chrom_links.txt\", os.O_RDONLY)\n",
    "\n",
    "# Do some operations with the file descriptor\n",
    "print(fd)\n",
    "# Close the file descriptor\n",
    "os.close(fd)\n"
   ]
  },
  {
   "cell_type": "code",
   "execution_count": null,
   "metadata": {},
   "outputs": [],
   "source": [
    "import os\n",
    "\n",
    "file_path = \"P:\\PROJECT_python\\GIT\\File_organizations\\example1.txt\"\n",
    "\n",
    "# # Open a file for writing, create if it doesn't exist, and set permissions to 0o644\n",
    "# fd = os.open(file_path, os.O_WRONLY | os.O_CREAT | os.O_TRUNC, 0o644)\n",
    "\n",
    "# # Write content to the file\n",
    "# os.write(fd, b\"Hello, World!\")\n",
    "\n",
    "\n",
    "# # Close the file descriptor\n",
    "# os.close(fd)\n",
    "\n",
    "# # file read\n",
    "# # Check if the file is readable\n",
    "\n",
    "# if os.access(file_path, os.R_OK):\n",
    "#     with open(file_path, 'r') as file:\n",
    "#         global content\n",
    "#         content = file.read()\n",
    "#         print(content)\n",
    "# else:\n",
    "#     print(\"File is not readable.\")\n",
    "\n",
    "# os.O_BINARY: Open the file in binary mode.\n",
    "\n",
    "with open(file_path, 'rb') as file:\n",
    "    content = file.read()\n",
    "    print(content)\n",
    "    print(type(content))\n",
    "    print(content.decode())\n",
    "    print(type(content.decode()))\n",
    "    print(content.decode().split())\n",
    "    print(type(content.decode().split()))\n",
    "    print(content.decode().split()[0])\n",
    "    print(type(content.decode().split()[0]))\n",
    "\n",
    "\n",
    "\n",
    "# # Check if the file is writable\n",
    "if os.access(file_path, os.W_OK):\n",
    "    with open(file_path, 'w') as file:\n",
    "        file.write(\"Hello, World!\")\n",
    "else:\n",
    "    print(\"File is not writable.\")"
   ]
  },
  {
   "cell_type": "code",
   "execution_count": null,
   "metadata": {},
   "outputs": [],
   "source": [
    "import os\n",
    "path = \"B:\\example1.txt\"\n",
    "# Open a file for writing, create if it doesn't exist, and set permissions to 0o644\n",
    "fd = os.open(path, os.O_WRONLY | os.O_CREAT | os.O_TRUNC, 0o644) # '|' (bitwise OR) \n",
    "\n",
    "# Write content to the file\n",
    "os.write(fd, b\"Hello, World!\\n This is a test.\")\n",
    "os.write(fd, b\"CHECK AGAIN\")"
   ]
  },
  {
   "cell_type": "code",
   "execution_count": null,
   "metadata": {},
   "outputs": [],
   "source": [
    "import os\n",
    "\n",
    "# Get the list of entries in the current directory\n",
    "entries = os.listdir()\n",
    "\n",
    "file_path = \"P:\\PROJECT_python\\GIT\\File_organizations\\example1.txt\"\n",
    "\n",
    "# Print the entries\n",
    "for entry in entries:\n",
    "    print(entry)"
   ]
  },
  {
   "cell_type": "code",
   "execution_count": null,
   "metadata": {},
   "outputs": [],
   "source": [
    "import os\n",
    "\n",
    "# Get the current working directory\n",
    "current_directory = os.getcwd()\n",
    "print(\"Current Working Directory:\", current_directory)\n",
    "\n",
    "# Change the current working directory to a different path\n",
    "new_directory = r\"P:\\PROJECT_python\\GIT\\File_organizations\"  # Remove \"example1.txt\" from the path\n",
    "os.chdir(new_directory)\n",
    "\n",
    "# Get the updated current working directory\n",
    "updated_directory = os.getcwd()\n",
    "print(\"Updated Working Directory:\", updated_directory)\n"
   ]
  },
  {
   "cell_type": "code",
   "execution_count": null,
   "metadata": {},
   "outputs": [],
   "source": [
    "# path Manipulation\n",
    "import os\n",
    "\n",
    "# Join path components\n",
    "full_path = os.path.join(\"C:\\\\\", \"Users\", \"User\", \"Documents\", \"Doc1.docx\")\n",
    "print(\"Full Path:\", full_path)"
   ]
  },
  {
   "cell_type": "code",
   "execution_count": null,
   "metadata": {},
   "outputs": [],
   "source": [
    "# os.path.abspath(path)\n",
    "import os\n",
    "\n",
    "# Get absolute path\n",
    "absolute_path = os.path.abspath(\"file.txt\")\n",
    "print(\"Absolute Path:\", absolute_path)"
   ]
  },
  {
   "cell_type": "code",
   "execution_count": null,
   "metadata": {},
   "outputs": [],
   "source": [
    "# os_mod_win_os.path.exists(path)\n",
    "import os\n",
    "\n",
    "# Check if path exists\n",
    "path_exists = os.path.exists(\"file.txt\")\n",
    "print(\"Path Exists:\", path_exists)"
   ]
  },
  {
   "cell_type": "code",
   "execution_count": null,
   "metadata": {},
   "outputs": [],
   "source": [
    "# os.path.isdir(path)\n",
    "import os\n",
    "\n",
    "# Check if path is a directory\n",
    "is_directory = os.path.isdir(\"folder\")\n",
    "print(\"Is Directory:\", is_directory)"
   ]
  },
  {
   "cell_type": "code",
   "execution_count": null,
   "metadata": {},
   "outputs": [],
   "source": [
    "#make directory\n",
    "import os\n",
    "current_directory = os.getcwd()\n",
    "print(\"Current Working Directory:\", current_directory)\n",
    "new_directory = r\"P:\\PROJECT_python\\GIT\\File_organizations\"  # Remove \"example1.txt\" from the path\n",
    "os.chdir(new_directory)\n",
    "updated_directory = os.getcwd()\n",
    "print(\"Updated Working Directory:\", updated_directory)\n",
    "# Create a directory\n",
    "os.mkdir(\"new_directory1\")\n",
    "is_directory = os.path.isdir(\"new_directory1\")\n",
    "print(\"Is Directory:\", is_directory)"
   ]
  },
  {
   "cell_type": "code",
   "execution_count": null,
   "metadata": {},
   "outputs": [],
   "source": [
    "# create directories recursively\n",
    "# make folder-tree along with subfolders in it\n",
    "import os\n",
    "new_directory = r\"P:\\PROJECT_python\\GIT\\File_organizations\"  # Remove \"example1.txt\" from the path\n",
    "os.chdir(new_directory)\n",
    "updated_directory = os.getcwd()\n",
    "print(\"Updated Working Directory:\", updated_directory)\n",
    "# Create directories recursively\n",
    "os.makedirs(\"d1/b2/a3\")"
   ]
  },
  {
   "cell_type": "code",
   "execution_count": null,
   "metadata": {},
   "outputs": [],
   "source": [
    "# remove a file \n",
    "# os.remove(path) 1\n",
    "import os\n",
    "current_directory = os.getcwd()\n",
    "print(\"Current Working Directory:\", current_directory)\n",
    "new_directory = r\"P:\\PROJECT_python\\GIT\\File_organizations\"  # Remove \"example1.txt\" from the path\n",
    "os.chdir(new_directory)\n",
    "updated_directory = os.getcwd()\n",
    "# Remove a file\n",
    "# os.remove(\"file.txt\")\n"
   ]
  },
  {
   "cell_type": "code",
   "execution_count": 6,
   "metadata": {},
   "outputs": [
    {
     "name": "stdout",
     "output_type": "stream",
     "text": [
      "Current Working Directory: P:\\GIT4BothOS_Lnx_win\\GIT\\File_organizations\n",
      "Updated Working Directory: P:\\GIT4BothOS_Lnx_win\\GIT\\File_organizations\n",
      "Updated Working Directory after creating directories recursively and\n",
      "add remove directory : P:\\GIT4BothOS_Lnx_win\\GIT\\File_organizations\\add_remove\n"
     ]
    }
   ],
   "source": [
    "import os\n",
    "directory_whoami = os.getcwd()\n",
    "print(\"Current Working Directory:\", directory_whoami)\n",
    "directory_operations = r\"P:\\GIT4BothOS_Lnx_win\\GIT\\File_organizations\"  # Remove \"example1.txt\" from the path\n",
    "os.chdir(directory_operations)\n",
    "directory_whoami = os.getcwd()\n",
    "print(\"Updated Working Directory:\", directory_whoami)\n",
    "# Create a directory\n",
    "os.mkdir(\"recursive\")\n",
    "# Create directories recursively\n",
    "os.makedirs(\"recursive/a1/b3/d1/b2/a3\")\n",
    "# Create another directory\n",
    "os.mkdir(\"add_remove\")\n",
    "add_remove_path = r\"P:\\GIT4BothOS_Lnx_win\\GIT\\File_organizations\\add_remove\"\n",
    "os.chdir(add_remove_path)\n",
    "directory_whoami = os.getcwd()\n",
    "print(\"Updated Working Directory after creating directories recursively and\\nadd remove directory :\", directory_whoami)"
   ]
  },
  {
   "cell_type": "code",
   "execution_count": 7,
   "metadata": {},
   "outputs": [
    {
     "data": {
      "text/plain": [
       "28"
      ]
     },
     "execution_count": 7,
     "metadata": {},
     "output_type": "execute_result"
    }
   ],
   "source": [
    "file_path = r\"P:\\GIT4BothOS_Lnx_win\\GIT\\File_organizations\\add_remove\\add_remove.txt\"\n",
    "fd1 =os.open(file_path,os.O_WRONLY | os.O_CREAT | os.O_TRUNC,0o777)\n",
    "os.write(fd1, b\"Please remove this file asap\")"
   ]
  },
  {
   "cell_type": "code",
   "execution_count": 11,
   "metadata": {},
   "outputs": [
    {
     "name": "stdout",
     "output_type": "stream",
     "text": [
      "current working directory, P:\\GIT4BothOS_Lnx_win\\GIT\\File_organizations\\add_remove\n"
     ]
    }
   ],
   "source": [
    "os.close(fd1)\n",
    "print(f\"current working directory, {os.getcwd()}\")\n",
    "# Remove a file\n",
    "os.remove(\"add_remove.txt\")"
   ]
  },
  {
   "cell_type": "code",
   "execution_count": null,
   "metadata": {},
   "outputs": [],
   "source": [
    "new_directory = r\"C:\\Users\\biswa\\OneDrive\\Documents\\GIT\\GIT_main\\My_Python_Notes_Collections\"  # Remove \"example1.txt\" from the path\n",
    "os.chdir(new_directory)\n",
    "filepath = \"P:\\GIT4BothOS_Lnx_win\\GIT\\File_organizations\"\n",
    "fd = os.open(filepath)"
   ]
  }
 ],
 "metadata": {
  "kernelspec": {
   "display_name": "Python 3",
   "language": "python",
   "name": "python3"
  },
  "language_info": {
   "codemirror_mode": {
    "name": "ipython",
    "version": 3
   },
   "file_extension": ".py",
   "mimetype": "text/x-python",
   "name": "python",
   "nbconvert_exporter": "python",
   "pygments_lexer": "ipython3",
   "version": "3.10.5"
  }
 },
 "nbformat": 4,
 "nbformat_minor": 2
}
