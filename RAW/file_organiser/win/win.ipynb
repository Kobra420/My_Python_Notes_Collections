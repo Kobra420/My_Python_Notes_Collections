{
 "cells": [
  {
   "cell_type": "code",
   "execution_count": null,
   "metadata": {},
   "outputs": [],
   "source": [
    "#windows\n",
    "import os\n",
    "\n",
    "def organize_files(directory_path):\n",
    "    # List all files in the source folder\n",
    "    files = os.listdir(directory_path)\n",
    "    print(files)\n",
    "\n",
    "organize_files(r'E:\\YT2024\\BHARAT')"
   ]
  },
  {
   "cell_type": "code",
   "execution_count": null,
   "metadata": {},
   "outputs": [],
   "source": [
    "import os\n",
    "import shutil\n",
    "import re\n",
    "\n",
    "def organize_files(source_folder):\n",
    "    # List all files in the source folder\n",
    "    files = os.listdir(source_folder)\n",
    "\n",
    "    # Define a regex pattern for extracting relevant portions of file names\n",
    "    pattern = re.compile(r'[a-zA-Z]+')\n",
    "\n",
    "    for file in files:\n",
    "        # Apply the regex pattern to extract the key part of the file name\n",
    "        match = pattern.match(file)\n",
    "        if match:\n",
    "            key = match.group().lower()  # Convert to lowercase for case-insensitivity\n",
    "\n",
    "            # Create a subfolder if it doesn't exist\n",
    "            subfolder_path = os.path.join(source_folder, key)\n",
    "            if not os.path.exists(subfolder_path):\n",
    "                os.makedirs(subfolder_path)\n",
    "\n",
    "            # Move the file to the appropriate subfolder\n",
    "            shutil.move(os.path.join(source_folder, file), os.path.join(subfolder_path, file))\n",
    "\n",
    "    print(\"Files organized successfully!\")\n",
    "\n",
    "# Replace 'your/source/folder/path' with the actual path of your source folder\n",
    "organize_files('your/source/folder/path')\n"
   ]
  },
  {
   "cell_type": "code",
   "execution_count": null,
   "metadata": {},
   "outputs": [],
   "source": [
    "import os\n",
    "import shutil\n",
    "\n",
    "def get_file_size(file_path):\n",
    "    return os.path.getsize(file_path)\n",
    "\n",
    "def organize_files_by_size(directory_path, output_file_path):\n",
    "    files = []\n",
    "    \n",
    "    # Collect file information (path and size)\n",
    "    for dirpath, _, filenames in os.walk(directory_path):\n",
    "        for filename in filenames:\n",
    "            file_path = os.path.join(dirpath, filename)\n",
    "            size = get_file_size(file_path)\n",
    "            files.append((file_path, size))\n",
    "\n",
    "    # Sort files by size\n",
    "    files.sort(key=lambda x: x[1])\n",
    "\n",
    "    # Create subfolders based on file size ranges\n",
    "    size_ranges = [(0, 1024), (1024, 10240), (10240, 102400), (102400, float('inf'))]\n",
    "\n",
    "    for file_path, size in files:\n",
    "        for size_range in size_ranges:\n",
    "            if size_range[0] <= size < size_range[1]:\n",
    "                subfolder_path = os.path.join(directory_path, f\"Size_{size_range[0]}_{size_range[1]}\")\n",
    "                if not os.path.exists(subfolder_path):\n",
    "                    os.makedirs(subfolder_path)\n",
    "\n",
    "                # Move the file to the appropriate subfolder\n",
    "                shutil.move(file_path, os.path.join(subfolder_path, os.path.basename(file_path)))\n",
    "                break\n",
    "\n",
    "    # Print the file-size output to a text file\n",
    "    with open(output_file_path, 'w', encoding='utf-8') as output_file:\n",
    "        for file_path, size in files:\n",
    "            output_file.write(f\"File: {file_path}, Size: {size} bytes\\n\")\n",
    "\n",
    "# Replace '/your/directory/path' with the actual path of your directory\n",
    "directory_path = r'E:\\YT2024\\BHARAT'\n",
    "\n",
    "# Replace '/desired/output/file/path/output.txt' with your desired output file path\n",
    "output_file_path = 'E:\\YT2024\\output.txt'\n",
    "\n",
    "organize_files_by_size(directory_path, output_file_path)\n"
   ]
  },
  {
   "cell_type": "code",
   "execution_count": null,
   "metadata": {},
   "outputs": [],
   "source": [
    "# 1. File Descriptor Operations:\n",
    "# os.open(file, flags[, mode]):\n",
    "import os\n",
    "\n",
    "file_path = \"E:\\chrom_links.txt\"\n",
    "\n",
    "# Check if the file is readable\n",
    "if os.access(file_path, os.R_OK):\n",
    "    with open(file_path, 'r', encoding='utf-8', errors='ignore') as file:\n",
    "        content = file.read()\n",
    "        print(content)\n",
    "else:\n",
    "    print(\"File is not readable.\")\n"
   ]
  },
  {
   "cell_type": "code",
   "execution_count": null,
   "metadata": {},
   "outputs": [],
   "source": [
    "\n",
    "import os\n",
    "\n",
    "# Open a file and get a file descriptor\n",
    "fd = os.open(\"E:\\chrom_links.txt\", os.O_RDONLY)\n",
    "\n",
    "# Do some operations with the file descriptor\n",
    "print(fd)\n",
    "# Close the file descriptor\n",
    "os.close(fd)\n"
   ]
  },
  {
   "cell_type": "code",
   "execution_count": null,
   "metadata": {},
   "outputs": [],
   "source": [
    "import os\n",
    "\n",
    "file_path = \"P:\\PROJECT_python\\GIT\\File_organizations\\example1.txt\"\n",
    "\n",
    "# # Open a file for writing, create if it doesn't exist, and set permissions to 0o644\n",
    "# fd = os.open(file_path, os.O_WRONLY | os.O_CREAT | os.O_TRUNC, 0o644)\n",
    "\n",
    "# # Write content to the file\n",
    "# os.write(fd, b\"Hello, World!\")\n",
    "\n",
    "\n",
    "# # Close the file descriptor\n",
    "# os.close(fd)\n",
    "\n",
    "# # file read\n",
    "# # Check if the file is readable\n",
    "\n",
    "# if os.access(file_path, os.R_OK):\n",
    "#     with open(file_path, 'r') as file:\n",
    "#         global content\n",
    "#         content = file.read()\n",
    "#         print(content)\n",
    "# else:\n",
    "#     print(\"File is not readable.\")\n",
    "\n",
    "# os.O_BINARY: Open the file in binary mode.\n",
    "\n",
    "with open(file_path, 'rb') as file:\n",
    "    content = file.read()\n",
    "    print(content)\n",
    "    print(type(content))\n",
    "    print(content.decode())\n",
    "    print(type(content.decode()))\n",
    "    print(content.decode().split())\n",
    "    print(type(content.decode().split()))\n",
    "    print(content.decode().split()[0])\n",
    "    print(type(content.decode().split()[0]))\n",
    "\n",
    "\n",
    "\n",
    "# # Check if the file is writable\n",
    "if os.access(file_path, os.W_OK):\n",
    "    with open(file_path, 'w') as file:\n",
    "        file.write(\"Hello, World!\")\n",
    "else:\n",
    "    print(\"File is not writable.\")"
   ]
  },
  {
   "cell_type": "code",
   "execution_count": null,
   "metadata": {},
   "outputs": [],
   "source": [
    "import os\n",
    "path = \"B:\\example1.txt\"\n",
    "# Open a file for writing, create if it doesn't exist, and set permissions to 0o644\n",
    "fd = os.open(path, os.O_WRONLY | os.O_CREAT | os.O_TRUNC, 0o644) # '|' (bitwise OR) \n",
    "\n",
    "# Write content to the file\n",
    "os.write(fd, b\"Hello, World!\\n This is a test.\")\n",
    "os.write(fd, b\"CHECK AGAIN\")"
   ]
  },
  {
   "cell_type": "code",
   "execution_count": null,
   "metadata": {},
   "outputs": [],
   "source": [
    "import os\n",
    "\n",
    "# Get the list of entries in the current directory\n",
    "entries = os.listdir()\n",
    "\n",
    "file_path = \"P:\\PROJECT_python\\GIT\\File_organizations\\example1.txt\"\n",
    "\n",
    "# Print the entries\n",
    "for entry in entries:\n",
    "    print(entry)"
   ]
  },
  {
   "cell_type": "code",
   "execution_count": null,
   "metadata": {},
   "outputs": [],
   "source": [
    "import os\n",
    "\n",
    "# Get the current working directory\n",
    "current_directory = os.getcwd()\n",
    "print(\"Current Working Directory:\", current_directory)\n",
    "\n",
    "# Change the current working directory to a different path\n",
    "new_directory = r\"P:\\PROJECT_python\\GIT\\File_organizations\"  # Remove \"example1.txt\" from the path\n",
    "os.chdir(new_directory)\n",
    "\n",
    "# Get the updated current working directory\n",
    "updated_directory = os.getcwd()\n",
    "print(\"Updated Working Directory:\", updated_directory)\n"
   ]
  },
  {
   "cell_type": "code",
   "execution_count": null,
   "metadata": {},
   "outputs": [],
   "source": [
    "# path Manipulation\n",
    "import os\n",
    "\n",
    "# Join path components\n",
    "full_path = os.path.join(\"C:\\\\\", \"Users\", \"User\", \"Documents\", \"Doc1.docx\")\n",
    "print(\"Full Path:\", full_path)"
   ]
  },
  {
   "cell_type": "code",
   "execution_count": null,
   "metadata": {},
   "outputs": [],
   "source": [
    "# os.path.abspath(path)\n",
    "import os\n",
    "\n",
    "# Get absolute path\n",
    "absolute_path = os.path.abspath(\"file.txt\")\n",
    "print(\"Absolute Path:\", absolute_path)"
   ]
  },
  {
   "cell_type": "code",
   "execution_count": null,
   "metadata": {},
   "outputs": [],
   "source": [
    "# os_mod_win_os.path.exists(path)\n",
    "import os\n",
    "\n",
    "# Check if path exists\n",
    "path_exists = os.path.exists(\"file.txt\")\n",
    "print(\"Path Exists:\", path_exists)"
   ]
  },
  {
   "cell_type": "code",
   "execution_count": null,
   "metadata": {},
   "outputs": [],
   "source": [
    "# os.path.isdir(path)\n",
    "import os\n",
    "\n",
    "# Check if path is a directory\n",
    "is_directory = os.path.isdir(\"folder\")\n",
    "print(\"Is Directory:\", is_directory)"
   ]
  },
  {
   "cell_type": "code",
   "execution_count": null,
   "metadata": {},
   "outputs": [],
   "source": [
    "#make directory\n",
    "import os\n",
    "current_directory = os.getcwd()\n",
    "print(\"Current Working Directory:\", current_directory)\n",
    "new_directory = r\"P:\\PROJECT_python\\GIT\\File_organizations\"  # Remove \"example1.txt\" from the path\n",
    "os.chdir(new_directory)\n",
    "updated_directory = os.getcwd()\n",
    "print(\"Updated Working Directory:\", updated_directory)\n",
    "# Create a directory\n",
    "os.mkdir(\"new_directory1\")\n",
    "is_directory = os.path.isdir(\"new_directory1\")\n",
    "print(\"Is Directory:\", is_directory)"
   ]
  },
  {
   "cell_type": "code",
   "execution_count": null,
   "metadata": {},
   "outputs": [],
   "source": [
    "# create directories recursively\n",
    "# make folder-tree along with subfolders in it\n",
    "import os\n",
    "new_directory = r\"P:\\PROJECT_python\\GIT\\File_organizations\"  # Remove \"example1.txt\" from the path\n",
    "os.chdir(new_directory)\n",
    "updated_directory = os.getcwd()\n",
    "print(\"Updated Working Directory:\", updated_directory)\n",
    "# Create directories recursively\n",
    "os.makedirs(\"d1/b2/a3\")"
   ]
  },
  {
   "cell_type": "code",
   "execution_count": null,
   "metadata": {},
   "outputs": [],
   "source": [
    "# remove a file \n",
    "# os.remove(path) 1\n",
    "import os\n",
    "current_directory = os.getcwd()\n",
    "print(\"Current Working Directory:\", current_directory)\n",
    "new_directory = r\"P:\\PROJECT_python\\GIT\\File_organizations\"  # Remove \"example1.txt\" from the path\n",
    "os.chdir(new_directory)\n",
    "updated_directory = os.getcwd()\n",
    "# Remove a file\n",
    "# os.remove(\"file.txt\")\n"
   ]
  },
  {
   "cell_type": "code",
   "execution_count": null,
   "metadata": {},
   "outputs": [],
   "source": [
    "# code to make directories in a desired path\n",
    "import os\n",
    "directory_whoami = os.getcwd()\n",
    "print(\"Current Working Directory:\", directory_whoami)\n",
    "directory_operations = r\"P:\\GIT4BothOS_Lnx_win\\GIT\\File_organizations\"  # Remove \"example1.txt\" from the path\n",
    "os.chdir(directory_operations)\n",
    "directory_whoami = os.getcwd()\n",
    "print(\"Updated Working Directory:\", directory_whoami)\n",
    "# Create a directory\n",
    "os.mkdir(\"recursive\")\n",
    "# Create directories recursively\n",
    "os.makedirs(\"recursive/a1/b3/d1/b2/a3\")\n",
    "# Create another directory\n",
    "os.mkdir(\"add_remove\")\n",
    "add_remove_path = r\"P:\\GIT4BothOS_Lnx_win\\GIT\\File_organizations\\add_remove\"\n",
    "os.chdir(add_remove_path)\n",
    "directory_whoami = os.getcwd()\n",
    "print(\"Updated Working Directory after creating directories recursively and\\nadd remove directory :\", directory_whoami)"
   ]
  },
  {
   "cell_type": "code",
   "execution_count": null,
   "metadata": {},
   "outputs": [],
   "source": [
    "# code to make file in a desired path\n",
    "file_path = r\"P:\\GIT4BothOS_Lnx_win\\GIT\\File_organizations\\add_remove\\add_remove.txt\"\n",
    "fd1 =os.open(file_path,os.O_WRONLY | os.O_CREAT | os.O_TRUNC,0o777)\n",
    "os.write(fd1, b\"Please remove this file asap\")"
   ]
  },
  {
   "cell_type": "code",
   "execution_count": null,
   "metadata": {},
   "outputs": [],
   "source": [
    "# code to delete files in a desired path\n",
    "os.close(fd1)\n",
    "print(f\"current working directory, {os.getcwd()}\")\n",
    "# Remove a file\n",
    "os.remove(\"add_remove.txt\")"
   ]
  },
  {
   "cell_type": "code",
   "execution_count": null,
   "metadata": {},
   "outputs": [],
   "source": [
    "# code to delete directory in a desired path\n",
    "import os\n",
    "# check path\n",
    "directory_whoami = os.getcwd()\n",
    "print(\"Current Working Directory:\", directory_whoami)\n",
    "directory_operations = r\"P:\\GIT4BothOS_Lnx_win\\GIT\\File_organizations\\add_remove\"  # Remove \"example1.txt\" from the path\n",
    "os.chdir(directory_operations)\n",
    "directory_whoami = os.getcwd()\n",
    "print(\"Updated Working Directory:\", directory_whoami)\n",
    "\n",
    "# Remove a directory\n",
    "try:\n",
    "    os.rmdir(\"New folder\")\n",
    "    print(\"Directory removed successfully\")\n",
    "except OSError as e:\n",
    "    print(f\"Error: {e}\")"
   ]
  },
  {
   "cell_type": "code",
   "execution_count": null,
   "metadata": {},
   "outputs": [],
   "source": [
    "# code to delete directories in a desired path\n",
    "\n",
    "import os\n",
    "# check path\n",
    "directory_whoami = os.getcwd()\n",
    "print(\"Current Working Directory:\", directory_whoami)\n",
    "directory_operations = r\"P:\\GIT4BothOS_Lnx_win\\GIT\\File_organizations\\add_remove\"  # Remove \"example1.txt\" from the path\n",
    "os.chdir(directory_operations)\n",
    "directory_whoami = os.getcwd()\n",
    "print(\"Updated Working Directory:\", directory_whoami)\n",
    "\n",
    "# Remove directories recursively\n",
    "try:\n",
    "    os.removedirs(r\"New folder_2\\New folder_3\\New folder_3_2\\New folder_3_3\")\n",
    "    print(\"Directories removed successfully\")\n",
    "except OSError as error:\n",
    "    print(\"Error removing directories:\", error)"
   ]
  },
  {
   "cell_type": "code",
   "execution_count": null,
   "metadata": {},
   "outputs": [],
   "source": [
    "import os\n",
    "directory_operations = r\"P:\\GIT4BothOS_Lnx_win\\GIT\\File_organizations\"  # Remove \"example1.txt\" from the path\n",
    "os.chdir(directory_operations)\n",
    "directory_whoami = os.getcwd()\n",
    "print(\"Updated Working Directory:\", directory_whoami)"
   ]
  },
  {
   "cell_type": "code",
   "execution_count": null,
   "metadata": {},
   "outputs": [],
   "source": [
    "# RENAME A FILE IN PYTHON\n",
    "import os\n",
    "\n",
    "old_name = \"sample.txt\"\n",
    "new_name = \"sample2.txt\"\n",
    "with open(old_name) as f:\n",
    "    content = f.read()\n",
    "    with open(new_name, \"w\") as f:\n",
    "        f.write(content)\n",
    "        os.remove(old_name)\n",
    "        print(\"File renamed successfully!\")"
   ]
  },
  {
   "cell_type": "code",
   "execution_count": null,
   "metadata": {},
   "outputs": [],
   "source": [
    "import os\n",
    "\n",
    "# Current name of the directory\n",
    "src_dir = \"old_directory\"\n",
    "\n",
    "# New name for the directory\n",
    "dst_dir = \"new_directory\"\n",
    "\n",
    "# Rename the directory\n",
    "os.rename(src_dir, dst_dir)\n"
   ]
  },
  {
   "cell_type": "code",
   "execution_count": null,
   "metadata": {},
   "outputs": [],
   "source": [
    "import os\n",
    "\n",
    "# Current name of the file\n",
    "src_file = \"OLD GOLD.txt\"\n",
    "\n",
    "# New name for the file\n",
    "dst_file = \"NEW BREW.txt\"\n",
    "\n",
    "# Rename the file\n",
    "os.rename(src_file, dst_file)"
   ]
  },
  {
   "cell_type": "code",
   "execution_count": null,
   "metadata": {},
   "outputs": [],
   "source": [
    "# Example 2: Rename a Directory\n",
    "import os\n",
    "\n",
    "# Current name of the directory\n",
    "src_dir = \"New folder\"\n",
    "\n",
    "# New name for the directory\n",
    "dst_dir = \"Old Folder\"\n",
    "\n",
    "# Rename the directory\n",
    "os.rename(src_dir, dst_dir)"
   ]
  },
  {
   "cell_type": "code",
   "execution_count": null,
   "metadata": {},
   "outputs": [],
   "source": [
    "#  Handling Errors with os.rename(f_old_name,f_new_name)\n",
    "import os\n",
    "\n",
    "try:\n",
    "    # Attempt to rename a non-existing file\n",
    "    os.rename(\"non_existing_file.txt\", \"new_name.txt\")\n",
    "except FileNotFoundError:\n",
    "    print(\"File not found.\")\n",
    "except Exception as e:\n",
    "    print(f\"An unexpected error occurred: {e}\")"
   ]
  },
  {
   "cell_type": "code",
   "execution_count": null,
   "metadata": {},
   "outputs": [],
   "source": [
    "import os\n",
    "\n",
    "# Current path of the file\n",
    "src_path = r\"P:\\GIT4BothOS_Lnx_win\\GIT\\File_organizations\\NEW BREW.txt\"\n",
    "\n",
    "# New path for the file\n",
    "dst_path = r\"P:\\GIT4BothOS_Lnx_win\\GIT\\File_organizations\\old BREW.txt\"\n",
    "\n",
    "# Rename the file with path\n",
    "os.rename(src_path, dst_path)\n"
   ]
  },
  {
   "cell_type": "code",
   "execution_count": 1,
   "metadata": {},
   "outputs": [
    {
     "name": "stdout",
     "output_type": "stream",
     "text": [
      "All Environment Variables: environ({'ALLUSERSPROFILE': 'C:\\\\ProgramData', 'APPDATA': 'C:\\\\Users\\\\biswa\\\\AppData\\\\Roaming', 'CHROME_CRASHPAD_PIPE_NAME': '\\\\\\\\.\\\\pipe\\\\crashpad_10956_SPJVOPPRCDONGLCR', 'COMMONPROGRAMFILES': 'C:\\\\Program Files\\\\Common Files', 'COMMONPROGRAMFILES(X86)': 'C:\\\\Program Files (x86)\\\\Common Files', 'COMMONPROGRAMW6432': 'C:\\\\Program Files\\\\Common Files', 'COMPUTERNAME': 'DESKTOP-12Q1DTN', 'COMSPEC': 'C:\\\\Windows\\\\system32\\\\cmd.exe', 'DRIVERDATA': 'C:\\\\Windows\\\\System32\\\\Drivers\\\\DriverData', 'ELECTRON_RUN_AS_NODE': '1', 'FPS_BROWSER_APP_PROFILE_STRING': 'Internet Explorer', 'FPS_BROWSER_USER_PROFILE_STRING': 'Default', 'HOMEDRIVE': 'C:', 'HOMEPATH': '\\\\Users\\\\biswa', 'JPY_INTERRUPT_EVENT': '2540', 'LOCALAPPDATA': 'C:\\\\Users\\\\biswa\\\\AppData\\\\Local', 'LOGONSERVER': '\\\\\\\\DESKTOP-12Q1DTN', 'NUMBER_OF_PROCESSORS': '4', 'ONEDRIVE': 'C:\\\\Users\\\\biswa\\\\OneDrive', 'ONEDRIVECONSUMER': 'C:\\\\Users\\\\biswa\\\\OneDrive', 'ORIGINAL_XDG_CURRENT_DESKTOP': 'undefined', 'OS': 'Windows_NT', 'PATH': 'p:\\\\Python310;c:\\\\Users\\\\biswa\\\\AppData\\\\Roaming\\\\Python\\\\Python310\\\\Scripts;P:\\\\Python310\\\\Scripts\\\\;P:\\\\Python310\\\\;C:\\\\Windows\\\\system32;C:\\\\Windows;C:\\\\Windows\\\\System32\\\\Wbem;C:\\\\Windows\\\\System32\\\\WindowsPowerShell\\\\v1.0\\\\;C:\\\\Windows\\\\System32\\\\OpenSSH\\\\;C:\\\\Program Files (x86)\\\\Gpg4win\\\\..\\\\GnuPG\\\\bin;C:\\\\Program Files\\\\Git\\\\cmd;C:\\\\Program Files\\\\Microsoft VS Code\\\\bin;P:\\\\anaconda3;P:\\\\anaconda3\\\\Library\\\\mingw-w64\\\\bin;P:\\\\anaconda3\\\\Library\\\\usr\\\\bin;P:\\\\anaconda3\\\\Library\\\\bin;P:\\\\anaconda3\\\\Scripts;C:\\\\Users\\\\biswa\\\\AppData\\\\Local\\\\Microsoft\\\\WindowsApps;P:\\\\PyCharmComm\\\\PyCharm Community Edition 2022.2.1\\\\bin;;C:\\\\Users\\\\biswa\\\\AppData\\\\Local\\\\GitHubDesktop\\\\bin;P:\\\\Python310\\\\Scripts\\\\;P:\\\\Python310\\\\;C:\\\\Windows\\\\system32;C:\\\\Windows;C:\\\\Windows\\\\System32\\\\Wbem;C:\\\\Windows\\\\System32\\\\WindowsPowerShell\\\\v1.0\\\\;C:\\\\Windows\\\\System32\\\\OpenSSH\\\\;C:\\\\Program Files (x86)\\\\Gpg4win\\\\..\\\\GnuPG\\\\bin;C:\\\\Program Files\\\\Git\\\\cmd;C:\\\\Program Files\\\\Microsoft VS Code\\\\bin;P:\\\\anaconda3;P:\\\\anaconda3\\\\Library\\\\mingw-w64\\\\bin;P:\\\\anaconda3\\\\Library\\\\usr\\\\bin;P:\\\\anaconda3\\\\Library\\\\bin;P:\\\\anaconda3\\\\Scripts;C:\\\\Users\\\\biswa\\\\AppData\\\\Local\\\\Microsoft\\\\WindowsApps;P:\\\\PyCharmComm\\\\PyCharm Community Edition 2022.2.1\\\\bin;;C:\\\\Users\\\\biswa\\\\AppData\\\\Local\\\\GitHubDesktop\\\\bin', 'PATHEXT': '.COM;.EXE;.BAT;.CMD;.VBS;.VBE;.JS;.JSE;.WSF;.WSH;.MSC;.PY;.PYW', 'PROCESSOR_ARCHITECTURE': 'AMD64', 'PROCESSOR_IDENTIFIER': 'Intel64 Family 6 Model 78 Stepping 3, GenuineIntel', 'PROCESSOR_LEVEL': '6', 'PROCESSOR_REVISION': '4e03', 'PROGRAMDATA': 'C:\\\\ProgramData', 'PROGRAMFILES': 'C:\\\\Program Files', 'PROGRAMFILES(X86)': 'C:\\\\Program Files (x86)', 'PROGRAMW6432': 'C:\\\\Program Files', 'PSMODULEPATH': 'C:\\\\Program Files\\\\WindowsPowerShell\\\\Modules;C:\\\\Windows\\\\system32\\\\WindowsPowerShell\\\\v1.0\\\\Modules', 'PUBLIC': 'C:\\\\Users\\\\Public', 'PYCHARM COMMUNITY EDITION': 'P:\\\\PyCharmComm\\\\PyCharm Community Edition 2022.2.1\\\\bin;', 'PYDEVD_IPYTHON_COMPATIBLE_DEBUGGING': '1', 'PYTHONIOENCODING': 'utf-8', 'PYTHONUNBUFFERED': '1', 'SESSIONNAME': 'Console', 'SYSTEMDRIVE': 'C:', 'SYSTEMROOT': 'C:\\\\Windows', 'TEMP': 'C:\\\\Users\\\\biswa\\\\AppData\\\\Local\\\\Temp', 'TMP': 'C:\\\\Users\\\\biswa\\\\AppData\\\\Local\\\\Temp', 'USERDOMAIN': 'DESKTOP-12Q1DTN', 'USERDOMAIN_ROAMINGPROFILE': 'DESKTOP-12Q1DTN', 'USERNAME': 'biswa', 'USERPROFILE': 'C:\\\\Users\\\\biswa', 'VSCODE_AMD_ENTRYPOINT': 'vs/workbench/api/node/extensionHostProcess', 'VSCODE_CODE_CACHE_PATH': 'C:\\\\Users\\\\biswa\\\\AppData\\\\Roaming\\\\Code\\\\CachedData\\\\31c37ee8f63491495ac49e43b8544550fbae4533', 'VSCODE_CRASH_REPORTER_PROCESS_TYPE': 'extensionHost', 'VSCODE_CWD': 'C:\\\\Program Files\\\\Microsoft VS Code', 'VSCODE_HANDLES_UNCAUGHT_ERRORS': 'true', 'VSCODE_IPC_HOOK': '\\\\\\\\.\\\\pipe\\\\b726c80e-1.86.1-main-sock', 'VSCODE_L10N_BUNDLE_LOCATION': '', 'VSCODE_NLS_CONFIG': '{\"locale\":\"en-us\",\"osLocale\":\"en-in\",\"availableLanguages\":{},\"_languagePackSupport\":true}', 'VSCODE_PID': '10956', 'WINDIR': 'C:\\\\Windows', 'ZES_ENABLE_SYSMAN': '1', 'TERM': 'xterm-color', 'CLICOLOR': '1', 'PAGER': 'cat', 'GIT_PAGER': 'cat', 'MPLBACKEND': 'module://matplotlib_inline.backend_inline'})\n"
     ]
    }
   ],
   "source": [
    "# >Environment Variables: os.environ\n",
    "\n",
    "import os\n",
    "\n",
    "# Access all environment variables\n",
    "all_env_vars = os.environ\n",
    "print(\"All Environment Variables:\", all_env_vars)"
   ]
  },
  {
   "cell_type": "code",
   "execution_count": 1,
   "metadata": {},
   "outputs": [
    {
     "name": "stdout",
     "output_type": "stream",
     "text": [
      "Home Directory: Unknown\n"
     ]
    }
   ],
   "source": [
    "# os.getenv(key, default=None)\n",
    "import os\n",
    "\n",
    "# Get the value of the \"HOME\" environment variable\n",
    "home_directory = os.getenv(\"HOME\", default=\"Unknown\")\n",
    "print(\"Home Directory:\", home_directory)"
   ]
  },
  {
   "cell_type": "code",
   "execution_count": null,
   "metadata": {},
   "outputs": [],
   "source": [
    "# os.system()\n",
    "import os\n",
    "\n",
    "# Execute a simple command to print the current working directory\n",
    "os.system(\"echo %cd%\")"
   ]
  },
  {
   "cell_type": "code",
   "execution_count": 1,
   "metadata": {},
   "outputs": [
    {
     "name": "stdout",
     "output_type": "stream",
     "text": [
      "Process ID: 2648\n"
     ]
    }
   ],
   "source": [
    "# os.getpid()\n",
    "import os\n",
    "\n",
    "# Get the process ID of the current process\n",
    "process_id = os.getpid()\n",
    "print(\"Process ID:\", process_id)"
   ]
  }
 ],
 "metadata": {
  "kernelspec": {
   "display_name": "Python 3",
   "language": "python",
   "name": "python3"
  },
  "language_info": {
   "codemirror_mode": {
    "name": "ipython",
    "version": 3
   },
   "file_extension": ".py",
   "mimetype": "text/x-python",
   "name": "python",
   "nbconvert_exporter": "python",
   "pygments_lexer": "ipython3",
   "version": "3.10.5"
  }
 },
 "nbformat": 4,
 "nbformat_minor": 2
}
