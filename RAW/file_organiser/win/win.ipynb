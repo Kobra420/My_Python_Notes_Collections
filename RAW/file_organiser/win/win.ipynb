{
 "cells": [
  {
   "cell_type": "code",
   "execution_count": null,
   "metadata": {},
   "outputs": [],
   "source": [
    "import os\n",
    "import shutil\n",
    "import re\n",
    "\n",
    "def organize_files(source_folder):\n",
    "    # List all files in the source folder\n",
    "    files = os.listdir(source_folder)\n",
    "\n",
    "    # Define a regex pattern for extracting relevant portions of file names\n",
    "    pattern = re.compile(r'[a-zA-Z]+')\n",
    "\n",
    "    for file in files:\n",
    "        # Apply the regex pattern to extract the key part of the file name\n",
    "        match = pattern.match(file)\n",
    "        if match:\n",
    "            key = match.group().lower()  # Convert to lowercase for case-insensitivity\n",
    "\n",
    "            # Create a subfolder if it doesn't exist\n",
    "            subfolder_path = os.path.join(source_folder, key)\n",
    "            if not os.path.exists(subfolder_path):\n",
    "                os.makedirs(subfolder_path)\n",
    "\n",
    "            # Move the file to the appropriate subfolder\n",
    "            shutil.move(os.path.join(source_folder, file), os.path.join(subfolder_path, file))\n",
    "\n",
    "    print(\"Files organized successfully!\")\n",
    "\n",
    "# Replace 'your/source/folder/path' with the actual path of your source folder\n",
    "organize_files('your/source/folder/path')\n"
   ]
  },
  {
   "cell_type": "code",
   "execution_count": null,
   "metadata": {},
   "outputs": [],
   "source": [
    "import os\n",
    "import shutil\n",
    "import re\n",
    "\n",
    "def organize_files(source_folder):\n",
    "    # List all files in the source folder\n",
    "    files = os.listdir(source_folder)\n",
    "\n",
    "print(files(E:\\YT2024\\BHARAT))\n"
   ]
  }
 ],
 "metadata": {
  "kernelspec": {
   "display_name": "Python 3",
   "language": "python",
   "name": "python3"
  },
  "language_info": {
   "name": "python",
   "version": "3.10.5"
  }
 },
 "nbformat": 4,
 "nbformat_minor": 2
}
