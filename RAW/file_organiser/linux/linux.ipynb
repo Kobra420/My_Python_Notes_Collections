{
 "cells": [
  {
   "cell_type": "code",
   "execution_count": null,
   "metadata": {},
   "outputs": [],
   "source": [
    "import os\n",
    "\n",
    "def get_file_size(file_path):\n",
    "    return os.path.getsize(file_path)\n",
    "\n",
    "def get_directory_size(directory_path):\n",
    "    total_size = 0\n",
    "    for dirpath, dirnames, filenames in os.walk(directory_path):\n",
    "        for filename in filenames:\n",
    "            file_path = os.path.join(dirpath, filename)\n",
    "            total_size += get_file_size(file_path)\n",
    "\n",
    "    return total_size\n",
    "\n",
    "def print_file_and_directory_sizes(directory_path):\n",
    "    for dirpath, dirnames, filenames in os.walk(directory_path):\n",
    "        for filename in filenames:\n",
    "            file_path = os.path.join(dirpath, filename)\n",
    "            size = get_file_size(file_path)\n",
    "            print(f\"File: {file_path}, Size: {size} bytes\")\n",
    "\n",
    "    total_directory_size = get_directory_size(directory_path)\n",
    "    print(f\"\\nTotal Size of Subdirectories: {total_directory_size} bytes\")\n",
    "\n",
    "# Replace 'your/directory/path' with the actual path of your directory\n",
    "print_file_and_directory_sizes('your/directory/path')\n"
   ]
  },
  {
   "cell_type": "code",
   "execution_count": null,
   "metadata": {},
   "outputs": [],
   "source": [
    "import os\n",
    "\n",
    "def get_file_size(file_path):\n",
    "    return os.path.getsize(file_path)\n",
    "\n",
    "def print_file_sizes(directory_path):\n",
    "    for dirpath, dirnames, filenames in os.walk(directory_path):\n",
    "        for filename in filenames:\n",
    "            file_path = os.path.join(dirpath, filename)\n",
    "            size = get_file_size(file_path)\n",
    "            print(f\"File: {file_path}, Size: {size} bytes\")\n",
    "\n",
    "# /media/cyborg23/experiments/YT2024/BHARAT\n",
    "print_file_sizes(r'/media/cyborg23/experiments/YT2024/BHARAT')"
   ]
  }
 ],
 "metadata": {
  "kernelspec": {
   "display_name": "Python 3",
   "language": "python",
   "name": "python3"
  },
  "language_info": {
   "codemirror_mode": {
    "name": "ipython",
    "version": 3
   },
   "file_extension": ".py",
   "mimetype": "text/x-python",
   "name": "python",
   "nbconvert_exporter": "python",
   "pygments_lexer": "ipython3",
   "version": "3.11.7"
  }
 },
 "nbformat": 4,
 "nbformat_minor": 2
}
