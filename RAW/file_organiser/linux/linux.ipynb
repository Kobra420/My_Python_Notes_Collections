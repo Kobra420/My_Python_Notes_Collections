{
 "cells": [
  {
   "cell_type": "code",
   "execution_count": null,
   "metadata": {},
   "outputs": [],
   "source": [
    "import os\n",
    "\n",
    "def get_file_size(file_path):\n",
    "    return os.path.getsize(file_path)\n",
    "\n",
    "def get_directory_size(directory_path):\n",
    "    total_size = 0\n",
    "    for dirpath, dirnames, filenames in os.walk(directory_path):\n",
    "        for filename in filenames:\n",
    "            file_path = os.path.join(dirpath, filename)\n",
    "            total_size += get_file_size(file_path)\n",
    "\n",
    "    return total_size\n",
    "\n",
    "def print_file_and_directory_sizes(directory_path):\n",
    "    for dirpath, dirnames, filenames in os.walk(directory_path):\n",
    "        for filename in filenames:\n",
    "            file_path = os.path.join(dirpath, filename)\n",
    "            size = get_file_size(file_path)\n",
    "            print(f\"File: {file_path}, Size: {size} bytes\")\n",
    "\n",
    "    total_directory_size = get_directory_size(directory_path)\n",
    "    print(f\"\\nTotal Size of Subdirectories: {total_directory_size} bytes\")\n",
    "\n",
    "# Replace 'your/directory/path' with the actual path of your directory\n",
    "print_file_and_directory_sizes('your/directory/path')\n"
   ]
  },
  {
   "cell_type": "code",
   "execution_count": null,
   "metadata": {},
   "outputs": [],
   "source": [
    "import os\n",
    "\n",
    "def get_file_size(file_path):\n",
    "    return os.path.getsize(file_path)\n",
    "\n",
    "def print_file_sizes(directory_path):\n",
    "    for dirpath, dirnames, filenames in os.walk(directory_path):\n",
    "        for filename in filenames:\n",
    "            file_path = os.path.join(dirpath, filename)\n",
    "            size = get_file_size(file_path)\n",
    "            print(f\"File: {file_path}, Size: {size} bytes\")\n",
    "\n",
    "# /media/cyborg23/experiments/YT2024/BHARAT\n",
    "print_file_sizes(r'/media/cyborg23/experiments_E/YT2024/BHARAT')"
   ]
  },
  {
   "cell_type": "code",
   "execution_count": null,
   "metadata": {},
   "outputs": [],
   "source": [
    "import os\n",
    "import subprocess\n",
    "\n",
    "def get_file_size(file_path):\n",
    "    return os.path.getsize(file_path)\n",
    "\n",
    "def print_file_sizes(directory_path, output_file_path):\n",
    "    # Use the touch command to create the output file\n",
    "    subprocess.run(['touch', output_file_path])\n",
    "\n",
    "    with open(output_file_path, 'w') as output_file:\n",
    "        for dirpath, dirnames, filenames in os.walk(directory_path):\n",
    "            for filename in filenames:\n",
    "                file_path = os.path.join(dirpath, filename)\n",
    "                size = get_file_size(file_path)\n",
    "                output_file.write(f\"File: {file_path}, Size: {size} bytes\\n\")\n",
    "\n",
    "# Replace '/your/directory/path' with the actual path of your directory\n",
    "directory_path = '/your/directory/path'\n",
    "\n",
    "# Replace '/desired/output/file/path/output.txt' with your desired output file path\n",
    "output_file_path = '/desired/output/file/path/output.txt'\n",
    "\n",
    "print_file_sizes(directory_path, output_file_path)\n"
   ]
  },
  {
   "cell_type": "code",
   "execution_count": null,
   "metadata": {},
   "outputs": [],
   "source": [
    "#TODO  "
   ]
  },
  {
   "cell_type": "code",
   "execution_count": null,
   "metadata": {},
   "outputs": [],
   "source": [
    "#TODO  "
   ]
  },
  {
   "cell_type": "code",
   "execution_count": null,
   "metadata": {},
   "outputs": [],
   "source": [
    "#TODO  "
   ]
  },
  {
   "cell_type": "code",
   "execution_count": null,
   "metadata": {},
   "outputs": [],
   "source": [
    "#TODO  "
   ]
  }
 ],
 "metadata": {
  "kernelspec": {
   "display_name": "Python 3",
   "language": "python",
   "name": "python3"
  },
  "language_info": {
   "codemirror_mode": {
    "name": "ipython",
    "version": 3
   },
   "file_extension": ".py",
   "mimetype": "text/x-python",
   "name": "python",
   "nbconvert_exporter": "python",
   "pygments_lexer": "ipython3",
   "version": "3.11.7"
  }
 },
 "nbformat": 4,
 "nbformat_minor": 2
}
