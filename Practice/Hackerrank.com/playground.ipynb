{
 "cells": [
  {
   "cell_type": "code",
   "execution_count": null,
   "metadata": {},
   "outputs": [],
   "source": [
    "# list\n",
    "N = int(input())\n",
    "list_test = []\n",
    "for N in range(1,N):\n",
    "    list_test.append(N)\n",
    "arr =[]\n",
    "for i in list_test:\n",
    "    num = i\n",
    "    arr.append(num)\n",
    "    print(f\"append 1:Append {i} to the list, arr = {arr}\")"
   ]
  },
  {
   "cell_type": "code",
   "execution_count": null,
   "metadata": {},
   "outputs": [],
   "source": [
    "N = int(input())\n",
    "L = []\n",
    "for i in range(N):\n",
    "    command = input().split()\n",
    "    if command[0] == 'print':\n",
    "        print(L)\n",
    "    elif command[0] == 'append':\n",
    "        L.append(int(command[1]))\n",
    "        print(L)\n",
    "    elif command[0] == 'insert':\n",
    "        L.insert(int(command[1]), int(command[2]))\n",
    "        print(L)\n",
    "    elif command[0] == 'remove':\n",
    "        L.remove(int(command[1]))\n",
    "        print(L)\n",
    "    elif command[0] == 'reverse':\n",
    "        L.reverse()\n",
    "        print(L)\n",
    "    elif command[0] == 'sort':\n",
    "        L.sort()\n",
    "        print(L)\n",
    "    elif command[0] == 'pop':\n",
    "        L.pop()\n",
    "        print(L)"
   ]
  },
  {
   "cell_type": "code",
   "execution_count": 1,
   "metadata": {},
   "outputs": [
    {
     "name": "stdout",
     "output_type": "stream",
     "text": [
      "Hello bipra  Das! You just delved into python.\n"
     ]
    }
   ],
   "source": [
    "def print_full_name(first, last):\n",
    "    print(f'Hello {first} {last}! You just delved into python.')\n",
    "\n",
    "\n",
    "first_name = input(\"first name\")\n",
    "last_name = input(\"last name\")\n",
    "print_full_name(first_name, last_name)"
   ]
  },
  {
   "cell_type": "code",
   "execution_count": 1,
   "metadata": {},
   "outputs": [
    {
     "name": "stdout",
     "output_type": "stream",
     "text": [
      "abracaKabra\n"
     ]
    }
   ],
   "source": [
    "# string mutation\n",
    "def mutate_string(string, position, character):\n",
    "    return string[:position] + character + string[position+1:]\n",
    "    # return string.replace(string[position], character)\n",
    "    # Test cases\n",
    "    \n",
    "\n",
    "# s = input()\n",
    "# i, c = input().split()\n",
    "s = \"abracadabra\"\n",
    "c = \"K\"\n",
    "i = 6\n",
    "s_new = mutate_string(s, int(i), c)\n",
    "print(s_new)"
   ]
  }
 ],
 "metadata": {
  "kernelspec": {
   "display_name": "Python 3",
   "language": "python",
   "name": "python3"
  },
  "language_info": {
   "codemirror_mode": {
    "name": "ipython",
    "version": 3
   },
   "file_extension": ".py",
   "mimetype": "text/x-python",
   "name": "python",
   "nbconvert_exporter": "python",
   "pygments_lexer": "ipython3",
   "version": "3.10.12"
  }
 },
 "nbformat": 4,
 "nbformat_minor": 2
}
