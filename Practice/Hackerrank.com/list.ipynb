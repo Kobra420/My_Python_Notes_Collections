{
 "cells": [
  {
   "cell_type": "code",
   "execution_count": 3,
   "metadata": {},
   "outputs": [
    {
     "name": "stdout",
     "output_type": "stream",
     "text": [
      "[1, 2, 3]\n"
     ]
    }
   ],
   "source": [
    "# list\n",
    "N = int(input())\n",
    "list_test = []\n",
    "for N in range(1,N):\n",
    "    list_test.append(N)\n",
    "arr =[]\n",
    "for i in list_test:\n",
    "    num = i\n",
    "    arr.append(num)\n",
    "    print(f\"append 1:Append {i} to the list, arr = {arr}\")"
   ]
  },
  {
   "cell_type": "code",
   "execution_count": 11,
   "metadata": {},
   "outputs": [],
   "source": [
    "N = int(input())\n",
    "L = []\n",
    "for i in range(N):\n",
    "    command = input().split()\n",
    "    if command[0] == 'print':\n",
    "        print(L)\n",
    "    elif command[0] == 'append':\n",
    "        L.append(int(command[1]))\n",
    "        print(L)\n",
    "    elif command[0] == 'insert':\n",
    "        L.insert(int(command[1]), int(command[2]))\n",
    "        print(L)\n",
    "    elif command[0] == 'remove':\n",
    "        L.remove(int(command[1]))\n",
    "        print(L)\n",
    "    elif command[0] == 'reverse':\n",
    "        L.reverse()\n",
    "        print(L)\n",
    "    elif command[0] == 'sort':\n",
    "        L.sort()\n",
    "        print(L)\n",
    "    elif command[0] == 'pop':\n",
    "        L.pop()\n",
    "        print(L)"
   ]
  }
 ],
 "metadata": {
  "kernelspec": {
   "display_name": "Python 3",
   "language": "python",
   "name": "python3"
  },
  "language_info": {
   "codemirror_mode": {
    "name": "ipython",
    "version": 3
   },
   "file_extension": ".py",
   "mimetype": "text/x-python",
   "name": "python",
   "nbconvert_exporter": "python",
   "pygments_lexer": "ipython3",
   "version": "3.11.7"
  }
 },
 "nbformat": 4,
 "nbformat_minor": 2
}
