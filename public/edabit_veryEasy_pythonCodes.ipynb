{
 "cells": [
  {
   "cell_type": "code",
   "execution_count": null,
   "metadata": {},
   "outputs": [],
   "source": [
    "# function of sum of two numbers\n",
    "def addition(a, b):\n",
    "    return a + b\n",
    "assert(addition(2,3), 5)\n",
    "assert(addition(-3,-6), -9)\n",
    "assert(addition(7,3), 10)"
   ]
  },
  {
   "cell_type": "code",
   "execution_count": null,
   "metadata": {},
   "outputs": [],
   "source": [
    "# Convert minutes into seconds\n",
    "def convert(minutes):\n",
    "\treturn minutes * 60\n",
    "\n",
    "assert(convert(6), 360)\n",
    "assert(convert(4), 240)\n",
    "assert(convert(8), 480)\n",
    "assert(convert(60), 3600)"
   ]
  },
  {
   "cell_type": "code",
   "execution_count": null,
   "metadata": {},
   "outputs": [],
   "source": [
    "# Convert Hours into Seconds"
   ]
  }
 ],
 "metadata": {
  "kernelspec": {
   "display_name": "Python 3",
   "language": "python",
   "name": "python3"
  },
  "language_info": {
   "codemirror_mode": {
    "name": "ipython",
    "version": 3
   },
   "file_extension": ".py",
   "mimetype": "text/x-python",
   "name": "python",
   "nbconvert_exporter": "python",
   "pygments_lexer": "ipython3",
   "version": "3.10.5"
  }
 },
 "nbformat": 4,
 "nbformat_minor": 2
}
