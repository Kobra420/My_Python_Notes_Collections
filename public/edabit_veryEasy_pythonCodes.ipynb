{
 "cells": [
  {
   "cell_type": "code",
   "execution_count": 1,
   "metadata": {},
   "outputs": [
    {
     "name": "stderr",
     "output_type": "stream",
     "text": [
      "<>:4: SyntaxWarning: assertion is always true, perhaps remove parentheses?\n",
      "<>:5: SyntaxWarning: assertion is always true, perhaps remove parentheses?\n",
      "<>:6: SyntaxWarning: assertion is always true, perhaps remove parentheses?\n",
      "<>:4: SyntaxWarning: assertion is always true, perhaps remove parentheses?\n",
      "<>:5: SyntaxWarning: assertion is always true, perhaps remove parentheses?\n",
      "<>:6: SyntaxWarning: assertion is always true, perhaps remove parentheses?\n",
      "C:\\Users\\biswa\\AppData\\Local\\Temp\\ipykernel_6416\\1336761287.py:4: SyntaxWarning: assertion is always true, perhaps remove parentheses?\n",
      "  assert(addition(2,3), 5)\n",
      "C:\\Users\\biswa\\AppData\\Local\\Temp\\ipykernel_6416\\1336761287.py:5: SyntaxWarning: assertion is always true, perhaps remove parentheses?\n",
      "  assert(addition(-3,-6), -9)\n",
      "C:\\Users\\biswa\\AppData\\Local\\Temp\\ipykernel_6416\\1336761287.py:6: SyntaxWarning: assertion is always true, perhaps remove parentheses?\n",
      "  assert(addition(7,3), 10)\n"
     ]
    }
   ],
   "source": [
    "#\n",
    "def addition(a, b):\n",
    "    return a + b\n",
    "assert(addition(2,3), 5)\n",
    "assert(addition(-3,-6), -9)\n",
    "assert(addition(7,3), 10)"
   ]
  }
 ],
 "metadata": {
  "kernelspec": {
   "display_name": "Python 3",
   "language": "python",
   "name": "python3"
  },
  "language_info": {
   "codemirror_mode": {
    "name": "ipython",
    "version": 3
   },
   "file_extension": ".py",
   "mimetype": "text/x-python",
   "name": "python",
   "nbconvert_exporter": "python",
   "pygments_lexer": "ipython3",
   "version": "3.10.5"
  }
 },
 "nbformat": 4,
 "nbformat_minor": 2
}
