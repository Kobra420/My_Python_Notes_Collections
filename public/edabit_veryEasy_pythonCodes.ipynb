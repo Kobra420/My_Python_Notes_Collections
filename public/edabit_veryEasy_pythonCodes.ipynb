{
 "cells": [
  {
   "cell_type": "code",
   "execution_count": null,
   "metadata": {},
   "outputs": [],
   "source": [
    "# function of sum of two numbers\n",
    "def addition(a, b):\n",
    "    return a + b\n",
    "assert(addition(2,3), 5)\n",
    "assert(addition(-3,-6), -9)\n",
    "assert(addition(7,3), 10)\n",
    "# print(f\"\")"
   ]
  },
  {
   "cell_type": "code",
   "execution_count": null,
   "metadata": {},
   "outputs": [],
   "source": [
    "# Convert minutes into seconds\n",
    "def convert(minutes):\n",
    "\treturn minutes * 60\n",
    "\n",
    "try:\n",
    "    assert(convert(6), 360)\n",
    "    assert(convert(4), 240)\n",
    "    assert(convert(8), 480)\n",
    "    assert(convert(60), 3600)\n",
    "except SyntaxWarning:\n",
    "    print(\" remove parentheses \")    "
   ]
  },
  {
   "cell_type": "code",
   "execution_count": null,
   "metadata": {},
   "outputs": [],
   "source": [
    "# Convert Hours into Seconds\n",
    "\n",
    "def how_many_seconds(hours):\n",
    "\treturn hours * 3600\n",
    "try:\n",
    "    assert how_many_seconds(2), 7200\n",
    "    assert how_many_seconds(10), 36000\n",
    "    assert how_many_seconds(24), 86400\n",
    "    assert how_many_seconds(36), 129600\n",
    "    assert how_many_seconds(48), 172800\n",
    "\n",
    "except SyntaxWarning:\n",
    "    print(\"remove parentheses? \")\n",
    "\n"
   ]
  },
  {
   "cell_type": "code",
   "execution_count": null,
   "metadata": {},
   "outputs": [],
   "source": [
    "#Area of a Triangle\n",
    "def tri_area(base, height):\n",
    "\treturn (base * height) / 2\n",
    "\n",
    "try:\n",
    "    assert tri_area(3, 2), 3\n",
    "    assert tri_area(5, 4), 10\n",
    "    assert tri_area(10, 10), 50\n",
    "    assert tri_area(0, 60) == 0\n",
    "    assert tri_area(12, 11), 66\n",
    "\n",
    "except SyntaxWarning and 0:\n",
    "    print(\"remove parentheses? \")"
   ]
  },
  {
   "cell_type": "code",
   "execution_count": null,
   "metadata": {},
   "outputs": [],
   "source": [
    "def tri_area(base, height):\n",
    "\treturn (base * height) / 2\n",
    "\n",
    "print(f\"base - (3),height -(2), Triangle area - {tri_area(3,2)}\")\n"
   ]
  },
  {
   "cell_type": "code",
   "execution_count": null,
   "metadata": {},
   "outputs": [],
   "source": [
    "#Return the Next Number from the Integer Passed\n",
    "def addition(num):\n",
    "\tnum+=1\n",
    "\treturn num\n",
    "try:\n",
    "\n",
    "    assert addition(73), 74\n",
    "    assert addition(-9), -8\n",
    "    assert addition(2), 3\n",
    "    assert addition(0), 1 \n",
    "    assert addition(999), 1000\n",
    "\n",
    "except SyntaxWarning:\n",
    "    print(\"remove parentheses? \")"
   ]
  },
  {
   "cell_type": "code",
   "execution_count": null,
   "metadata": {},
   "outputs": [],
   "source": [
    "def addition(num):\n",
    "\tnum+=1\n",
    "\treturn num\n",
    "num = 73\n",
    "addition(num)\n",
    "print(f\"Number{num}, increamented value :{addition(num)}\")\n",
    "num = -9\n",
    "addition(-num)\n",
    "print(f\"Number{num}, increamented value :{addition(num)}\")\n",
    "num = 2\n",
    "addition(num)\n",
    "print(f\"Number{num}, increamented value :{addition(num)}\")\n",
    "num = 0\n",
    "addition(num) \n",
    "print(f\"Number{num}, increamented value :{addition(num)}\")\n",
    "num = 999\n",
    "addition(num)\n",
    "print(f\"Number{num}, increamented value :{addition(num)}\")"
   ]
  },
  {
   "cell_type": "code",
   "execution_count": 17,
   "metadata": {},
   "outputs": [
    {
     "name": "stdout",
     "output_type": "stream",
     "text": [
      "n:->> 3 sum of angles :->> 180\n",
      "n:->> 4 sum of angles :->> 360\n",
      "n:->> 5 sum of angles :->> 540\n",
      "n:->> 6 sum of angles :->> 720\n",
      "n:->> 7 sum of angles :->> 900\n",
      "n:->> 8 sum of angles :->> 1080\n",
      "n:->> 9 sum of angles :->> 1260\n",
      "n:->> 10 sum of angles :->> 1440\n",
      "n:->> 11 sum of angles :->> 1620\n",
      "n:->> 12 sum of angles :->> 1800\n",
      "n:->> 13 sum of angles :->> 1980\n",
      "n:->> 14 sum of angles :->> 2160\n",
      "n:->> 15 sum of angles :->> 2340\n",
      "n:->> 16 sum of angles :->> 2520\n",
      "n:->> 17 sum of angles :->> 2700\n"
     ]
    }
   ],
   "source": [
    "#Sum of Polygon Angles\n",
    "def sum_polygon(n):\n",
    "\t\tsum_internal_angles = (n - 2) * 180\n",
    "\t\treturn sum_internal_angles\n",
    "\n",
    "from random import randint\n",
    "for i in range(3, randint(10, 20)):\n",
    "    sum_polygon(i)\n",
    "    print(f\"n:->> {i} sum of angles :->> {sum_polygon(i)}\")\n",
    "    try:\n",
    "        assert sum_polygon(i), (i-2)*180\n",
    "    except SyntaxWarning:\n",
    "        print(\"remove parentheses? \")\n",
    " \n",
    "\n",
    "\n"
   ]
  },
  {
   "cell_type": "code",
   "execution_count": null,
   "metadata": {},
   "outputs": [],
   "source": [
    "#\n",
    "\n",
    "try:\n",
    "    assert \n",
    "    assert \n",
    "    assert \n",
    "    assert \n",
    "    assert \n",
    "\n",
    "except SyntaxWarning:\n",
    "    print(\"remove parentheses? \")\n",
    "    "
   ]
  },
  {
   "cell_type": "code",
   "execution_count": null,
   "metadata": {},
   "outputs": [],
   "source": [
    "#\n",
    "\n",
    "try:\n",
    "    assert \n",
    "    assert \n",
    "    assert \n",
    "    assert \n",
    "    assert \n",
    "\n",
    "except SyntaxWarning:\n",
    "    print(\"remove parentheses? \")"
   ]
  },
  {
   "cell_type": "code",
   "execution_count": null,
   "metadata": {},
   "outputs": [],
   "source": [
    "#\n",
    "\n",
    "try:\n",
    "    assert \n",
    "    assert \n",
    "    assert \n",
    "    assert \n",
    "    assert \n",
    "\n",
    "except SyntaxWarning:\n",
    "    print(\"remove parentheses? \")"
   ]
  },
  {
   "cell_type": "code",
   "execution_count": null,
   "metadata": {},
   "outputs": [],
   "source": [
    "#\n",
    "\n",
    "try:\n",
    "    assert \n",
    "    assert \n",
    "    assert \n",
    "    assert \n",
    "    assert \n",
    "\n",
    "except SyntaxWarning:\n",
    "    print(\"remove parentheses? \")"
   ]
  }
 ],
 "metadata": {
  "kernelspec": {
   "display_name": "Python 3",
   "language": "python",
   "name": "python3"
  },
  "language_info": {
   "codemirror_mode": {
    "name": "ipython",
    "version": 3
   },
   "file_extension": ".py",
   "mimetype": "text/x-python",
   "name": "python",
   "nbconvert_exporter": "python",
   "pygments_lexer": "ipython3",
   "version": "3.10.5"
  }
 },
 "nbformat": 4,
 "nbformat_minor": 2
}
