{
 "cells": [
  {
   "cell_type": "code",
   "execution_count": 1,
   "metadata": {},
   "outputs": [
    {
     "name": "stderr",
     "output_type": "stream",
     "text": [
      "<>:4: SyntaxWarning: assertion is always true, perhaps remove parentheses?\n",
      "<>:5: SyntaxWarning: assertion is always true, perhaps remove parentheses?\n",
      "<>:6: SyntaxWarning: assertion is always true, perhaps remove parentheses?\n",
      "<>:4: SyntaxWarning: assertion is always true, perhaps remove parentheses?\n",
      "<>:5: SyntaxWarning: assertion is always true, perhaps remove parentheses?\n",
      "<>:6: SyntaxWarning: assertion is always true, perhaps remove parentheses?\n",
      "C:\\Users\\biswa\\AppData\\Local\\Temp\\ipykernel_6416\\1336761287.py:4: SyntaxWarning: assertion is always true, perhaps remove parentheses?\n",
      "  assert(addition(2,3), 5)\n",
      "C:\\Users\\biswa\\AppData\\Local\\Temp\\ipykernel_6416\\1336761287.py:5: SyntaxWarning: assertion is always true, perhaps remove parentheses?\n",
      "  assert(addition(-3,-6), -9)\n",
      "C:\\Users\\biswa\\AppData\\Local\\Temp\\ipykernel_6416\\1336761287.py:6: SyntaxWarning: assertion is always true, perhaps remove parentheses?\n",
      "  assert(addition(7,3), 10)\n"
     ]
    }
   ],
   "source": [
    "# function of sum of two numbers\n",
    "def addition(a, b):\n",
    "    return a + b\n",
    "assert(addition(2,3), 5)\n",
    "assert(addition(-3,-6), -9)\n",
    "assert(addition(7,3), 10)"
   ]
  },
  {
   "cell_type": "code",
   "execution_count": 2,
   "metadata": {},
   "outputs": [
    {
     "name": "stderr",
     "output_type": "stream",
     "text": [
      "<>:4: SyntaxWarning: assertion is always true, perhaps remove parentheses?\n",
      "<>:5: SyntaxWarning: assertion is always true, perhaps remove parentheses?\n",
      "<>:6: SyntaxWarning: assertion is always true, perhaps remove parentheses?\n",
      "<>:7: SyntaxWarning: assertion is always true, perhaps remove parentheses?\n",
      "<>:4: SyntaxWarning: assertion is always true, perhaps remove parentheses?\n",
      "<>:5: SyntaxWarning: assertion is always true, perhaps remove parentheses?\n",
      "<>:6: SyntaxWarning: assertion is always true, perhaps remove parentheses?\n",
      "<>:7: SyntaxWarning: assertion is always true, perhaps remove parentheses?\n",
      "C:\\Users\\biswa\\AppData\\Local\\Temp\\ipykernel_6416\\2262467723.py:4: SyntaxWarning: assertion is always true, perhaps remove parentheses?\n",
      "  assert(convert(6), 360)\n",
      "C:\\Users\\biswa\\AppData\\Local\\Temp\\ipykernel_6416\\2262467723.py:5: SyntaxWarning: assertion is always true, perhaps remove parentheses?\n",
      "  assert(convert(4), 240)\n",
      "C:\\Users\\biswa\\AppData\\Local\\Temp\\ipykernel_6416\\2262467723.py:6: SyntaxWarning: assertion is always true, perhaps remove parentheses?\n",
      "  assert(convert(8), 480)\n",
      "C:\\Users\\biswa\\AppData\\Local\\Temp\\ipykernel_6416\\2262467723.py:7: SyntaxWarning: assertion is always true, perhaps remove parentheses?\n",
      "  assert(convert(60), 3600)\n"
     ]
    }
   ],
   "source": [
    "# Convert minutes into seconds\n",
    "def convert(minutes):\n",
    "\treturn minutes * 60\n",
    "\n",
    "assert(convert(6), 360)\n",
    "assert(convert(4), 240)\n",
    "assert(convert(8), 480)\n",
    "assert(convert(60), 3600)"
   ]
  }
 ],
 "metadata": {
  "kernelspec": {
   "display_name": "Python 3",
   "language": "python",
   "name": "python3"
  },
  "language_info": {
   "codemirror_mode": {
    "name": "ipython",
    "version": 3
   },
   "file_extension": ".py",
   "mimetype": "text/x-python",
   "name": "python",
   "nbconvert_exporter": "python",
   "pygments_lexer": "ipython3",
   "version": "3.10.5"
  }
 },
 "nbformat": 4,
 "nbformat_minor": 2
}
