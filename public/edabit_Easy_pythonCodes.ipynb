{
 "cells": [
  {
   "cell_type": "code",
   "execution_count": 9,
   "metadata": {},
   "outputs": [
    {
     "name": "stdout",
     "output_type": "stream",
     "text": [
      "Price: 100  Dicount: 75 Dicounted Price: 25.0\n",
      "Price: 211  Dicount: 50 Dicounted Price: 105.5\n",
      "Price: 593  Dicount: 61 Dicounted Price: 231.27\n",
      "Price: 1693  Dicount: 80 Dicounted Price: 338.6\n",
      "Price: 700  Dicount: 10 Dicounted Price: 630.0\n"
     ]
    }
   ],
   "source": [
    "# Find the Discount Final Price\n",
    "def dis(price, discount):\n",
    "    return round((price * (1 - discount / 100)),2)\n",
    "try:\n",
    "    assert dis(100, 75), 25\n",
    "    assert dis(211, 50), 105.5\n",
    "    assert dis(593, 61), 231.27\n",
    "    assert dis(1693, 80), 338.6\n",
    "    assert dis(700, 10), 630\n",
    "except SyntaxWarning:\n",
    "    print(\"remove parentheses? \")    \n",
    "price = 100\n",
    "discount = 75\n",
    "print(f\"Price: {price}  Dicount: {discount} Dicounted Price: {dis(price,discount)}\")\n",
    "price = 211\n",
    "discount = 50\n",
    "print(f\"Price: {price}  Dicount: {discount} Dicounted Price: {dis(price,discount)}\")\n",
    "price = 593\n",
    "discount = 61\n",
    "print(f\"Price: {price}  Dicount: {discount} Dicounted Price: {dis(price,discount)}\")\n",
    "price = 1693\n",
    "discount = 80\n",
    "print(f\"Price: {price}  Dicount: {discount} Dicounted Price: {dis(price,discount)}\")\n",
    "price = 700\n",
    "discount = 10\n",
    "print(f\"Price: {price}  Dicount: {discount} Dicounted Price: {dis(price,discount)}\")\n"
   ]
  },
  {
   "cell_type": "code",
   "execution_count": null,
   "metadata": {},
   "outputs": [],
   "source": [
    "#\n",
    "\n",
    "try:\n",
    "    assert \n",
    "    assert \n",
    "    assert \n",
    "    assert \n",
    "    assert \n",
    "\n",
    "except SyntaxWarning:\n",
    "    print(\"remove parentheses? \")"
   ]
  },
  {
   "cell_type": "code",
   "execution_count": 8,
   "metadata": {},
   "outputs": [
    {
     "name": "stdout",
     "output_type": "stream",
     "text": [
      "Price: 473  Dicount: 33 Dicounted Price: 316.91\n"
     ]
    }
   ],
   "source": [
    "def dis(price, discount):\n",
    "    return round((price * (1 - discount / 100)),2)\n",
    "\n",
    "price = 473\n",
    "discount = 33\n",
    "print(f\"Price: {price}  Dicount: {discount} Dicounted Price: {dis(price,discount)}\")\n",
    "# print(dis(473,33))"
   ]
  },
  {
   "cell_type": "code",
   "execution_count": 2,
   "metadata": {},
   "outputs": [
    {
     "name": "stdout",
     "output_type": "stream",
     "text": [
      "2.33\n"
     ]
    }
   ],
   "source": [
    "x = 7\n",
    "y = 3\n",
    "z = x/y\n",
    "print(round(z, 2))"
   ]
  },
  {
   "cell_type": "code",
   "execution_count": null,
   "metadata": {},
   "outputs": [],
   "source": [
    "#\n",
    "\n",
    "try:\n",
    "    assert \n",
    "    assert \n",
    "    assert \n",
    "    assert \n",
    "    assert \n",
    "\n",
    "except SyntaxWarning:\n",
    "    print(\"remove parentheses? \")"
   ]
  }
 ],
 "metadata": {
  "kernelspec": {
   "display_name": "Python 3",
   "language": "python",
   "name": "python3"
  },
  "language_info": {
   "codemirror_mode": {
    "name": "ipython",
    "version": 3
   },
   "file_extension": ".py",
   "mimetype": "text/x-python",
   "name": "python",
   "nbconvert_exporter": "python",
   "pygments_lexer": "ipython3",
   "version": "3.10.5"
  }
 },
 "nbformat": 4,
 "nbformat_minor": 2
}
